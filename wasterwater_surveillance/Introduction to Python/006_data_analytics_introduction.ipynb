{
 "cells": [
  {
   "cell_type": "markdown",
   "metadata": {},
   "source": [
    "### Introduction to Data Analytics in Python\n",
    "\n",
    "Data analytics is the process of extracting insights from raw data. In Python, we use pandas, NumPy, Matplotlib, and other libraries to clean, process, and visualize data. In bioinformatics, data analytics is crucial for analyzing genomic data, AMR resistance profiles, sequencing results, and variant interpretations."
   ]
  },
  {
   "cell_type": "markdown",
   "metadata": {},
   "source": [
    "Steps in Data Analytics\n",
    "When analyzing biological datasets, we typically follow these key steps:\n",
    "\n",
    "### Data Collection & Loading\n",
    "Read data from CSV, VCF, FASTA, TSV, or databases.\n",
    "Load data into Python using pandas.read_csv(), open(), or json.load().\n",
    "\n",
    "### Data Exploration & Inspection\n",
    "Check dataset structure using .head(), .info(), .describe().\n",
    "Identify missing values using .isnull().sum().\n",
    "Understand data types (int, float, str, bool).\n",
    "\n",
    "### Data Cleaning\n",
    "Handle missing values (fillna(), dropna()).\n",
    "Convert data types (astype() for numerical operations).\n",
    "Remove duplicates (drop_duplicates()).\n",
    "\n",
    "### Data Filtering & Transformation\n",
    "Filter specific genes, variants, or resistance markers using .loc[].\n",
    "Create new columns with calculations (df[\"new_col\"] = df[\"col1\"] * 2).\n",
    "Aggregate and group data (groupby()).\n",
    "\n",
    "### Data Visualization (Next Module)\n",
    "Generate bar charts, histograms, box plots using matplotlib and seaborn.\n",
    "Create scatter plots for gene expression.\n",
    "Plot variant frequencies in sequencing data.\n",
    "\n",
    "### Insights & Reporting (Next Module)\n",
    "Identify trends and patterns in AMR datasets.\n",
    "Export processed data to CSV or JSON for further analysis.\n",
    "Generate summary statistics for decision-making."
   ]
  },
  {
   "cell_type": "markdown",
   "metadata": {},
   "source": [
    "# Let's dive in!"
   ]
  },
  {
   "cell_type": "code",
   "execution_count": 4,
   "metadata": {},
   "outputs": [
    {
     "name": "stdout",
     "output_type": "stream",
     "text": [
      "  Sample_ID      Gene Resistance_Class  Detected  MIC_µg/mL\n",
      "0  Sample_1  blaCTX-M      Beta-lactam      True        4.0\n",
      "1  Sample_2      mecA      Methicillin      True       16.0\n",
      "2  Sample_3      tetM     Tetracycline     False        NaN\n",
      "3  Sample_4     aadA1   Aminoglycoside      True        8.0\n",
      "4  Sample_5      ermB        Macrolide     False        NaN\n"
     ]
    }
   ],
   "source": [
    "# Staring with importing pandas and loading my csv file.\n",
    "\n",
    "import pandas as pd\n",
    "\n",
    "# Load a CSV file\n",
    "amr_df = pd.read_csv(\"data/Synthetic_AMR_Dataset.csv\")\n",
    "\n",
    "# Display the first few rows\n",
    "print(amr_df.head())\n"
   ]
  },
  {
   "cell_type": "code",
   "execution_count": null,
   "metadata": {},
   "outputs": [],
   "source": [
    "# CODE PLAYGROUND"
   ]
  },
  {
   "cell_type": "code",
   "execution_count": null,
   "metadata": {},
   "outputs": [],
   "source": [
    "# How to load a TSV file\n",
    "tsv_df = pd.read_csv(\"metadata.tsv\", sep=\"\\t\")\n",
    "\n",
    "# Show basic info\n",
    "print(tsv_df.info())\n"
   ]
  },
  {
   "cell_type": "code",
   "execution_count": null,
   "metadata": {},
   "outputs": [],
   "source": [
    "# CODE PLAYGROUND"
   ]
  },
  {
   "cell_type": "code",
   "execution_count": 1,
   "metadata": {},
   "outputs": [
    {
     "ename": "FileNotFoundError",
     "evalue": "[Errno 2] No such file or directory: 'sequences.fasta'",
     "output_type": "error",
     "traceback": [
      "\u001b[0;31m---------------------------------------------------------------------------\u001b[0m",
      "\u001b[0;31mFileNotFoundError\u001b[0m                         Traceback (most recent call last)",
      "\u001b[0;32m/tmp/ipykernel_58115/365799285.py\u001b[0m in \u001b[0;36m<module>\u001b[0;34m\u001b[0m\n\u001b[1;32m      5\u001b[0m \u001b[0;34m\u001b[0m\u001b[0m\n\u001b[1;32m      6\u001b[0m \u001b[0;31m# Load a FASTA file\u001b[0m\u001b[0;34m\u001b[0m\u001b[0;34m\u001b[0m\u001b[0m\n\u001b[0;32m----> 7\u001b[0;31m \u001b[0;32mfor\u001b[0m \u001b[0mrecord\u001b[0m \u001b[0;32min\u001b[0m \u001b[0mSeqIO\u001b[0m\u001b[0;34m.\u001b[0m\u001b[0mparse\u001b[0m\u001b[0;34m(\u001b[0m\u001b[0;34m\"sequences.fasta\"\u001b[0m\u001b[0;34m,\u001b[0m \u001b[0;34m\"fasta\"\u001b[0m\u001b[0;34m)\u001b[0m\u001b[0;34m:\u001b[0m\u001b[0;34m\u001b[0m\u001b[0;34m\u001b[0m\u001b[0m\n\u001b[0m\u001b[1;32m      8\u001b[0m     \u001b[0mprint\u001b[0m\u001b[0;34m(\u001b[0m\u001b[0;34mf\"ID: {record.id}, Sequence: {record.seq[:50]}...\"\u001b[0m\u001b[0;34m)\u001b[0m  \u001b[0;31m# Print first 50 bases\u001b[0m\u001b[0;34m\u001b[0m\u001b[0;34m\u001b[0m\u001b[0m\n",
      "\u001b[0;32m/usr/lib/python3/dist-packages/Bio/SeqIO/__init__.py\u001b[0m in \u001b[0;36mparse\u001b[0;34m(handle, format, alphabet)\u001b[0m\n\u001b[1;32m    603\u001b[0m     \u001b[0miterator_generator\u001b[0m \u001b[0;34m=\u001b[0m \u001b[0m_FormatToIterator\u001b[0m\u001b[0;34m.\u001b[0m\u001b[0mget\u001b[0m\u001b[0;34m(\u001b[0m\u001b[0mformat\u001b[0m\u001b[0;34m)\u001b[0m\u001b[0;34m\u001b[0m\u001b[0;34m\u001b[0m\u001b[0m\n\u001b[1;32m    604\u001b[0m     \u001b[0;32mif\u001b[0m \u001b[0miterator_generator\u001b[0m\u001b[0;34m:\u001b[0m\u001b[0;34m\u001b[0m\u001b[0;34m\u001b[0m\u001b[0m\n\u001b[0;32m--> 605\u001b[0;31m         \u001b[0;32mreturn\u001b[0m \u001b[0miterator_generator\u001b[0m\u001b[0;34m(\u001b[0m\u001b[0mhandle\u001b[0m\u001b[0;34m)\u001b[0m\u001b[0;34m\u001b[0m\u001b[0;34m\u001b[0m\u001b[0m\n\u001b[0m\u001b[1;32m    606\u001b[0m     \u001b[0;32mif\u001b[0m \u001b[0mformat\u001b[0m \u001b[0;32min\u001b[0m \u001b[0mAlignIO\u001b[0m\u001b[0;34m.\u001b[0m\u001b[0m_FormatToIterator\u001b[0m\u001b[0;34m:\u001b[0m\u001b[0;34m\u001b[0m\u001b[0;34m\u001b[0m\u001b[0m\n\u001b[1;32m    607\u001b[0m         \u001b[0;31m# Use Bio.AlignIO to read in the alignments\u001b[0m\u001b[0;34m\u001b[0m\u001b[0;34m\u001b[0m\u001b[0m\n",
      "\u001b[0;32m/usr/lib/python3/dist-packages/Bio/SeqIO/FastaIO.py\u001b[0m in \u001b[0;36m__init__\u001b[0;34m(self, source, alphabet, title2ids)\u001b[0m\n\u001b[1;32m    181\u001b[0m             \u001b[0;32mraise\u001b[0m \u001b[0mValueError\u001b[0m\u001b[0;34m(\u001b[0m\u001b[0;34m\"The alphabet argument is no longer supported\"\u001b[0m\u001b[0;34m)\u001b[0m\u001b[0;34m\u001b[0m\u001b[0;34m\u001b[0m\u001b[0m\n\u001b[1;32m    182\u001b[0m         \u001b[0mself\u001b[0m\u001b[0;34m.\u001b[0m\u001b[0mtitle2ids\u001b[0m \u001b[0;34m=\u001b[0m \u001b[0mtitle2ids\u001b[0m\u001b[0;34m\u001b[0m\u001b[0;34m\u001b[0m\u001b[0m\n\u001b[0;32m--> 183\u001b[0;31m         \u001b[0msuper\u001b[0m\u001b[0;34m(\u001b[0m\u001b[0;34m)\u001b[0m\u001b[0;34m.\u001b[0m\u001b[0m__init__\u001b[0m\u001b[0;34m(\u001b[0m\u001b[0msource\u001b[0m\u001b[0;34m,\u001b[0m \u001b[0mmode\u001b[0m\u001b[0;34m=\u001b[0m\u001b[0;34m\"t\"\u001b[0m\u001b[0;34m,\u001b[0m \u001b[0mfmt\u001b[0m\u001b[0;34m=\u001b[0m\u001b[0;34m\"Fasta\"\u001b[0m\u001b[0;34m)\u001b[0m\u001b[0;34m\u001b[0m\u001b[0;34m\u001b[0m\u001b[0m\n\u001b[0m\u001b[1;32m    184\u001b[0m \u001b[0;34m\u001b[0m\u001b[0m\n\u001b[1;32m    185\u001b[0m     \u001b[0;32mdef\u001b[0m \u001b[0mparse\u001b[0m\u001b[0;34m(\u001b[0m\u001b[0mself\u001b[0m\u001b[0;34m,\u001b[0m \u001b[0mhandle\u001b[0m\u001b[0;34m)\u001b[0m\u001b[0;34m:\u001b[0m\u001b[0;34m\u001b[0m\u001b[0;34m\u001b[0m\u001b[0m\n",
      "\u001b[0;32m/usr/lib/python3/dist-packages/Bio/SeqIO/Interfaces.py\u001b[0m in \u001b[0;36m__init__\u001b[0;34m(self, source, alphabet, mode, fmt)\u001b[0m\n\u001b[1;32m     46\u001b[0m             \u001b[0;32mraise\u001b[0m \u001b[0mValueError\u001b[0m\u001b[0;34m(\u001b[0m\u001b[0;34m\"The alphabet argument is no longer supported\"\u001b[0m\u001b[0;34m)\u001b[0m\u001b[0;34m\u001b[0m\u001b[0;34m\u001b[0m\u001b[0m\n\u001b[1;32m     47\u001b[0m         \u001b[0;32mtry\u001b[0m\u001b[0;34m:\u001b[0m\u001b[0;34m\u001b[0m\u001b[0;34m\u001b[0m\u001b[0m\n\u001b[0;32m---> 48\u001b[0;31m             \u001b[0mself\u001b[0m\u001b[0;34m.\u001b[0m\u001b[0mstream\u001b[0m \u001b[0;34m=\u001b[0m \u001b[0mopen\u001b[0m\u001b[0;34m(\u001b[0m\u001b[0msource\u001b[0m\u001b[0;34m,\u001b[0m \u001b[0;34m\"r\"\u001b[0m \u001b[0;34m+\u001b[0m \u001b[0mmode\u001b[0m\u001b[0;34m)\u001b[0m\u001b[0;34m\u001b[0m\u001b[0;34m\u001b[0m\u001b[0m\n\u001b[0m\u001b[1;32m     49\u001b[0m             \u001b[0mself\u001b[0m\u001b[0;34m.\u001b[0m\u001b[0mshould_close_stream\u001b[0m \u001b[0;34m=\u001b[0m \u001b[0;32mTrue\u001b[0m\u001b[0;34m\u001b[0m\u001b[0;34m\u001b[0m\u001b[0m\n\u001b[1;32m     50\u001b[0m         \u001b[0;32mexcept\u001b[0m \u001b[0mTypeError\u001b[0m\u001b[0;34m:\u001b[0m  \u001b[0;31m# not a path, assume we received a stream\u001b[0m\u001b[0;34m\u001b[0m\u001b[0;34m\u001b[0m\u001b[0m\n",
      "\u001b[0;31mFileNotFoundError\u001b[0m: [Errno 2] No such file or directory: 'sequences.fasta'"
     ]
    }
   ],
   "source": [
    "# How to load a fasta file. \n",
    "# WARNING!!! Fasta files are big files and might crash your notebook!!!\n",
    "\n",
    "from Bio import SeqIO  # Requires Biopython\n",
    "\n",
    "# Load a FASTA file\n",
    "for record in SeqIO.parse(\"sequences.fasta\", \"fasta\"):\n",
    "    print(f\"ID: {record.id}, Sequence: {record.seq[:50]}...\")  # Print first 50 bases\n"
   ]
  },
  {
   "cell_type": "code",
   "execution_count": null,
   "metadata": {},
   "outputs": [],
   "source": [
    "# CODE PLAYGROUND"
   ]
  },
  {
   "cell_type": "code",
   "execution_count": 6,
   "metadata": {},
   "outputs": [
    {
     "data": {
      "text/html": [
       "<div>\n",
       "<style scoped>\n",
       "    .dataframe tbody tr th:only-of-type {\n",
       "        vertical-align: middle;\n",
       "    }\n",
       "\n",
       "    .dataframe tbody tr th {\n",
       "        vertical-align: top;\n",
       "    }\n",
       "\n",
       "    .dataframe thead th {\n",
       "        text-align: right;\n",
       "    }\n",
       "</style>\n",
       "<table border=\"1\" class=\"dataframe\">\n",
       "  <thead>\n",
       "    <tr style=\"text-align: right;\">\n",
       "      <th></th>\n",
       "      <th>Sample_ID</th>\n",
       "      <th>Gene</th>\n",
       "      <th>Resistance_Class</th>\n",
       "      <th>Detected</th>\n",
       "      <th>MIC_µg/mL</th>\n",
       "    </tr>\n",
       "  </thead>\n",
       "  <tbody>\n",
       "    <tr>\n",
       "      <th>0</th>\n",
       "      <td>Sample_1</td>\n",
       "      <td>blaCTX-M</td>\n",
       "      <td>Beta-lactam</td>\n",
       "      <td>True</td>\n",
       "      <td>4.0</td>\n",
       "    </tr>\n",
       "    <tr>\n",
       "      <th>1</th>\n",
       "      <td>Sample_2</td>\n",
       "      <td>mecA</td>\n",
       "      <td>Methicillin</td>\n",
       "      <td>True</td>\n",
       "      <td>16.0</td>\n",
       "    </tr>\n",
       "    <tr>\n",
       "      <th>2</th>\n",
       "      <td>Sample_3</td>\n",
       "      <td>tetM</td>\n",
       "      <td>Tetracycline</td>\n",
       "      <td>False</td>\n",
       "      <td>NaN</td>\n",
       "    </tr>\n",
       "    <tr>\n",
       "      <th>3</th>\n",
       "      <td>Sample_4</td>\n",
       "      <td>aadA1</td>\n",
       "      <td>Aminoglycoside</td>\n",
       "      <td>True</td>\n",
       "      <td>8.0</td>\n",
       "    </tr>\n",
       "    <tr>\n",
       "      <th>4</th>\n",
       "      <td>Sample_5</td>\n",
       "      <td>ermB</td>\n",
       "      <td>Macrolide</td>\n",
       "      <td>False</td>\n",
       "      <td>NaN</td>\n",
       "    </tr>\n",
       "  </tbody>\n",
       "</table>\n",
       "</div>"
      ],
      "text/plain": [
       "  Sample_ID      Gene Resistance_Class  Detected  MIC_µg/mL\n",
       "0  Sample_1  blaCTX-M      Beta-lactam      True        4.0\n",
       "1  Sample_2      mecA      Methicillin      True       16.0\n",
       "2  Sample_3      tetM     Tetracycline     False        NaN\n",
       "3  Sample_4     aadA1   Aminoglycoside      True        8.0\n",
       "4  Sample_5      ermB        Macrolide     False        NaN"
      ]
     },
     "execution_count": 6,
     "metadata": {},
     "output_type": "execute_result"
    }
   ],
   "source": [
    "# Let's continue with amr_df\n",
    "\n",
    "amr_df.head()"
   ]
  },
  {
   "cell_type": "code",
   "execution_count": 7,
   "metadata": {},
   "outputs": [
    {
     "data": {
      "text/html": [
       "<div>\n",
       "<style scoped>\n",
       "    .dataframe tbody tr th:only-of-type {\n",
       "        vertical-align: middle;\n",
       "    }\n",
       "\n",
       "    .dataframe tbody tr th {\n",
       "        vertical-align: top;\n",
       "    }\n",
       "\n",
       "    .dataframe thead th {\n",
       "        text-align: right;\n",
       "    }\n",
       "</style>\n",
       "<table border=\"1\" class=\"dataframe\">\n",
       "  <thead>\n",
       "    <tr style=\"text-align: right;\">\n",
       "      <th></th>\n",
       "      <th>MIC_µg/mL</th>\n",
       "    </tr>\n",
       "  </thead>\n",
       "  <tbody>\n",
       "    <tr>\n",
       "      <th>count</th>\n",
       "      <td>7.000000</td>\n",
       "    </tr>\n",
       "    <tr>\n",
       "      <th>mean</th>\n",
       "      <td>9.285714</td>\n",
       "    </tr>\n",
       "    <tr>\n",
       "      <th>std</th>\n",
       "      <td>11.294752</td>\n",
       "    </tr>\n",
       "    <tr>\n",
       "      <th>min</th>\n",
       "      <td>1.000000</td>\n",
       "    </tr>\n",
       "    <tr>\n",
       "      <th>25%</th>\n",
       "      <td>2.000000</td>\n",
       "    </tr>\n",
       "    <tr>\n",
       "      <th>50%</th>\n",
       "      <td>4.000000</td>\n",
       "    </tr>\n",
       "    <tr>\n",
       "      <th>75%</th>\n",
       "      <td>12.000000</td>\n",
       "    </tr>\n",
       "    <tr>\n",
       "      <th>max</th>\n",
       "      <td>32.000000</td>\n",
       "    </tr>\n",
       "  </tbody>\n",
       "</table>\n",
       "</div>"
      ],
      "text/plain": [
       "       MIC_µg/mL\n",
       "count   7.000000\n",
       "mean    9.285714\n",
       "std    11.294752\n",
       "min     1.000000\n",
       "25%     2.000000\n",
       "50%     4.000000\n",
       "75%    12.000000\n",
       "max    32.000000"
      ]
     },
     "execution_count": 7,
     "metadata": {},
     "output_type": "execute_result"
    }
   ],
   "source": [
    "amr_df.describe()"
   ]
  },
  {
   "cell_type": "code",
   "execution_count": 10,
   "metadata": {},
   "outputs": [
    {
     "data": {
      "text/html": [
       "<div>\n",
       "<style scoped>\n",
       "    .dataframe tbody tr th:only-of-type {\n",
       "        vertical-align: middle;\n",
       "    }\n",
       "\n",
       "    .dataframe tbody tr th {\n",
       "        vertical-align: top;\n",
       "    }\n",
       "\n",
       "    .dataframe thead th {\n",
       "        text-align: right;\n",
       "    }\n",
       "</style>\n",
       "<table border=\"1\" class=\"dataframe\">\n",
       "  <thead>\n",
       "    <tr style=\"text-align: right;\">\n",
       "      <th></th>\n",
       "      <th>Sample_ID</th>\n",
       "      <th>AMR_Gene</th>\n",
       "      <th>Resistance_Class</th>\n",
       "      <th>Detected</th>\n",
       "      <th>MIC_µg/mL</th>\n",
       "    </tr>\n",
       "  </thead>\n",
       "  <tbody>\n",
       "    <tr>\n",
       "      <th>0</th>\n",
       "      <td>Sample_1</td>\n",
       "      <td>blaCTX-M</td>\n",
       "      <td>Beta-lactam</td>\n",
       "      <td>True</td>\n",
       "      <td>4.0</td>\n",
       "    </tr>\n",
       "    <tr>\n",
       "      <th>1</th>\n",
       "      <td>Sample_2</td>\n",
       "      <td>mecA</td>\n",
       "      <td>Methicillin</td>\n",
       "      <td>True</td>\n",
       "      <td>16.0</td>\n",
       "    </tr>\n",
       "    <tr>\n",
       "      <th>2</th>\n",
       "      <td>Sample_3</td>\n",
       "      <td>tetM</td>\n",
       "      <td>Tetracycline</td>\n",
       "      <td>False</td>\n",
       "      <td>NaN</td>\n",
       "    </tr>\n",
       "    <tr>\n",
       "      <th>3</th>\n",
       "      <td>Sample_4</td>\n",
       "      <td>aadA1</td>\n",
       "      <td>Aminoglycoside</td>\n",
       "      <td>True</td>\n",
       "      <td>8.0</td>\n",
       "    </tr>\n",
       "    <tr>\n",
       "      <th>4</th>\n",
       "      <td>Sample_5</td>\n",
       "      <td>ermB</td>\n",
       "      <td>Macrolide</td>\n",
       "      <td>False</td>\n",
       "      <td>NaN</td>\n",
       "    </tr>\n",
       "  </tbody>\n",
       "</table>\n",
       "</div>"
      ],
      "text/plain": [
       "  Sample_ID  AMR_Gene Resistance_Class  Detected  MIC_µg/mL\n",
       "0  Sample_1  blaCTX-M      Beta-lactam      True        4.0\n",
       "1  Sample_2      mecA      Methicillin      True       16.0\n",
       "2  Sample_3      tetM     Tetracycline     False        NaN\n",
       "3  Sample_4     aadA1   Aminoglycoside      True        8.0\n",
       "4  Sample_5      ermB        Macrolide     False        NaN"
      ]
     },
     "execution_count": 10,
     "metadata": {},
     "output_type": "execute_result"
    }
   ],
   "source": [
    "renamed_amr_df = amr_df.rename(columns={\"Gene\":\"AMR_Gene\"})\n",
    "\n",
    "renamed_amr_df.head()"
   ]
  },
  {
   "cell_type": "code",
   "execution_count": null,
   "metadata": {},
   "outputs": [],
   "source": [
    "# Renaming all the columns at once\n",
    "\n",
    "amr_df.columns = [\"Sample\", \"AMR_Gene\", \"Resistance_Type\", \"Detected\", \"MIC\"]\n",
    "print(df.head())\n",
    "\n",
    "df.to_csv(\"renamed_amr_data.csv\", index=False)\n"
   ]
  },
  {
   "cell_type": "code",
   "execution_count": null,
   "metadata": {},
   "outputs": [],
   "source": [
    "# CODE PLAYGROUND"
   ]
  },
  {
   "cell_type": "code",
   "execution_count": 11,
   "metadata": {},
   "outputs": [
    {
     "name": "stdout",
     "output_type": "stream",
     "text": [
      "Sample_ID           0\n",
      "Gene                0\n",
      "Resistance_Class    0\n",
      "Detected            0\n",
      "MIC_µg/mL           3\n",
      "dtype: int64\n"
     ]
    }
   ],
   "source": [
    "import pandas as pd\n",
    "\n",
    "# Count missing values in each column\n",
    "print(amr_df.isnull().sum())\n"
   ]
  },
  {
   "cell_type": "code",
   "execution_count": 13,
   "metadata": {},
   "outputs": [
    {
     "name": "stdout",
     "output_type": "stream",
     "text": [
      "  Sample_ID    Gene Resistance_Class  Detected  MIC_µg/mL\n",
      "2  Sample_3    tetM     Tetracycline     False        NaN\n",
      "4  Sample_5    ermB        Macrolide     False        NaN\n",
      "7  Sample_8  blaOXA      Beta-lactam     False        NaN\n"
     ]
    }
   ],
   "source": [
    "# Let's find what are the rows that I'm looking for?\n",
    "\n",
    "print(amr_df[amr_df.isnull().any(axis=1)])\n"
   ]
  },
  {
   "cell_type": "code",
   "execution_count": 15,
   "metadata": {},
   "outputs": [
    {
     "name": "stdout",
     "output_type": "stream",
     "text": [
      "  Sample_ID    Gene Resistance_Class  Detected  MIC_µg/mL\n",
      "2  Sample_3    tetM     Tetracycline     False        NaN\n",
      "4  Sample_5    ermB        Macrolide     False        NaN\n",
      "7  Sample_8  blaOXA      Beta-lactam     False        NaN\n"
     ]
    }
   ],
   "source": [
    "# Let's check missing values in a spesific column\n",
    "\n",
    "print(amr_df[amr_df[\"MIC_µg/mL\"].isnull()])\n"
   ]
  },
  {
   "cell_type": "code",
   "execution_count": 16,
   "metadata": {},
   "outputs": [
    {
     "name": "stdout",
     "output_type": "stream",
     "text": [
      "True\n"
     ]
    }
   ],
   "source": [
    "# Checking if the entire dataset has missing values\n",
    "\n",
    "print(amr_df.isnull().values.any())\n",
    "\n",
    "# What is the output?\n"
   ]
  },
  {
   "cell_type": "code",
   "execution_count": 18,
   "metadata": {},
   "outputs": [
    {
     "data": {
      "text/plain": [
       "Sample_ID                    Sample_1Sample_2Sample_4Sample_6Sample_7\n",
       "Gene                                      blaCTX-MmecAaadA1blaTEMvanA\n",
       "Resistance_Class    Beta-lactamMethicillinAminoglycosideBeta-lacta...\n",
       "Detected                                                            5\n",
       "MIC_µg/mL                                                        62.0\n",
       "dtype: object"
      ]
     },
     "execution_count": 18,
     "metadata": {},
     "output_type": "execute_result"
    }
   ],
   "source": [
    "amr_df_cleaned = amr_df.dropna()\n",
    "amr_df_cleaned.head().sum()\n"
   ]
  },
  {
   "cell_type": "code",
   "execution_count": 19,
   "metadata": {},
   "outputs": [
    {
     "data": {
      "text/plain": [
       "Sample_ID           Sample_1Sample_2Sample_3Sample_4Sample_5Sample...\n",
       "Gene                blaCTX-MmecAtetMaadA1ermBblaTEMvanAblaOXAmphAsul1\n",
       "Resistance_Class    Beta-lactamMethicillinTetracyclineAminoglycosi...\n",
       "Detected                                                            7\n",
       "MIC_µg/mL                                                        65.0\n",
       "dtype: object"
      ]
     },
     "execution_count": 19,
     "metadata": {},
     "output_type": "execute_result"
    }
   ],
   "source": [
    "amr_df.sum()"
   ]
  },
  {
   "cell_type": "code",
   "execution_count": 21,
   "metadata": {},
   "outputs": [
    {
     "data": {
      "text/html": [
       "<div>\n",
       "<style scoped>\n",
       "    .dataframe tbody tr th:only-of-type {\n",
       "        vertical-align: middle;\n",
       "    }\n",
       "\n",
       "    .dataframe tbody tr th {\n",
       "        vertical-align: top;\n",
       "    }\n",
       "\n",
       "    .dataframe thead th {\n",
       "        text-align: right;\n",
       "    }\n",
       "</style>\n",
       "<table border=\"1\" class=\"dataframe\">\n",
       "  <thead>\n",
       "    <tr style=\"text-align: right;\">\n",
       "      <th></th>\n",
       "      <th>Sample_ID</th>\n",
       "      <th>Gene</th>\n",
       "      <th>Resistance_Class</th>\n",
       "      <th>Detected</th>\n",
       "      <th>MIC_µg/mL</th>\n",
       "    </tr>\n",
       "  </thead>\n",
       "  <tbody>\n",
       "    <tr>\n",
       "      <th>0</th>\n",
       "      <td>Sample_1</td>\n",
       "      <td>blaCTX-M</td>\n",
       "      <td>Beta-lactam</td>\n",
       "      <td>True</td>\n",
       "      <td>4.0</td>\n",
       "    </tr>\n",
       "    <tr>\n",
       "      <th>1</th>\n",
       "      <td>Sample_2</td>\n",
       "      <td>mecA</td>\n",
       "      <td>Methicillin</td>\n",
       "      <td>True</td>\n",
       "      <td>16.0</td>\n",
       "    </tr>\n",
       "    <tr>\n",
       "      <th>2</th>\n",
       "      <td>Sample_3</td>\n",
       "      <td>tetM</td>\n",
       "      <td>Tetracycline</td>\n",
       "      <td>False</td>\n",
       "      <td>0.0</td>\n",
       "    </tr>\n",
       "    <tr>\n",
       "      <th>3</th>\n",
       "      <td>Sample_4</td>\n",
       "      <td>aadA1</td>\n",
       "      <td>Aminoglycoside</td>\n",
       "      <td>True</td>\n",
       "      <td>8.0</td>\n",
       "    </tr>\n",
       "    <tr>\n",
       "      <th>4</th>\n",
       "      <td>Sample_5</td>\n",
       "      <td>ermB</td>\n",
       "      <td>Macrolide</td>\n",
       "      <td>False</td>\n",
       "      <td>0.0</td>\n",
       "    </tr>\n",
       "  </tbody>\n",
       "</table>\n",
       "</div>"
      ],
      "text/plain": [
       "  Sample_ID      Gene Resistance_Class  Detected  MIC_µg/mL\n",
       "0  Sample_1  blaCTX-M      Beta-lactam      True        4.0\n",
       "1  Sample_2      mecA      Methicillin      True       16.0\n",
       "2  Sample_3      tetM     Tetracycline     False        0.0\n",
       "3  Sample_4     aadA1   Aminoglycoside      True        8.0\n",
       "4  Sample_5      ermB        Macrolide     False        0.0"
      ]
     },
     "execution_count": 21,
     "metadata": {},
     "output_type": "execute_result"
    }
   ],
   "source": [
    "# rather than deleting them, can we fill them with beautiful numeric values?\n",
    "\n",
    "amr_df[\"MIC_µg/mL\"] = amr_df[\"MIC_µg/mL\"].fillna(0)\n",
    "amr_df.head()"
   ]
  },
  {
   "cell_type": "code",
   "execution_count": 25,
   "metadata": {},
   "outputs": [
    {
     "name": "stdout",
     "output_type": "stream",
     "text": [
      "  Sample_ID  Gene Resistance_Class  Detected  MIC_µg/mL\n",
      "1  Sample_2  mecA      Methicillin      True       16.0\n",
      "6  Sample_7  vanA       Vancomycin      True       32.0\n"
     ]
    }
   ],
   "source": [
    "# Okay, now let's try to filter some of the MIC values\n",
    "\n",
    "# First, we are trying to be sure the values are numeric\n",
    "\n",
    "amr_df[\"MIC_µg/mL\"] = pd.to_numeric(amr_df[\"MIC_µg/mL\"], errors=\"coerce\")\n",
    "\n",
    "# Second is the filtering\n",
    "filtered_mic_df = amr_df[amr_df[\"MIC_µg/mL\"] > 8]\n",
    "print(filtered_mic_df)\n"
   ]
  },
  {
   "cell_type": "code",
   "execution_count": null,
   "metadata": {},
   "outputs": [],
   "source": [
    "# CODE PLAYGROUND"
   ]
  },
  {
   "cell_type": "code",
   "execution_count": 30,
   "metadata": {},
   "outputs": [
    {
     "name": "stdout",
     "output_type": "stream",
     "text": [
      "  Sample_ID      Gene Resistance_Class Detected  MIC_µg/mL\n",
      "0  Sample_1  blaCTX-M      Beta-lactam     True        4.0\n",
      "1  Sample_2      mecA      Methicillin     True       16.0\n",
      "2  Sample_3      tetM     Tetracycline    False        0.0\n",
      "3  Sample_4     aadA1   Aminoglycoside     True        8.0\n",
      "4  Sample_5      ermB        Macrolide    False        0.0\n",
      "Sample_ID            object\n",
      "Gene                 object\n",
      "Resistance_Class     object\n",
      "Detected             object\n",
      "MIC_µg/mL           float64\n",
      "dtype: object\n"
     ]
    }
   ],
   "source": [
    "# How can we change the type of the data? Let's see\n",
    "\n",
    "# Convert boolean column 'Detected' to object type\n",
    "amr_df[\"Detected\"] = amr_df[\"Detected\"].astype(object)\n",
    "\n",
    "# Display the updated dataframe\n",
    "print(amr_df.head())\n",
    "\n",
    "print(amr_df.dtypes)\n",
    "\n"
   ]
  },
  {
   "cell_type": "code",
   "execution_count": null,
   "metadata": {},
   "outputs": [],
   "source": [
    "# CODE PLAYGROUND"
   ]
  },
  {
   "cell_type": "code",
   "execution_count": null,
   "metadata": {},
   "outputs": [],
   "source": [
    "# CODE PLAYGROUND"
   ]
  },
  {
   "cell_type": "code",
   "execution_count": null,
   "metadata": {},
   "outputs": [],
   "source": [
    "# CODE PLAYGROUND"
   ]
  },
  {
   "cell_type": "code",
   "execution_count": null,
   "metadata": {},
   "outputs": [],
   "source": [
    "# CODE PLAYGROUND"
   ]
  },
  {
   "cell_type": "code",
   "execution_count": null,
   "metadata": {},
   "outputs": [],
   "source": [
    "# CODE PLAYGROUND"
   ]
  },
  {
   "cell_type": "markdown",
   "metadata": {},
   "source": [
    "# Problem 1: Identifying Highly Resistant AMR Genes\n",
    "### Scenario\n",
    "\n",
    "You are analyzing **Antimicrobial Resistance (AMR) data** and need to identify **genes with high resistance levels**. A gene is considered \"highly resistant\" if the **MIC value is greater than 16 µg/mL**.\n",
    "\n",
    "### Task\n",
    "Write a Python program that:\n",
    "1. **Reads an AMR dataset (CSV file)**.\n",
    "2. **Filters AMR genes where MIC_µg/mL > 16**.\n",
    "3. **Writes the filtered dataset to a new CSV file**.\n"
   ]
  },
  {
   "cell_type": "code",
   "execution_count": null,
   "metadata": {},
   "outputs": [],
   "source": [
    "# CODE PLAYGROUND"
   ]
  },
  {
   "cell_type": "code",
   "execution_count": null,
   "metadata": {},
   "outputs": [],
   "source": [
    "# CODE PLAYGROUND"
   ]
  },
  {
   "cell_type": "markdown",
   "metadata": {},
   "source": [
    "\n",
    "---\n",
    "\n",
    "# Problem 2: Handling Missing Values in AMR Dataset\n",
    "### Scenario\n",
    "Your dataset contains missing **MIC values**, and you want to handle them by replacing missing values with `\"Not Available\"`.\n",
    "\n",
    "### Task\n",
    "Write a Python program that:\n",
    "1. **Reads an AMR dataset (CSV file)**.\n",
    "2. **Identifies missing values** in the `MIC_µg/mL` column.\n",
    "3. **Replaces missing values with `\"Not Available\"`**.\n",
    "4. **Writes the cleaned dataset to a new CSV file**.\n",
    "\n",
    "### Example Input (AMR Dataset Sample)\n"
   ]
  },
  {
   "cell_type": "code",
   "execution_count": null,
   "metadata": {},
   "outputs": [],
   "source": [
    "# CODE PLAYGROUND"
   ]
  },
  {
   "cell_type": "code",
   "execution_count": null,
   "metadata": {},
   "outputs": [],
   "source": [
    "# CODE PLAYGROUND"
   ]
  },
  {
   "cell_type": "code",
   "execution_count": null,
   "metadata": {},
   "outputs": [],
   "source": [
    "# CODE PLAYGROUND"
   ]
  },
  {
   "cell_type": "code",
   "execution_count": null,
   "metadata": {},
   "outputs": [],
   "source": [
    "# CODE PLAYGROUND"
   ]
  },
  {
   "cell_type": "code",
   "execution_count": null,
   "metadata": {},
   "outputs": [],
   "source": [
    "# If you feel like you don't know what to do! Just save it as there is no tomorrow and come back.\n",
    "\n"
   ]
  },
  {
   "cell_type": "code",
   "execution_count": null,
   "metadata": {},
   "outputs": [],
   "source": [
    "\n",
    "## **Solution for Problem 1: Identifying Highly Resistant AMR Genes**\n",
    "\n",
    "import pandas as pd\n",
    "\n",
    "# Load the AMR dataset\n",
    "amr_df = pd.read_csv(\"data/amr_dataset.csv\")\n",
    "\n",
    "# Convert MIC column to numeric (handling missing values)\n",
    "amr_df[\"MIC_µg/mL\"] = pd.to_numeric(amr_df[\"MIC_µg/mL\"], errors=\"coerce\")\n",
    "\n",
    "# Filter AMR genes with MIC > 16\n",
    "high_resistance_df = amr_df[amr_df[\"MIC_µg/mL\"] > 16]\n",
    "\n",
    "# Save filtered dataset\n",
    "high_resistance_df.to_csv(\"high_resistance_amr.csv\", index=False)\n",
    "\n",
    "print(\"Filtered highly resistant AMR genes saved to 'high_resistance_amr.csv'\")\n"
   ]
  },
  {
   "cell_type": "code",
   "execution_count": null,
   "metadata": {},
   "outputs": [],
   "source": [
    "# CODE PLAYGROUND"
   ]
  },
  {
   "cell_type": "code",
   "execution_count": null,
   "metadata": {},
   "outputs": [],
   "source": [
    "# CODE PLAYGROUND"
   ]
  },
  {
   "cell_type": "code",
   "execution_count": null,
   "metadata": {},
   "outputs": [],
   "source": [
    "## **Solution for Problem 2:\n",
    "\n",
    "import pandas as pd\n",
    "\n",
    "# Load the AMR dataset\n",
    "amr_df = pd.read_csv(\"data/amr_dataset.csv\")\n",
    "\n",
    "# Replace missing values in MIC column with \"Not Available\"\n",
    "amr_df[\"MIC_µg/mL\"] = amr_df[\"MIC_µg/mL\"].fillna(\"Not Available\")\n",
    "\n",
    "# Save the cleaned dataset\n",
    "amr_df.to_csv(\"cleaned_amr_data.csv\", index=False)\n",
    "\n",
    "print(\"Cleaned AMR dataset saved to 'cleaned_amr_data.csv'\")\n"
   ]
  },
  {
   "cell_type": "code",
   "execution_count": null,
   "metadata": {},
   "outputs": [],
   "source": [
    "# CODE PLAYGROUND"
   ]
  },
  {
   "cell_type": "code",
   "execution_count": null,
   "metadata": {},
   "outputs": [],
   "source": [
    "# CODE PLAYGROUND"
   ]
  },
  {
   "cell_type": "markdown",
   "metadata": {},
   "source": [
    "## Any Questions?"
   ]
  }
 ],
 "metadata": {
  "kernelspec": {
   "display_name": "Python 3 (ipykernel)",
   "language": "python",
   "name": "python3"
  },
  "language_info": {
   "codemirror_mode": {
    "name": "ipython",
    "version": 3
   },
   "file_extension": ".py",
   "mimetype": "text/x-python",
   "name": "python",
   "nbconvert_exporter": "python",
   "pygments_lexer": "ipython3",
   "version": "3.10.12"
  }
 },
 "nbformat": 4,
 "nbformat_minor": 2
}
