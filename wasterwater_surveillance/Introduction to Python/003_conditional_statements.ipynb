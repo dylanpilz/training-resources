{
 "cells": [
  {
   "cell_type": "markdown",
   "metadata": {},
   "source": [
    "# Conditional Statements (`if` Clauses) in Python – Tekin Makes Decisions with Code\n",
    "\n",
    "As Tekin began building real-world tools for wastewater surveillance, he needed his scripts to make **decisions based on data** — for example, checking if a sample exceeds a viral threshold or determining the type of nucleic acid detected in a sequence.\n",
    "\n",
    "In Python, conditional statements like `if`, `elif`, and `else` allow code to run **only when certain conditions are met**.\n",
    "\n",
    "---\n",
    "\n",
    "## Why Use Conditional Statements in Wastewater Surveillance?\n",
    "\n",
    "Conditional logic is key for:\n",
    "\n",
    "- Checking for **specific patterns** in sequences (e.g., start codon `\"ATG\"`)\n",
    "- Flagging samples with **high viral loads**\n",
    "- Determining whether a sample contains **RNA or DNA**\n",
    "- Handling **ambiguous nucleotide codes**\n",
    "- Applying **rules dynamically** based on metadata or measurements\n",
    "\n",
    "Without `if` clauses, Tekin's code would always follow the same steps — unable to **react** to the input.  \n",
    "Conditionals allowed him to **filter**, **classify**, and **respond** based on sample-specific data.\n",
    "\n",
    "---\n",
    "\n",
    "### Basic `if` Statement – Detecting a Start Codon\n",
    "\n",
    "```python\n",
    "sequence = \"ATGCGT\"\n",
    "\n",
    "if \"ATG\" in sequence:\n",
    "    print(\"Start codon found in viral sequence!\")\n"
   ]
  },
  {
   "cell_type": "code",
   "execution_count": 3,
   "metadata": {},
   "outputs": [
    {
     "name": "stdout",
     "output_type": "stream",
     "text": [
      "Enter a DNA sequence: ATACAGATCAT\n",
      "No start codon present.\n"
     ]
    }
   ],
   "source": [
    "# Let's have some examples, again!\n",
    "\n",
    "dna_sequence = input(\"Enter a DNA sequence: \").upper()\n",
    "\n",
    "if \"ATG\" in dna_sequence:\n",
    "    print(\"Start codon found!\")\n",
    "else:\n",
    "    print(\"No start codon present.\")\n",
    "    \n",
    "# There are two conditions in the code above. One condition is to have \"ATG\" \n",
    "# in the input sequence, the other one is every other condition."
   ]
  },
  {
   "cell_type": "code",
   "execution_count": null,
   "metadata": {},
   "outputs": [],
   "source": [
    "# TRY IT OUT BY YOURSELF AREA"
   ]
  },
  {
   "cell_type": "code",
   "execution_count": 4,
   "metadata": {},
   "outputs": [
    {
     "name": "stdout",
     "output_type": "stream",
     "text": [
      "Enter a nucleotide (A, T, C, G): ATACATCAT\n",
      "Invalid nucleotide\n"
     ]
    }
   ],
   "source": [
    "# Our lives based on conditions as the codes! So let's dive a bit deeper.\n",
    "\n",
    "# What is I want to check the nucleotides one by one? Let's see\n",
    "\n",
    "nucleotide = input(\"Enter a nucleotide (A, T, C, G): \").upper()\n",
    "\n",
    "if nucleotide == \"A\":\n",
    "    print(\"Adenine detected\")\n",
    "elif nucleotide == \"T\":\n",
    "    print(\"Thymine detected\")\n",
    "elif nucleotide == \"C\":\n",
    "    print(\"Cytosine detected\")\n",
    "elif nucleotide == \"G\":\n",
    "    print(\"Guanine detected\")\n",
    "else:\n",
    "    print(\"Invalid nucleotide\")\n",
    "    \n",
    "# Okay it's time to run the code."
   ]
  },
  {
   "cell_type": "code",
   "execution_count": null,
   "metadata": {},
   "outputs": [],
   "source": [
    "# TRY IT OUT BY YOURSELF AREA"
   ]
  },
  {
   "cell_type": "markdown",
   "metadata": {},
   "source": [
    "## What If We Are Missing Important Conditions?\n",
    "\n",
    "In the examples above, we only checked for simple conditions — like whether a nucleotide is `\"A\"` or `\"T\"`.  \n",
    "But what if the **user enters something unexpected**?\n",
    "\n",
    "For example:\n",
    "\n",
    "- A number or symbol instead of a DNA base  \n",
    "- An empty string  \n",
    "- A lowercase input like `\"atg\"` instead of `\"ATG\"`  \n",
    "- A sequence that contains **ambiguous bases** like `\"N\"` or `\"X\"`  \n",
    "- A sequence with **non-biological characters** like `\"123@AGC!\"`\n",
    "\n",
    "In real-world bioinformatics and wastewater applications, data is often **noisy or inconsistent**, especially when copied from lab files or entered manually.\n",
    "\n",
    "---\n",
    "\n",
    "### Why Should Tekin Handle More Conditions?\n",
    "\n",
    "Tekin realized that handling such cases made his code:\n",
    "\n",
    "- **More robust** – Avoids crashes or wrong results due to bad input  \n",
    "- **More user-friendly** – Gives clear feedback instead of errors  \n",
    "- **Reusable** – Could be used by other teams without fear of breaking  \n",
    "- **Scientifically accurate** – Ensures only valid data is processed\n",
    "\n",
    "---\n",
    "\n",
    "### Ideas for Extra Checks\n",
    "\n",
    "Here are some conditions Tekin might want to add:\n",
    "\n",
    "- Check if the sequence is **not empty**  \n",
    "- Convert input to **uppercase** to ensure consistent comparison  \n",
    "- Validate that the sequence only contains `\"A\"`, `\"T\"`, `\"C\"`, `\"G\"`  \n",
    "- Warn the user if **invalid characters** are found  \n",
    "- Count how many invalid bases are present  \n",
    "- Reject input if it includes numbers or special characters\n",
    "\n",
    "Adding such **conditional logic** made Tekin's code ready for the **messy realities** of molecular data and helped him build smarter analysis tools.\n"
   ]
  },
  {
   "cell_type": "markdown",
   "metadata": {},
   "source": [
    "### Let'e explore more examples!"
   ]
  },
  {
   "cell_type": "code",
   "execution_count": 5,
   "metadata": {},
   "outputs": [
    {
     "name": "stdout",
     "output_type": "stream",
     "text": [
      "Enter a nucleotide (A, T, C, G): 123agaga\n",
      "You entered a sequence rather than a nucleotide!\n"
     ]
    }
   ],
   "source": [
    "# Prompt the user for input\n",
    "nucleotide = input(\"Enter a nucleotide (A, T, C, G): \").upper()\n",
    "\n",
    "# Check if the user entered a sequence instead of a single nucleotide\n",
    "if len(nucleotide) > 1:\n",
    "    print(\"You entered a sequence rather than a nucleotide!\")\n",
    "elif nucleotide == \"A\":\n",
    "    print(\"Adenine detected\")\n",
    "elif nucleotide == \"T\":\n",
    "    print(\"Thymine detected\")\n",
    "elif nucleotide == \"C\":\n",
    "    print(\"Cytosine detected\")\n",
    "elif nucleotide == \"G\":\n",
    "    print(\"Guanine detected\")\n",
    "else:\n",
    "    print(\"Invalid nucleotide\")\n"
   ]
  },
  {
   "cell_type": "code",
   "execution_count": null,
   "metadata": {},
   "outputs": [],
   "source": [
    "# TRY IT OUT BY YOURSELF AREA"
   ]
  },
  {
   "cell_type": "markdown",
   "metadata": {},
   "source": [
    "### What do you see in the code block above? What is the difference?"
   ]
  },
  {
   "cell_type": "markdown",
   "metadata": {},
   "source": [
    "### Let's have another example as follows."
   ]
  },
  {
   "cell_type": "code",
   "execution_count": 6,
   "metadata": {},
   "outputs": [
    {
     "name": "stdout",
     "output_type": "stream",
     "text": [
      "Enter a DNA sequence: GAGATAGATAGATGATGA\n",
      "No EcoRI restriction site found.\n"
     ]
    }
   ],
   "source": [
    "sequence = input(\"Enter a DNA sequence: \").upper()\n",
    "\n",
    "if \"GAATTC\" in sequence:\n",
    "    print(\"EcoRI restriction site detected!\")\n",
    "else:\n",
    "    print(\"No EcoRI restriction site found.\")"
   ]
  },
  {
   "cell_type": "code",
   "execution_count": null,
   "metadata": {},
   "outputs": [],
   "source": [
    "# TRY IT OUT BY YOURSELF AREA"
   ]
  },
  {
   "cell_type": "markdown",
   "metadata": {},
   "source": [
    "## Summary – Tekin Learns to Control Flow\n",
    "\n",
    "- **`if` statements** execute a block of code **only when a condition is true**  \n",
    "- **`if-else` statements** allow the program to choose **between two paths**\n",
    "- **`if-elif-else` statements** handle **multiple branching conditions**\n",
    "\n",
    "---\n",
    "\n",
    "### Why Does This Matter for Bioinformatics and Wastewater Surveillance?\n",
    "\n",
    "Tekin used conditional logic to:\n",
    "\n",
    "- **Validate DNA sequences** (e.g., ensure only A, T, C, G are present)  \n",
    "- **Detect start codons** or **restriction sites** in genomic data  \n",
    "- **Classify GC content** of a sequence (e.g., high vs. low GC)  \n",
    "- **Differentiate between DNA and RNA** based on base composition  \n",
    "- **Flag samples with high viral load** based on thresholds  \n",
    "- **Make decisions dynamically** in automated pipelines\n",
    "\n",
    "These tools allowed Tekin to create smarter scripts that could adapt to real lab data — messy, unpredictable, and full of variation.\n",
    "\n",
    "---\n",
    "\n",
    "Next, we will explore **`for` loops** and how Tekin uses them to **iterate through sequences** in Python.\n"
   ]
  },
  {
   "cell_type": "code",
   "execution_count": null,
   "metadata": {},
   "outputs": [],
   "source": [
    "# CODE PLAYGROUND"
   ]
  },
  {
   "cell_type": "code",
   "execution_count": null,
   "metadata": {},
   "outputs": [],
   "source": [
    "# CODE PLAYGROUND"
   ]
  },
  {
   "cell_type": "markdown",
   "metadata": {},
   "source": [
    "# Introduction to Classes in Python – Tekin Organizes His Tools\n",
    "\n",
    "As Tekin’s codebase expanded, he realized he needed a more structured way to group **related functions** and **data**.  \n",
    "That's when he discovered **classes** — a core concept of **Object-Oriented Programming (OOP)** in Python.\n",
    "\n",
    "A class is like a **template** for creating reusable objects.  \n",
    "Each object (or \"instance\") contains **attributes (data)** and **methods (functions)** that operate on that data.\n",
    "\n",
    "---\n",
    "\n",
    "## Why Use Classes in Bioinformatics?\n",
    "\n",
    "Tekin used classes to:\n",
    "\n",
    "- Bundle related functions into reusable modules  \n",
    "- Represent biological concepts like **samples**, **sequences**, or **genes**  \n",
    "- Build scalable tools for **automated analysis pipelines**  \n",
    "- Reduce repetition and improve code readability\n",
    "\n",
    "---\n",
    "\n",
    "## Example: Defining a Wastewater Sample Class\n",
    "\n",
    "## Using a Python Class to Represent Wastewater Samples – Step by Step\n",
    "\n",
    "Below is a simple but powerful example of using a Python `class` to model real-life data from a **wastewater surveillance program**.\n",
    "\n",
    "We define a class called `WastewaterSample` to store and analyze information about each sample.\n",
    "\n",
    "---\n",
    "\n",
    "### Step 1: Defining the Class and Constructor\n",
    "\n",
    "```python\n",
    "class WastewaterSample:\n",
    "    def __init__(self, sample_id, viral_load):\n",
    "        self.sample_id = sample_id\n",
    "        self.viral_load = viral_load\n",
    "        \n",
    "```\n",
    "### Step 2: A Method to Determine Risk Level\n",
    "\n",
    "This method checks whether the viral load in the sample exceeds 25,000 copies/mL.\n",
    "\n",
    "Returns True if it’s high, otherwise False.\n",
    "\n",
    "```python\n",
    "   def is_high_risk(self):\n",
    "        return self.viral_load > 25000\n",
    "    \n",
    "```\n",
    "\n",
    "### Step 3: A Method to Return a Summary\n",
    "\n",
    "\n",
    "```python\n",
    "\n",
    "    def summary(self):\n",
    "        status = \"High\" if self.is_high_risk() else \"Normal\"\n",
    "        return f\"Sample {self.sample_id}: {self.viral_load} copies/mL → {status}\"\n",
    "\n",
    "```\n",
    "\n",
    "\n",
    "### Step 4: Creating and Using Sample Objects\n",
    "\n",
    "```python\n",
    "\n",
    "sample1 = WastewaterSample(\"WWTP_01\", 18000)\n",
    "sample2 = WastewaterSample(\"WWTP_02\", 32000)\n",
    "\n",
    "print(sample1.summary())  # Output: Sample WWTP_01: 18000 copies/mL → Normal\n",
    "print(sample2.summary())  # Output: Sample WWTP_02: 32000 copies/mL → High\n",
    "\n",
    "```\n",
    "\n",
    "\n",
    "### Why Is This Useful?\n",
    "\n",
    "Using a class like this allows Tekin to:\n",
    "\n",
    "* Easily handle multiple samples\n",
    "\n",
    "* Keep related data and methods together\n",
    "\n",
    "* Build scalable code for future extensions (e.g., GC content, date tracking, sample metadata)\n",
    "\n",
    "* This is just the beginning of using Object-Oriented Programming (OOP) in bioinformatics and public health tools!"
   ]
  },
  {
   "cell_type": "code",
   "execution_count": null,
   "metadata": {},
   "outputs": [],
   "source": [
    "# CODE PLAYGROUND"
   ]
  },
  {
   "cell_type": "code",
   "execution_count": 4,
   "metadata": {},
   "outputs": [
    {
     "name": "stdout",
     "output_type": "stream",
     "text": [
      "Sample WWTP_01: 18000 copies/mL → Normal\n",
      "Sample WWTP_02: 32000 copies/mL → High\n"
     ]
    }
   ],
   "source": [
    "class WastewaterSample:\n",
    "    def __init__(self, sample_id, viral_load):\n",
    "        self.sample_id = sample_id\n",
    "        self.viral_load = viral_load\n",
    "\n",
    "    def is_high_risk(self):\n",
    "        return self.viral_load > 25000\n",
    "\n",
    "    def summary(self):\n",
    "        status = \"High\" if self.is_high_risk() else \"Normal\"\n",
    "        return f\"Sample {self.sample_id}: {self.viral_load} copies/mL → {status}\"\n",
    "sample1 = WastewaterSample(\"WWTP_01\", 18000)\n",
    "sample2 = WastewaterSample(\"WWTP_02\", 32000)\n",
    "\n",
    "print(sample1.summary())  # Output: Sample WWTP_01: 18000 copies/mL → Normal\n",
    "print(sample2.summary())  # Output: Sample WWTP_02: 32000 copies/mL → High\n"
   ]
  },
  {
   "cell_type": "code",
   "execution_count": null,
   "metadata": {},
   "outputs": [],
   "source": [
    "# CODE PLAYGROUND"
   ]
  },
  {
   "cell_type": "code",
   "execution_count": 6,
   "metadata": {},
   "outputs": [
    {
     "name": "stdout",
     "output_type": "stream",
     "text": [
      "Sample ID: SAMP123, Sample Type: Wastewater\n",
      "Sample ID: SAMP124, Sample Type: Blood\n"
     ]
    }
   ],
   "source": [
    "# Class definition for BiologicalSample\n",
    "\n",
    "class BiologicalSample:\n",
    "    # The __init__ method is the constructor, called when a new object is created.\n",
    "    def __init__(self, sample_id, sample_type):\n",
    "        self.sample_id = sample_id  # Assign the sample ID to the instance\n",
    "        self.sample_type = sample_type  # Assign the sample type to the instance\n",
    "\n",
    "    # This method provides information about the sample.\n",
    "    def sample_info(self):\n",
    "        return f\"Sample ID: {self.sample_id}, Sample Type: {self.sample_type}\"\n",
    "\n",
    "# Creating instances (objects) of the BiologicalSample class\n",
    "sample1 = BiologicalSample(\"SAMP123\", \"Wastewater\")  # Create a sample of type 'Wastewater'\n",
    "sample2 = BiologicalSample(\"SAMP124\", \"Blood\")  # Create a sample of type 'Blood'\n",
    "\n",
    "# Printing the sample information by calling the sample_info method\n",
    "print(sample1.sample_info())  # Output: Sample ID: SAMP123, Sample Type: Wastewater\n",
    "print(sample2.sample_info())  # Output: Sample ID: SAMP124, Sample Type: Blood\n"
   ]
  },
  {
   "cell_type": "code",
   "execution_count": 7,
   "metadata": {},
   "outputs": [],
   "source": [
    "# CODE PLAYGROUND"
   ]
  },
  {
   "cell_type": "markdown",
   "metadata": {},
   "source": [
    "# Problem 1: Detecting Start and Stop Codons in a DNA Sequence\n",
    "### Scenario\n",
    "You are analyzing a DNA sequence and need to determine:\n",
    "1. **If it contains a start codon (`ATG`)**.\n",
    "2. **If it contains a stop codon (`TAA`, `TAG`, or `TGA`)**.\n",
    "\n",
    "### Task\n",
    "Write a Python program that:\n",
    "- Takes a **DNA sequence** as input from the user.\n",
    "- **Checks if a start codon (`ATG`) is present**.\n",
    "- **Checks if any stop codon (`TAA`, `TAG`, `TGA`) is present**.\n",
    "- Prints appropriate messages based on the findings.\n"
   ]
  },
  {
   "cell_type": "code",
   "execution_count": null,
   "metadata": {},
   "outputs": [],
   "source": [
    "# CODE PLAYGROUND"
   ]
  },
  {
   "cell_type": "markdown",
   "metadata": {},
   "source": [
    "\n",
    "---\n",
    "\n",
    "# Problem 2: Classifying DNA vs RNA\n",
    "### Scenario\n",
    "You receive a sequence from a researcher, but they didn't specify whether it's **DNA or RNA**. You need to classify it based on its nucleotide composition.\n",
    "\n",
    "### Task\n",
    "Write a Python program that:\n",
    "- Takes a **sequence** as input.\n",
    "- **Checks whether it contains \"T\" (Thymine)** → If so, it's **DNA**.\n",
    "- **Checks whether it contains \"U\" (Uracil)** → If so, it's **RNA**.\n",
    "- If it contains **both \"T\" and \"U\"**, print an **error message** (invalid sequence).\n",
    "- If neither is found, print **\"Unknown sequence type\"**."
   ]
  },
  {
   "cell_type": "code",
   "execution_count": null,
   "metadata": {},
   "outputs": [],
   "source": [
    "# CODE PLAYGROUND"
   ]
  },
  {
   "cell_type": "code",
   "execution_count": null,
   "metadata": {},
   "outputs": [],
   "source": [
    "# CODE PLAYGROUND, I still believe in you, don't afraid of trying. This is the best way to learn!"
   ]
  },
  {
   "cell_type": "code",
   "execution_count": null,
   "metadata": {},
   "outputs": [],
   "source": [
    "## **Solution for Problem 1: Detecting Start and Stop Codons**\n",
    "\n",
    "\n",
    "# Get user input\n",
    "sequence = input(\"Enter a DNA sequence: \").upper()\n",
    "\n",
    "# Check for start and stop codons\n",
    "if \"ATG\" in sequence:\n",
    "    print(\"Start codon found!\")\n",
    "else:\n",
    "    print(\"No start codon found.\")\n",
    "\n",
    "if \"TAA\" in sequence or \"TAG\" in sequence or \"TGA\" in sequence:\n",
    "    print(\"Stop codon found!\")\n",
    "else:\n",
    "    print(\"No stop codon found.\")\n"
   ]
  },
  {
   "cell_type": "code",
   "execution_count": null,
   "metadata": {},
   "outputs": [],
   "source": [
    "# CODE PLAYGROUND"
   ]
  },
  {
   "cell_type": "code",
   "execution_count": null,
   "metadata": {},
   "outputs": [],
   "source": [
    "## Solution for Problem 2\n",
    "\n",
    "# Get user input\n",
    "sequence = input(\"Enter a sequence: \").upper()\n",
    "\n",
    "# Check for DNA or RNA classification\n",
    "contains_T = \"T\" in sequence\n",
    "contains_U = \"U\" in sequence\n",
    "\n",
    "if contains_T and contains_U:\n",
    "    print(\"Invalid sequence: contains both T and U.\")\n",
    "elif contains_T:\n",
    "    print(\"This is a DNA sequence.\")\n",
    "elif contains_U:\n",
    "    print(\"This is an RNA sequence.\")\n",
    "else:\n",
    "    print(\"Unknown sequence type.\")\n"
   ]
  },
  {
   "cell_type": "code",
   "execution_count": null,
   "metadata": {},
   "outputs": [],
   "source": [
    "# CODE PLAYGROUND"
   ]
  },
  {
   "cell_type": "code",
   "execution_count": null,
   "metadata": {},
   "outputs": [],
   "source": [
    "# CODE PLAYGROUND"
   ]
  },
  {
   "cell_type": "markdown",
   "metadata": {},
   "source": [
    "## Any Questions?"
   ]
  }
 ],
 "metadata": {
  "kernelspec": {
   "display_name": "Python 3 (ipykernel)",
   "language": "python",
   "name": "python3"
  },
  "language_info": {
   "codemirror_mode": {
    "name": "ipython",
    "version": 3
   },
   "file_extension": ".py",
   "mimetype": "text/x-python",
   "name": "python",
   "nbconvert_exporter": "python",
   "pygments_lexer": "ipython3",
   "version": "3.10.12"
  }
 },
 "nbformat": 4,
 "nbformat_minor": 2
}
