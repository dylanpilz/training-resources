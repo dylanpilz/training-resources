{
 "cells": [
  {
   "cell_type": "markdown",
   "metadata": {},
   "source": [
    "# Meet Tekin: A Public Health Analyst on a Python Journey\n",
    "\n",
    "Tekin works in a national public health lab. His work often involves tracking pathogens and managing data, but he’s tired of copying and pasting values into Excel sheets. One day, he hears about how Python can automate tasks, make data cleaning easier, and even help visualize complex trends from environmental samples. Curious, he decides to start learning Python.\n",
    "\n",
    "In this notebook, you’ll follow Tekin as he begins his journey with Python. He’ll learn about variables, basic data types, and how to run simple commands. Each step he takes helps him connect the code to his real-life work — from storing the number of positive cases in a list, to understanding how `print()` can show him outputs immediately.\n",
    "\n",
    "Let’s begin Tekin’s journey into the world of Python!"
   ]
  },
  {
   "cell_type": "markdown",
   "metadata": {},
   "source": [
    "### Welcome to Python – Tekin’s First Step\n",
    "\n",
    "Tekin sat at his desk, staring at a folder full of messy CSV files from recent wastewater surveillance. He thought, *“There must be a better way to handle all this data.”* That’s when he decided to learn Python — a programming language known for its simplicity and power.\n",
    "\n",
    "Python is not just for software developers. It's used by public health experts, bioinformaticians, and data scientists around the world. Its clean and readable syntax makes it a perfect choice for someone like Tekin, who wants to spend less time on repetitive tasks and more time on interpreting meaningful trends.\n",
    "\n",
    "---\n",
    "\n",
    "### Why Tekin Chose Python\n",
    "\n",
    "Here’s what convinced Tekin to give Python a try:\n",
    "\n",
    "- **Easy to Read & Write** → Python’s syntax feels almost like English, which helped Tekin feel more confident as a beginner.\n",
    "- **Versatile** → From automating tasks to analyzing pathogen data, Python is used in many parts of public health work.\n",
    "- **Large Community & Libraries** → Tekin quickly found tutorials, examples, and tools specific to bioinformatics.\n",
    "- **Cross-Platform** → Whether at the office or on his Linux-based laptop at home, Python runs everywhere.\n",
    "- **Fast Prototyping** → He could quickly test out new ideas with just a few lines of code.\n",
    "\n",
    "By the end of this course, Tekin aims to build a solid foundation in Python and apply it directly to real-world public health challenges, especially in microbiological surveillance and outbreak analysis.\n",
    "\n",
    "---\n",
    "\n",
    "### Let’s Get Started!\n",
    "\n",
    "Tekin opened his first notebook and typed:\n",
    "\n",
    "```python\n",
    "print(\"Hello, World!\")\n"
   ]
  },
  {
   "cell_type": "code",
   "execution_count": 2,
   "metadata": {
    "scrolled": false
   },
   "outputs": [
    {
     "name": "stdout",
     "output_type": "stream",
     "text": [
      "Hello, World\n"
     ]
    }
   ],
   "source": [
    "# How to make it work? \"Use Shift+Enter\" or Run\n",
    "print(\"Hello, World\")"
   ]
  },
  {
   "cell_type": "code",
   "execution_count": null,
   "metadata": {},
   "outputs": [],
   "source": [
    "# TRY IT OUT BY YOURSELF AREA"
   ]
  },
  {
   "cell_type": "markdown",
   "metadata": {},
   "source": [
    "# Python Data Types – Tekin Starts Storing Information\n",
    "\n",
    "After printing his first \"Hello, World!\", Tekin felt encouraged.  \n",
    "Now he wondered: *“How can I make Python remember information like a name or a lab result?”*  \n",
    "That’s when he learned about **variables** – containers that store different types of data.\n",
    "\n",
    "Let’s explore the basic data types Tekin started using:\n",
    "\n",
    "---\n",
    "\n",
    "## Strings (`str`)\n",
    "\n",
    "Tekin’s first task was to store sample IDs, names, and messages.  \n",
    "For this, he used **strings**, which are sequences of characters wrapped in quotes.  \n",
    "Python allows single (`'`), double (`\"`), or triple quotes (`''' \"\"\"`).\n",
    "\n",
    "```python\n",
    "# String examples\n",
    "name = \"Tekin\"\n",
    "greeting = 'Merhaba, Hola, Salut'\n",
    "message = \"\"\"This is a multi-line string.\"\"\"\n",
    "\n",
    "print(name)\n",
    "print(greeting)\n",
    "print(message)\n"
   ]
  },
  {
   "cell_type": "code",
   "execution_count": 7,
   "metadata": {},
   "outputs": [
    {
     "name": "stdout",
     "output_type": "stream",
     "text": [
      "Gültekin\n"
     ]
    }
   ],
   "source": [
    "# Let's try it out\n",
    "\n",
    "Name= \"Gültekin\"\n",
    "\n",
    "print(name)"
   ]
  },
  {
   "cell_type": "code",
   "execution_count": null,
   "metadata": {},
   "outputs": [],
   "source": [
    "# TRY IT OUT BY YOURSELF AREA"
   ]
  },
  {
   "cell_type": "markdown",
   "metadata": {},
   "source": [
    "## Floats (`float`)\n",
    "\n",
    "Next, Tekin needed to store measurements — like temperature readings from wastewater or concentrations of specific markers.\n",
    "\n",
    "For this, he used **floats**, which are numbers with decimal points.  \n",
    "They allowed more precision than whole numbers.\n",
    "\n",
    "```python\n",
    "# Float examples\n",
    "price = 19.99\n",
    "temperature = 36.5\n",
    "\n",
    "print(price)\n",
    "print(temperature)\n"
   ]
  },
  {
   "cell_type": "markdown",
   "metadata": {},
   "source": [
    "### Let’s Try It Out – Tekin Buys Fruit \n",
    "\n",
    "To practice working with floats, Tekin decided to model something simple: fruit prices from the market near his lab.\n",
    "\n",
    "```python\n",
    "# Price of an apple\n",
    "price_of_an_apple = 20.99\n",
    "\n",
    "# Price of an orange\n",
    "price_of_an_orange = 10.99\n",
    "\n",
    "print(price_of_an_apple)\n",
    "print(price_of_an_orange)\n"
   ]
  },
  {
   "cell_type": "code",
   "execution_count": null,
   "metadata": {},
   "outputs": [],
   "source": [
    "# TRY IT OUT BY YOURSELF AREA"
   ]
  },
  {
   "cell_type": "markdown",
   "metadata": {},
   "source": [
    "## Booleans (`bool`)\n",
    "\n",
    "One day, Tekin wanted to track whether a wastewater sample exceeded a critical threshold for viral load.  \n",
    "He learned that **booleans** are perfect for representing simple *yes/no* or *true/false* conditions.\n",
    "\n",
    "A boolean can only have two values: `True` or `False`.\n",
    "\n",
    "```python\n",
    "# Boolean examples\n",
    "is_threshold_exceeded = True\n",
    "is_sample_contaminated = False\n",
    "\n",
    "print(is_threshold_exceeded)\n",
    "print(is_sample_contaminated)\n"
   ]
  },
  {
   "cell_type": "code",
   "execution_count": 16,
   "metadata": {},
   "outputs": [
    {
     "name": "stdout",
     "output_type": "stream",
     "text": [
      "True\n",
      "False\n"
     ]
    }
   ],
   "source": [
    "is_cape_town_fun = True\n",
    "is_cape_town_cold = False\n",
    "\n",
    "# Let's print it out \n",
    "\n",
    "print(is_cape_town_fun)\n",
    "print(is_cape_town_cold)"
   ]
  },
  {
   "cell_type": "code",
   "execution_count": null,
   "metadata": {},
   "outputs": [],
   "source": [
    "# TRY IT OUT BY YOURSELF AREA"
   ]
  },
  {
   "cell_type": "markdown",
   "metadata": {},
   "source": [
    "## Summary of the Data Types – Tekin Organizes His Sample Info\n",
    "\n",
    "After experimenting with different variable types, Tekin summarized what he had learned — this time, thinking in terms of wastewater surveillance.\n",
    "\n",
    "- **Strings**: For storing sample IDs, location names, and lab notes  \n",
    "  Example: `\"Sample_AK2024\"`, `'WWTP_Zone3'`\n",
    "- **Integers**: For counting things like the number of positive detections  \n",
    "  Example: `10`, `-5`, `2024`\n",
    "- **Floats**: For recording measurements like viral concentrations  \n",
    "  Example: `3.14`, `99.99`\n",
    "- **Booleans**: For flagging conditions like threshold exceedance  \n",
    "  Example: `True`, `False`\n",
    "\n",
    "---\n",
    "\n",
    "In Python, **variables** are used to store data. Tekin learned that he didn’t need to declare the type — Python figures it out automatically!\n",
    "\n",
    "He also discovered **f-strings**, which made it easy to include variables in text outputs. For example:\n",
    "\n",
    "```python\n",
    "sample_id = \"WWTP_23\"\n",
    "viral_load = 245.7\n",
    "print(f\"Sample {sample_id} has a viral load of {viral_load} copies/mL.\")\n"
   ]
  },
  {
   "cell_type": "markdown",
   "metadata": {},
   "source": [
    "### Let’s Try Everything We’ve Learned – Tekin Summarizes a Sample\n",
    "\n",
    "Before moving on, Tekin decided to review everything he had learned so far by creating a mock summary of a wastewater sample.\n",
    "\n",
    "He used different variable types to represent various attributes of the sample:\n",
    "\n",
    "```python\n",
    "# Let's have a string first – the sample location\n",
    "location = \"Zone A - WWTP\"\n",
    "\n",
    "# Then let's add an integer – sample number\n",
    "sample_number = 102\n",
    "\n",
    "# Moving on to a float – viral concentration in copies/mL\n",
    "viral_concentration = 367.5\n",
    "\n",
    "# And finish it with a boolean – does it exceed threshold?\n",
    "exceeds_threshold = True\n",
    "\n",
    "# We can print all the values as below\n",
    "print(f\"Sample from {location}, ID: {sample_number}\")\n",
    "print(f\"Viral concentration: {viral_concentration} copies/mL\")\n",
    "print(f\"Exceeds safety threshold? {exceeds_threshold}\")\n",
    "\n"
   ]
  },
  {
   "cell_type": "code",
   "execution_count": null,
   "metadata": {},
   "outputs": [],
   "source": [
    "# TRY IT OUT BY YOURSELF AREA"
   ]
  },
  {
   "cell_type": "markdown",
   "metadata": {},
   "source": [
    "## Basic Operations in Python – Tekin Calculates Lab Results\n",
    "\n",
    "As Tekin progressed, he began using Python not just to store data — but to calculate with it.  \n",
    "He discovered that Python supports various **operations** on numbers, which helped him process lab values efficiently.\n",
    "\n",
    "Here are the basic **arithmetic operations** Tekin practiced, using sample-related scenarios:\n",
    "\n",
    "```python\n",
    "# Addition – combining two sample volumes\n",
    "a = 10 + 5\n",
    "print(a)  # Output: 15\n",
    "\n",
    "# Subtraction – difference in sample counts between two days\n",
    "b = 10 - 3\n",
    "print(b)  # Output: 7\n",
    "\n",
    "# Multiplication – estimating total viral load (copies/mL × volume)\n",
    "c = 4 * 3\n",
    "print(c)  # Output: 12\n",
    "\n",
    "# Division – splitting a total volume into equal parts\n",
    "d = 10 / 2\n",
    "print(d)  # Output: 5.0\n",
    "\n",
    "# Floor Division – calculating how many full containers fit\n",
    "e = 10 // 3\n",
    "print(e)  # Output: 3\n",
    "\n",
    "# Modulus – finding leftover volume\n",
    "f = 10 % 3\n",
    "print(f)  # Output: 1\n",
    "\n",
    "# Exponentiation – simulating exponential growth in viral replication\n",
    "g = 2 ** 3\n",
    "print(g)  # Output: 8\n"
   ]
  },
  {
   "cell_type": "code",
   "execution_count": null,
   "metadata": {},
   "outputs": [],
   "source": [
    "# TRY IT OUT BY YOURSELF AREA"
   ]
  },
  {
   "cell_type": "code",
   "execution_count": 3,
   "metadata": {},
   "outputs": [
    {
     "name": "stdout",
     "output_type": "stream",
     "text": [
      "27\n",
      "13\n",
      "140\n",
      "2.857142857142857\n",
      "2\n",
      "6\n",
      "400\n",
      "52\n",
      "Hello World\n",
      "Cape Cape Cape \n",
      "True\n",
      "False\n"
     ]
    }
   ],
   "source": [
    "# Let's have examples!\n",
    "\n",
    "# Using variables in arithmetic operations\n",
    "x = 20\n",
    "y = 7\n",
    "\n",
    "# Addition\n",
    "sum_result = x + y\n",
    "print(sum_result)  # Output: 27\n",
    "\n",
    "# Subtraction\n",
    "difference = x - y\n",
    "print(difference)  # Output: 13\n",
    "\n",
    "# Multiplication\n",
    "product = x * y\n",
    "print(product)  # Output: 140\n",
    "\n",
    "# Division\n",
    "quotient = x / y\n",
    "print(quotient)  # Output: 2.857142857142857\n",
    "\n",
    "# Floor Division\n",
    "floor_div = x // y\n",
    "print(floor_div)  # Output: 2\n",
    "\n",
    "# Modulus (remainder)\n",
    "modulus = x % y\n",
    "print(modulus)  # Output: 6\n",
    "\n",
    "# Exponentiation\n",
    "power = x ** 2\n",
    "print(power)  # Output: 400\n",
    "\n",
    "# Complex arithmetic expression\n",
    "result = (x + y) * 2 - (x // y)\n",
    "print(result)  # Output: 53\n",
    "\n",
    "\n",
    "# Concatenation\n",
    "greeting = \"Hello\" + \" \" + \"World\"\n",
    "print(greeting)  # Output: Hello World\n",
    "\n",
    "# Repetition\n",
    "repeat_text = \"Cape \" * 3\n",
    "print(repeat_text)  # Output: Cape Cape Cape\n",
    "\n",
    "# Checking substrings\n",
    "sentence = \"Cape Town is amazing\"\n",
    "print(\"Cape Town\" in sentence)  # True\n",
    "print(\"cold\" in sentence)    # False\n"
   ]
  },
  {
   "cell_type": "code",
   "execution_count": null,
   "metadata": {},
   "outputs": [],
   "source": [
    "# TRY IT OUT BY YOURSELF AREA"
   ]
  },
  {
   "cell_type": "markdown",
   "metadata": {},
   "source": [
    "## Comparison Operations – Tekin Compares Sample Results\n",
    "\n",
    "Tekin often needed to compare results from different wastewater treatment plants or between different time points.  \n",
    "Python’s **comparison operators** helped him quickly evaluate conditions and make decisions.\n",
    "\n",
    "Comparison operators return a **boolean** value: `True` or `False`.\n",
    "\n",
    "Here’s how Tekin used them:\n",
    "\n",
    "```python\n",
    "# Viral loads from two different days\n",
    "viral_load_day1 = 10\n",
    "viral_load_day2 = 5\n",
    "\n",
    "print(viral_load_day1 > viral_load_day2)    # True – today's load is higher\n",
    "print(viral_load_day1 < viral_load_day2)    # False – not lower than yesterday\n",
    "print(viral_load_day1 == viral_load_day2)   # False – values are not equal\n",
    "print(viral_load_day1 != viral_load_day2)   # True – values differ\n",
    "print(viral_load_day1 >= viral_load_day2)   # True – day 1 is greater or equal\n",
    "print(viral_load_day1 <= viral_load_day2)   # False – not less or equal\n"
   ]
  },
  {
   "cell_type": "code",
   "execution_count": null,
   "metadata": {},
   "outputs": [],
   "source": [
    "# Let's have examples\n",
    "\n",
    "word1 = \"apple\"\n",
    "word2 = \"banana\"\n",
    "\n",
    "print(word1 == word2)   # False (Different words)\n",
    "print(word1 != word2)   # True  (Not the same)\n",
    "print(word1 < word2)    # True  (\"apple\" comes before \"banana\" alphabetically)\n",
    "print(word2 > word1)    # True  (\"banana\" comes after \"apple\" alphabetically)\n"
   ]
  },
  {
   "cell_type": "code",
   "execution_count": null,
   "metadata": {},
   "outputs": [],
   "source": [
    "# TRY IT OUT BY YOURSELF AREA"
   ]
  },
  {
   "cell_type": "markdown",
   "metadata": {},
   "source": [
    "## Logical Operations – Tekin Combines Conditions\n",
    "\n",
    "As Tekin’s scripts got more advanced, he started checking **multiple conditions** at once.  \n",
    "For example, he wanted to flag samples that exceeded the viral threshold **and** came from high-risk zones.\n",
    "\n",
    "Python’s **logical operators** allowed him to combine such conditions:\n",
    "\n",
    "- `and`: True if both conditions are True  \n",
    "- `or`: True if at least one condition is True  \n",
    "- `not`: Reverses the boolean value\n",
    "\n",
    "```python\n",
    "# Example conditions for a wastewater sample\n",
    "exceeds_threshold = True\n",
    "is_from_high_risk_zone = False\n",
    "\n",
    "print(exceeds_threshold and is_from_high_risk_zone)  # Output: False\n",
    "print(exceeds_threshold or is_from_high_risk_zone)   # Output: True\n",
    "print(not exceeds_threshold)                         # Output: False\n"
   ]
  },
  {
   "cell_type": "code",
   "execution_count": null,
   "metadata": {},
   "outputs": [],
   "source": [
    "# Checking if a DNA sequence contains both 'A' and 'T' bases\n",
    "dna_sequence = \"ATCGGCTA\"\n",
    "\n",
    "contains_A = \"A\" in dna_sequence\n",
    "contains_T = \"T\" in dna_sequence\n",
    "\n",
    "print(contains_A and contains_T)  # True (both bases are present)\n",
    "print(contains_A or contains_T)   # True (at least one base is present)\n",
    "print(not contains_A)             # False (sequence contains 'A')\n"
   ]
  },
  {
   "cell_type": "code",
   "execution_count": null,
   "metadata": {},
   "outputs": [],
   "source": [
    "# TRY IT OUT BY YOURSELF AREA"
   ]
  },
  {
   "cell_type": "code",
   "execution_count": null,
   "metadata": {},
   "outputs": [],
   "source": [
    "# Evaluating sequencing quality using logical operations\n",
    "quality_score = 30\n",
    "coverage = 80\n",
    "\n",
    "is_high_quality = quality_score > 25\n",
    "is_high_coverage = coverage > 50\n",
    "\n",
    "print(is_high_quality and is_high_coverage)  # True (both conditions met)\n",
    "print(is_high_quality or is_high_coverage)   # True (at least one condition met)\n",
    "print(not is_high_quality)                   # False (quality score is high)\n"
   ]
  },
  {
   "cell_type": "code",
   "execution_count": null,
   "metadata": {},
   "outputs": [],
   "source": [
    "# TRY IT OUT BY YOURSELF AREA"
   ]
  },
  {
   "cell_type": "markdown",
   "metadata": {},
   "source": [
    "## String Operations – Tekin Labels and Logs Samples\n",
    "\n",
    "Tekin often had to generate **sample labels** and log messages while working with wastewater data.  \n",
    "Python’s string operations made this easy — especially **concatenation** and **repetition**.\n",
    "\n",
    "Here’s how Tekin used them:\n",
    "\n",
    "```python\n",
    "# String Concatenation – combining sample info\n",
    "zone = \"Zone A\"\n",
    "sample_id = \"Sample_105\"\n",
    "label = zone + \" - \" + sample_id\n",
    "print(label)  # Output: Zone A - Sample_105\n",
    "\n",
    "# String Repetition – repeating alert messages\n",
    "alert = \"Threshold Exceeded! \"\n",
    "print(alert * 3)  # Output: Threshold Exceeded! Threshold Exceeded! Threshold Exceeded!\n"
   ]
  },
  {
   "cell_type": "code",
   "execution_count": null,
   "metadata": {},
   "outputs": [],
   "source": [
    "# Let's have examples!\n",
    "# String Concatenation: Combining DNA sequences\n",
    "dna_part1 = \"ATGCGT\"\n",
    "dna_part2 = \"AAGTCC\"\n",
    "full_sequence = dna_part1 + dna_part2\n",
    "print(full_sequence)  # Output: ATGCGTAAGTCC"
   ]
  },
  {
   "cell_type": "code",
   "execution_count": null,
   "metadata": {},
   "outputs": [],
   "source": [
    "# TRY IT OUT BY YOURSELF AREA"
   ]
  },
  {
   "cell_type": "code",
   "execution_count": null,
   "metadata": {},
   "outputs": [],
   "source": [
    "# String Repetition: Simulating Microsatellite Repeats\n",
    "repeat_unit = \"ATG\"\n",
    "microsatellite = repeat_unit * 4\n",
    "print(microsatellite)  # Output: ATGATGATGATG\n"
   ]
  },
  {
   "cell_type": "code",
   "execution_count": null,
   "metadata": {},
   "outputs": [],
   "source": [
    "# TRY IT OUT BY YOURSELF AREA"
   ]
  },
  {
   "cell_type": "code",
   "execution_count": null,
   "metadata": {},
   "outputs": [],
   "source": [
    "# Formatting protein sequence information\n",
    "protein_name = \"Hemoglobin\"\n",
    "sequence_length = 146\n",
    "\n",
    "info = \"Protein: \" + protein_name + \", Length: \" + str(sequence_length) + \" amino acids\"\n",
    "print(info)  # Output: Protein: Hemoglobin, Length: 146 amino acids\n"
   ]
  },
  {
   "cell_type": "code",
   "execution_count": null,
   "metadata": {},
   "outputs": [],
   "source": [
    "# TRY IT OUT BY YOURSELF AREA"
   ]
  },
  {
   "cell_type": "markdown",
   "metadata": {},
   "source": [
    "## Assignment Operators – Tekin Adjusts Sample Values\n",
    "\n",
    "As Tekin worked with dynamic wastewater data, he often needed to update variables based on new measurements.  \n",
    "Python’s **assignment operators** allowed him to modify variables directly and efficiently.\n",
    "\n",
    "These operators combine assignment with arithmetic operations.\n",
    "\n",
    "```python\n",
    "# Initial viral load measurement\n",
    "viral_load = 10\n",
    "\n",
    "viral_load += 5  # New incoming data adds more load\n",
    "print(viral_load)  # Output: 15\n",
    "\n",
    "viral_load -= 3  # Adjustment after quality control\n",
    "print(viral_load)  # Output: 12\n",
    "\n",
    "viral_load *= 2  # Doubling the volume for concentration\n",
    "print(viral_load)  # Output: 24\n",
    "\n",
    "viral_load /= 4  # Averaging over 4 samples\n",
    "print(viral_load)  # Output: 6.0\n"
   ]
  },
  {
   "cell_type": "code",
   "execution_count": null,
   "metadata": {},
   "outputs": [],
   "source": [
    "# Let's have examples!\n",
    "\n",
    "# Tracking the number of DNA sequences processed\n",
    "sequences_processed = 100\n",
    "\n",
    "sequences_processed += 20  # 20 more sequences analyzed\n",
    "print(sequences_processed)  # Output: 120\n",
    "\n",
    "sequences_processed -= 10  # 10 sequences discarded due to low quality\n",
    "print(sequences_processed)  # Output: 110\n"
   ]
  },
  {
   "cell_type": "code",
   "execution_count": null,
   "metadata": {},
   "outputs": [],
   "source": [
    "# TRY IT OUT BY YOURSELF AREA"
   ]
  },
  {
   "cell_type": "code",
   "execution_count": null,
   "metadata": {},
   "outputs": [],
   "source": [
    "# Adjusting read depth in sequencing analysis\n",
    "read_depth = 30\n",
    "\n",
    "read_depth *= 2  # Doubling the sequencing depth\n",
    "print(read_depth)  # Output: 60\n",
    "\n",
    "read_depth /= 3  # Reducing sequencing depth to a third\n",
    "print(read_depth)  # Output: 20.0\n"
   ]
  },
  {
   "cell_type": "code",
   "execution_count": null,
   "metadata": {},
   "outputs": [],
   "source": [
    "# TRY IT OUT BY YOURSELF AREA"
   ]
  },
  {
   "cell_type": "code",
   "execution_count": null,
   "metadata": {},
   "outputs": [],
   "source": [
    "# Expanding a DNA motif with repetitive units\n",
    "motif = \"ATG\"\n",
    "\n",
    "motif *= 3  # Repeating the motif three times\n",
    "print(motif)  # Output: ATGATGATG"
   ]
  },
  {
   "cell_type": "code",
   "execution_count": null,
   "metadata": {},
   "outputs": [],
   "source": [
    "# TRY IT OUT BY YOURSELF AREA"
   ]
  },
  {
   "cell_type": "code",
   "execution_count": null,
   "metadata": {},
   "outputs": [],
   "source": [
    "# TRY IT OUT BY YOURSELF AREA"
   ]
  },
  {
   "cell_type": "markdown",
   "metadata": {},
   "source": [
    "## Summary – Tekin’s Toolbox So Far\n",
    "\n",
    "Tekin now had a solid foundation in Python and could already perform many tasks relevant to wastewater data analysis.\n",
    "\n",
    "Here’s a quick recap of what he learned:\n",
    "\n",
    "- **Arithmetic operations**: `+`, `-`, `*`, `/`, `//`, `%`, `**` → For calculations on sample values  \n",
    "- **Comparison operations**: `>`, `<`, `==`, `!=`, `>=`, `<=` → To compare measurements  \n",
    "- **Logical operations**: `and`, `or`, `not` → To combine multiple conditions  \n",
    "- **String operations**: Concatenation (`+`), repetition (`*`) → For building sample labels and alerts  \n",
    "- **Assignment operators**: `+=`, `-=`, `*=`, `/=` → To update values efficiently\n",
    "\n",
    "With these tools, Tekin could already write meaningful scripts — but he was about to unlock even more power.\n",
    "\n"
   ]
  },
  {
   "cell_type": "code",
   "execution_count": 3,
   "metadata": {},
   "outputs": [
    {
     "name": "stdout",
     "output_type": "stream",
     "text": [
      "Sequencing Report\n",
      "=================\n",
      "Total Reads: 55000\n",
      "High-Quality Reads: 35200\n",
      "High-Quality Percentage: 64.00%\n",
      "Sequencing Quality Acceptable: False\n",
      "Warning: Low Quality? False\n"
     ]
    }
   ],
   "source": [
    "# Let's have a last complex example!\n",
    "\n",
    "# Simulating DNA sequencing statistics\n",
    "\n",
    "# Step 1: Initialize sequencing data\n",
    "total_reads = 50000  # Total sequencing reads\n",
    "high_quality_reads = 32000  # Reads with high quality\n",
    "low_quality_reads = total_reads - high_quality_reads  # Remaining are low quality\n",
    "\n",
    "# Step 2: Calculate the percentage of high-quality reads\n",
    "high_quality_percentage = (high_quality_reads / total_reads) * 100\n",
    "\n",
    "# Step 3: Check if sequencing quality is acceptable\n",
    "is_high_quality = high_quality_percentage >= 70\n",
    "is_low_quality = high_quality_percentage < 50\n",
    "\n",
    "# Step 4: Adjust sequencing reads based on additional processing\n",
    "total_reads += 5000  # New batch of reads added\n",
    "high_quality_reads *= 1.1  # Assume a 10% improvement after filtering\n",
    "\n",
    "# Step 5: Generate a sequencing report\n",
    "report_title = \"Sequencing Report\"\n",
    "separator = \"=\" * len(report_title)\n",
    "\n",
    "report = report_title + \"\\n\" + separator\n",
    "report += (f\"\\nTotal Reads: {total_reads}\")\n",
    "report += (f\"\\nHigh-Quality Reads: {int(high_quality_reads)}\")\n",
    "report += (f\"\\nHigh-Quality Percentage: {high_quality_percentage:.2f}%\")\n",
    "report += (f\"\\nSequencing Quality Acceptable: {is_high_quality}\")\n",
    "report += (f\"\\nWarning: Low Quality? {is_low_quality}\")\n",
    "\n",
    "# Step 6: Print the final report\n",
    "print(report)\n",
    "\n"
   ]
  },
  {
   "cell_type": "code",
   "execution_count": null,
   "metadata": {},
   "outputs": [],
   "source": [
    "# TRY IT OUT BY YOURSELF AREA IF YOU TRUST YOURSELF! I BELIEVE IN YOU! YOU CAN DO IT! NO PAIN NO GAIN!"
   ]
  },
  {
   "cell_type": "markdown",
   "metadata": {},
   "source": [
    "### Problem 1: Calculating Total Analysis Cost with Discount\n",
    "\n",
    "**Scenario:**  \n",
    "Tekin is working in a public health laboratory and receives multiple wastewater samples for analysis.  \n",
    "Each type of analysis has a specific cost:\n",
    "\n",
    "- **Bacterial analysis**: 5.99 TL per sample  \n",
    "- **Viral analysis**: 4.49 TL per sample  \n",
    "\n",
    "This week, Tekin receives:  \n",
    "- **3.5 composite samples** for bacterial testing  \n",
    "- **2 discrete samples** for viral testing  \n",
    "\n",
    "If the **total cost exceeds 25 TL**, the lab applies a **10% discount** as part of a bulk analysis policy.\n",
    "\n",
    "---\n",
    "\n",
    "**Your Task:**  \n",
    "Write a Python program that:\n",
    "\n",
    "1. Calculates the total analysis cost.  \n",
    "2. Applies a **10% discount** if the total exceeds 25 TL.  \n",
    "3. Prints the **final cost**.\n"
   ]
  },
  {
   "cell_type": "code",
   "execution_count": null,
   "metadata": {},
   "outputs": [],
   "source": [
    "# TRY TO SOLVE IT!"
   ]
  },
  {
   "cell_type": "code",
   "execution_count": null,
   "metadata": {},
   "outputs": [],
   "source": [
    "# TRY TO SOLVE IT!"
   ]
  },
  {
   "cell_type": "code",
   "execution_count": null,
   "metadata": {},
   "outputs": [],
   "source": [
    "# TRY TO SOLVE IT!"
   ]
  },
  {
   "cell_type": "code",
   "execution_count": null,
   "metadata": {},
   "outputs": [],
   "source": [
    "# Prices per sample type\n",
    "bacterial_analysis_price = 5.99   # e.g. E. coli test\n",
    "viral_analysis_price = 4.49       # e.g. SARS-CoV-2 test\n",
    "\n",
    "# Number of samples received\n",
    "bacterial_samples = 3.5  # composite samples\n",
    "viral_samples = 2        # discrete samples\n",
    "\n",
    "# Step 1: Calculate total cost\n",
    "total_cost = (bacterial_analysis_price * bacterial_samples) + (viral_analysis_price * viral_samples)\n",
    "\n",
    "# Step 2: Apply 10% discount if total cost > 25 TL\n",
    "if total_cost > 25:\n",
    "    discount = total_cost * 0.10\n",
    "    final_price = total_cost - discount\n",
    "else:\n",
    "    final_price = total_cost\n",
    "\n",
    "# Step 3: Print final result\n",
    "print(f\"Total cost before discount: {total_cost:.2f} TL\")\n",
    "print(f\"Final price after discount (if applicable): {final_price:.2f} TL\")\n"
   ]
  },
  {
   "cell_type": "code",
   "execution_count": null,
   "metadata": {},
   "outputs": [],
   "source": [
    "# Solution"
   ]
  },
  {
   "cell_type": "markdown",
   "metadata": {},
   "source": [
    "\n",
    "---\n",
    "\n",
    "#  Problem 2: DNA Base Count\n",
    "### Scenario\n",
    "You are analyzing a **DNA sequence** and need to count the occurrences of **each nucleotide** (A, T, C, G).\n",
    "\n",
    "###  Task\n",
    "Write a Python program that:\n",
    "1. Takes a **DNA sequence** as input.\n",
    "2. Counts how many times each **nucleotide** appears (A, T, C, G).\n",
    "3. Prints the counts.\n",
    "\n"
   ]
  },
  {
   "cell_type": "code",
   "execution_count": null,
   "metadata": {},
   "outputs": [],
   "source": [
    "# Solution"
   ]
  },
  {
   "cell_type": "code",
   "execution_count": null,
   "metadata": {},
   "outputs": [],
   "source": [
    "# Solution"
   ]
  },
  {
   "cell_type": "code",
   "execution_count": null,
   "metadata": {},
   "outputs": [],
   "source": [
    "# PROBLEM Number Two\n",
    "\n",
    "# Input DNA sequence\n",
    "dna_sequence = input(\"Enter a DNA sequence: \").upper()\n",
    "\n",
    "# Count occurrences of each nucleotide\n",
    "count_A = dna_sequence.count(\"A\")\n",
    "count_T = dna_sequence.count(\"T\")\n",
    "count_C = dna_sequence.count(\"C\")\n",
    "count_G = dna_sequence.count(\"G\")\n",
    "\n",
    "# Print results\n",
    "print(f\"A: {count_A}\")\n",
    "print(f\"T: {count_T}\")\n",
    "print(f\"C: {count_C}\")\n",
    "print(f\"G: {count_G}\")\n"
   ]
  },
  {
   "cell_type": "code",
   "execution_count": null,
   "metadata": {},
   "outputs": [],
   "source": [
    "# Congratulations! You've finished the first module, let's move on to the next one!"
   ]
  },
  {
   "cell_type": "code",
   "execution_count": null,
   "metadata": {},
   "outputs": [],
   "source": []
  },
  {
   "cell_type": "code",
   "execution_count": null,
   "metadata": {},
   "outputs": [],
   "source": []
  }
 ],
 "metadata": {
  "kernelspec": {
   "display_name": "Python 3 (ipykernel)",
   "language": "python",
   "name": "python3"
  },
  "language_info": {
   "codemirror_mode": {
    "name": "ipython",
    "version": 3
   },
   "file_extension": ".py",
   "mimetype": "text/x-python",
   "name": "python",
   "nbconvert_exporter": "python",
   "pygments_lexer": "ipython3",
   "version": "3.10.12"
  }
 },
 "nbformat": 4,
 "nbformat_minor": 2
}
