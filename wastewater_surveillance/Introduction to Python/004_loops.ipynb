{
 "cells": [
  {
   "cell_type": "markdown",
   "metadata": {},
   "source": [
    "# For Loops in Python – Tekin Analyzes Wastewater Data\n",
    "\n",
    "A `for` loop allows us to iterate over a sequence (e.g., a string, list, or tuple) and execute a block of code multiple times. This is incredibly useful for analyzing large datasets, which is often the case in wastewater surveillance.\n",
    "\n",
    "### Why Use `for` Loops in Wastewater Surveillance?\n",
    "\n",
    "A `for` loop is used to iterate over sequences, such as strings, lists, or tuples, allowing us to process data efficiently without writing repetitive code. In wastewater surveillance, `for` loops are crucial for tasks like:\n",
    "\n",
    "- Iterating through multiple samples or time points\n",
    "- Checking if viral loads exceed thresholds in a large number of samples\n",
    "- Analyzing sequences of nucleotides or pathogens\n",
    "- Processing large datasets of environmental data, such as reading multiple sequences from a file\n",
    "\n",
    "By automating repetitive tasks, `for` loops help Tekin efficiently analyze wastewater surveillance data. For example, he could loop through a list of samples and apply specific analysis or check each sample's viral load against an established threshold. This greatly reduces the need for manual intervention and helps in processing large batches of data.\n",
    "\n",
    "---\n",
    "\n",
    "## **Basic `for` Loop**\n",
    "\n",
    "A `for` loop iterates over a sequence **element by element**, which is useful for analyzing multiple samples or sequences at once.\n",
    "\n"
   ]
  },
  {
   "cell_type": "markdown",
   "metadata": {},
   "source": [
    "### But first let's learn what is list!\n",
    "\n",
    "What is a List in Python?\n",
    "\n",
    "A list is a built-in data structure in Python that allows you to store multiple values in a single variable. Lists are ordered, meaning the elements inside them maintain their sequence. They are also mutable, which means you can modify, add, or remove elements after creating them. Lists can store different data types, including numbers, strings, or even other lists. In bioinformatics, lists are useful for storing DNA sequences, protein residues, nucleotide frequencies, or gene names. Since lists support indexing and iteration, they allow efficient manipulation of biological data, such as extracting codons, filtering specific nucleotides, or analyzing sequence motifs.\n",
    "\n",
    "* Now we can move onto the simple example"
   ]
  },
  {
   "cell_type": "code",
   "execution_count": 1,
   "metadata": {},
   "outputs": [
    {
     "name": "stdout",
     "output_type": "stream",
     "text": [
      "Processing sample: WWTP_01\n",
      "Processing sample: WWTP_02\n",
      "Processing sample: WWTP_03\n"
     ]
    }
   ],
   "source": [
    "# Iterating through a list of wastewater samples\n",
    "samples = [\"WWTP_01\", \"WWTP_02\", \"WWTP_03\"]\n",
    "\n",
    "for sample in samples:\n",
    "    print(f\"Processing sample: {sample}\")\n"
   ]
  },
  {
   "cell_type": "markdown",
   "metadata": {},
   "source": [
    "Iterating through a DNA Sequence in Wastewater Samples\n",
    "A common task in wastewater surveillance is to analyze viral sequences. Tekin might use a for loop to iterate through each nucleotide in a viral genome sequence to detect certain patterns or mutations."
   ]
  },
  {
   "cell_type": "code",
   "execution_count": 2,
   "metadata": {},
   "outputs": [
    {
     "name": "stdout",
     "output_type": "stream",
     "text": [
      "A\n",
      "T\n",
      "G\n",
      "C\n",
      "G\n",
      "T\n"
     ]
    }
   ],
   "source": [
    "# Iterating through a viral genome sequence in wastewater\n",
    "viral_sequence = \"ATGCGT\"\n",
    "\n",
    "for nucleotide in viral_sequence:\n",
    "    print(nucleotide)"
   ]
  },
  {
   "cell_type": "markdown",
   "metadata": {},
   "source": [
    "### Analyzing Multiple Samples in Wastewater Surveillance\n",
    "Tekin could also use for loops to analyze multiple samples, checking if their viral load exceeds a threshold, as in the following example:"
   ]
  },
  {
   "cell_type": "code",
   "execution_count": null,
   "metadata": {},
   "outputs": [],
   "source": [
    "# List of viral loads in wastewater samples\n",
    "viral_loads = [18000, 32000, 25000, 27000, 15000]\n",
    "\n",
    "# Define the threshold for high viral load\n",
    "threshold = 25000\n",
    "\n",
    "# Loop through each sample and check if it exceeds the threshold\n",
    "for load in viral_loads:\n",
    "    if load > threshold:\n",
    "        print(f\"High viral load detected: {load} copies/mL\")\n",
    "    else:\n",
    "        print(f\"Normal viral load: {load} copies/mL\")\n"
   ]
  },
  {
   "cell_type": "code",
   "execution_count": null,
   "metadata": {},
   "outputs": [],
   "source": []
  },
  {
   "cell_type": "code",
   "execution_count": null,
   "metadata": {},
   "outputs": [],
   "source": []
  },
  {
   "cell_type": "code",
   "execution_count": null,
   "metadata": {},
   "outputs": [],
   "source": []
  },
  {
   "cell_type": "code",
   "execution_count": 4,
   "metadata": {},
   "outputs": [
    {
     "name": "stdout",
     "output_type": "stream",
     "text": [
      "['ATGCGT', 'TTAAGC', 'CCGATT']\n",
      "First sequence: ATGCGT\n",
      "Second sequence: TTAAGC\n",
      "Third sequence: CCGATT\n"
     ]
    }
   ],
   "source": [
    "# Here is the simple example of a list.\n",
    "\n",
    "dna_sequences = [\"ATGCGT\", \"TTAAGC\", \"CCGATT\"]\n",
    "print(dna_sequences)\n",
    "\n",
    "# This list has tree elements in it.\n",
    "\n",
    "# Each element inside the list can be accessed using its index, and indexing starts from ZERO.\n",
    "\n",
    "# Let me show you how can you print the first element in the list below\n",
    "\n",
    "dna_sequences[0] # This means print the first index which is the first element in the list. Try it out!\n",
    "\n",
    "# We can continue like 0, 1, 2 since there are three indexes/elements\n",
    "\n",
    "# If we want, we can make it prettier as always!\n",
    "\n",
    "print(\"First sequence:\", dna_sequences[0])  # Output: ATGCGT\n",
    "print(\"Second sequence:\", dna_sequences[1])  # Output: TTAAGC\n",
    "print(\"Third sequence:\", dna_sequences[2])  # Output: CCGATT\n",
    "\n",
    "# When you see the lovely square brackets, you will understand that \n",
    "# you're dealing with a list\n",
    "\n",
    "# Check it out by running the code!"
   ]
  },
  {
   "cell_type": "code",
   "execution_count": null,
   "metadata": {},
   "outputs": [],
   "source": [
    "# TRY IT OUT BY YOURSELF AREA"
   ]
  },
  {
   "cell_type": "markdown",
   "metadata": {},
   "source": [
    "## **Iterating Through a List in Wastewater Surveillance**\n",
    "A `for` loop can iterate over a list of items, which is useful when processing multiple samples, sequence bases, or other biological data.\n",
    "\n",
    "```python\n",
    "# List of nucleotides detected in a wastewater sample\n",
    "nucleotides = [\"A\", \"T\", \"C\", \"G\"]\n",
    "\n",
    "for base in nucleotides:\n",
    "    print(f\"Nucleotide: {base}\")\n"
   ]
  },
  {
   "cell_type": "code",
   "execution_count": null,
   "metadata": {},
   "outputs": [],
   "source": [
    "# CODE PLAYGROUND"
   ]
  },
  {
   "cell_type": "markdown",
   "metadata": {},
   "source": [
    "In this example, Tekin uses a for loop to iterate over a list of nucleotides in a sample and print each nucleotide. This approach can be extended to analyze sequence data, detect specific patterns, or validate the composition of wastewater samples in genomic studies.\n",
    "\n",
    "For instance, Tekin could use this loop to check if all the nucleotides in a sequence are valid (A, T, C, G) or to detect patterns like the start codon (\"ATG\") in a viral genome."
   ]
  },
  {
   "cell_type": "markdown",
   "metadata": {},
   "source": [
    "### We changed the structure of the lists as below. Now we have multiple elements in the list."
   ]
  },
  {
   "cell_type": "code",
   "execution_count": null,
   "metadata": {},
   "outputs": [],
   "source": [
    "# List of gene names\n",
    "genes = [\"BRCA1\", \"TP53\", \"EGFR\", \"MYC\"]\n",
    "\n",
    "# Iterating through the list of genes\n",
    "for gene in genes:\n",
    "    print(f\"Gene: {gene}\")\n"
   ]
  },
  {
   "cell_type": "markdown",
   "metadata": {},
   "source": [
    "### If I want to print the first letter of the zero index which code I should use?"
   ]
  },
  {
   "cell_type": "code",
   "execution_count": null,
   "metadata": {},
   "outputs": [],
   "source": [
    "# CODE PLAYGROUND (Trying is free)"
   ]
  },
  {
   "cell_type": "code",
   "execution_count": null,
   "metadata": {},
   "outputs": [],
   "source": [
    "# SOLUTION\n",
    "\n",
    "# List of gene names\n",
    "genes = [\"BRCA1\", \"TP53\", \"EGFR\", \"MYC\"]\n",
    "\n",
    "# Printing the first letter of the first gene (index 0)\n",
    "print(genes[0][0])  \n"
   ]
  },
  {
   "cell_type": "markdown",
   "metadata": {},
   "source": [
    "## **Using `range()` in a Loop for Wastewater Surveillance Tasks**\n",
    "The `range()` function is useful for iterating a set number of times, which is beneficial when you need to loop through a fixed number of samples or time points.\n",
    "\n",
    "```python\n",
    "# Printing sample numbers from 1 to 5 (for example, representing sample IDs)\n",
    "for i in range(1, 6):\n",
    "    print(f\"Processing Sample #{i}\")\n"
   ]
  },
  {
   "cell_type": "markdown",
   "metadata": {},
   "source": [
    "In this example, Tekin uses range() to loop through a set number of samples, printing a message for each sample ID. This could be applied to tasks like iterating through a batch of wastewater samples and performing quality control or viral load analysis.\n",
    "\n",
    "For instance, Tekin could use range() to repeat an analysis multiple times, such as checking the viral load of several samples at once, or to automate statistical processing over several time points in a surveillance dataset."
   ]
  },
  {
   "cell_type": "code",
   "execution_count": null,
   "metadata": {},
   "outputs": [],
   "source": [
    "# Simulating gene expression levels for 5 genes\n",
    "for i in range(1, 6):\n",
    "    print(f\"Gene {i}: Expression Level Recorded\")\n"
   ]
  },
  {
   "cell_type": "code",
   "execution_count": null,
   "metadata": {},
   "outputs": [],
   "source": [
    "# CODE PLAYGROUND"
   ]
  },
  {
   "cell_type": "code",
   "execution_count": null,
   "metadata": {},
   "outputs": [],
   "source": [
    "# Generating gene IDs from Gene_1 to Gene_10\n",
    "for i in range(1, 11):\n",
    "    print(f\"Gene_{i}\")\n"
   ]
  },
  {
   "cell_type": "code",
   "execution_count": null,
   "metadata": {},
   "outputs": [],
   "source": [
    "# CODE PLAYGROUND"
   ]
  },
  {
   "cell_type": "markdown",
   "metadata": {},
   "source": [
    "## **Looping Through a DNA Sequence in Triplets (Codons) for Wastewater Surveillance**\n",
    "\n",
    "In wastewater surveillance, especially when analyzing viral genomes, it is often useful to **step through a DNA sequence in triplets**, extracting codons to detect gene start points or analyze mutations.\n",
    "\n",
    "```python\n",
    "# DNA sequence representing a viral genome\n",
    "dna_sequence = \"ATGCGTAAGTCC\"\n",
    "\n",
    "# Loop through the sequence in triplets\n",
    "for i in range(0, len(dna_sequence), 3):\n",
    "    codon = dna_sequence[i:i+3]\n",
    "    print(codon)\n"
   ]
  },
  {
   "cell_type": "code",
   "execution_count": 1,
   "metadata": {},
   "outputs": [
    {
     "name": "stdout",
     "output_type": "stream",
     "text": [
      "Codon 1: ATG\n",
      "Codon 2: CGT\n",
      "Codon 3: AAG\n",
      "Codon 4: TCC\n"
     ]
    }
   ],
   "source": [
    "# DNA sequence\n",
    "dna_sequence = \"ATGCGTAAGTCC\"\n",
    "\n",
    "# Loop through the sequence in triplets (codons)\n",
    "for i in range(0, len(dna_sequence), 3):\n",
    "    codon = dna_sequence[i:i+3]\n",
    "    print(f\"Codon {i//3 + 1}: {codon}\")\n"
   ]
  },
  {
   "cell_type": "code",
   "execution_count": null,
   "metadata": {},
   "outputs": [],
   "source": [
    "# CODE PLAYGROUND"
   ]
  },
  {
   "cell_type": "markdown",
   "metadata": {},
   "source": [
    "### Explanation:\n",
    "\n",
    "**`range(0, len(dna_sequence), 3)`**: \n",
    "This loop starts at index `i = 0` and steps forward by 3 positions each time (i.e., processing three bases at a time).\n",
    "\n",
    "- `range(0, len(dna_sequence), 3)` generates numbers like `0`, `3`, `6`, `9`, etc., corresponding to the positions where each codon starts.\n",
    "- `len(dna_sequence)` ensures the loop stops when the sequence's end is reached.\n",
    "\n",
    "**`codon = dna_sequence[i:i+3]`**: \n",
    "This extracts a triplet of nucleotides starting at index `i`.\n",
    "\n",
    "- `dna_sequence[i:i+3]` slices the sequence into three consecutive bases, each representing a codon.\n",
    "\n",
    "### Codon Numbering:\n",
    "- `i//3 + 1` calculates the current codon number.\n",
    "- `i//3` gives a 0-based index, and adding `+1` converts it to a 1-based codon number (e.g., Codon 1, Codon 2, etc.).\n",
    "\n",
    "---\n",
    "\n",
    "### Example Iterations:\n",
    "\n",
    "**First iteration (i = 0):**\n",
    "\n",
    "```python\n",
    "codon = dna_sequence[0:3]  # \"ATG\"\n",
    "codon_number = 0 // 3 + 1  # 1\n"
   ]
  },
  {
   "cell_type": "markdown",
   "metadata": {},
   "source": [
    "## **Using `enumerate()` for Indexed Iteration in Wastewater Surveillance**\n",
    "\n",
    "The `enumerate()` function allows you to track both the **index** and the value of elements while iterating through a sequence, which is useful for tasks like locating specific elements within a DNA sequence or tracking sample positions.\n",
    "\n",
    "```python\n",
    "dna_sequence = \"ATGCGT\"\n",
    "\n",
    "for index, nucleotide in enumerate(dna_sequence):\n",
    "    print(f\"Position {index}: {nucleotide}\")\n"
   ]
  },
  {
   "cell_type": "code",
   "execution_count": null,
   "metadata": {},
   "outputs": [],
   "source": [
    "# List of AMR genes\n",
    "amr_genes = [\"blaCTX-M\", \"mecA\", \"tetM\", \"aadA1\", \"ermB\"]\n",
    "\n",
    "# Using enumerate() to track the index and gene name\n",
    "for index, gene in enumerate(amr_genes):\n",
    "    print(f\"AMR Gene {index + 1}: {gene}\")\n"
   ]
  },
  {
   "cell_type": "code",
   "execution_count": null,
   "metadata": {},
   "outputs": [],
   "source": [
    "# CODE PLAYGROUND"
   ]
  },
  {
   "cell_type": "markdown",
   "metadata": {},
   "source": [
    "### Explanation:\n",
    "enumerate(dna_sequence): This function returns both the index and the element (nucleotide in this case) as you loop through the sequence.\n",
    "\n",
    "for index, nucleotide in enumerate(dna_sequence): index keeps track of the current position in the sequence, while nucleotide gives you the base at that position.\n",
    "\n",
    "This is useful in wastewater surveillance when analyzing a sequence and needing both the nucleotide and its position, for example, to detect certain genetic patterns or flag specific mutations that occur at certain locations in the sequence.\n",
    "\n",
    "In this example, Tekin is processing a DNA sequence and printing each nucleotide along with its position, which can be extended to larger genomic datasets in wastewater surveillance.\n",
    "\n"
   ]
  },
  {
   "cell_type": "markdown",
   "metadata": {},
   "source": [
    "## **Filtering with `for` Loops in Wastewater Surveillance**\n",
    "\n",
    "Filtering specific bases in a sequence is crucial when analyzing genetic data. For example, Tekin might want to find specific nucleotides, like \"G\" (Guanine), in a viral genome sequence from a wastewater sample.\n",
    "\n",
    "```python\n",
    "dna_sequence = \"ATGCGTAAGTCC\"\n",
    "\n",
    "# Finding only 'G' bases\n",
    "for base in dna_sequence:\n",
    "    if base == \"G\":\n",
    "        print(f\"Guanine found at position {dna_sequence.index(base)}\")\n"
   ]
  },
  {
   "cell_type": "markdown",
   "metadata": {},
   "source": [
    "### Explanation:\n",
    "* for base in dna_sequence:: This loop iterates over each base in the DNA sequence.\n",
    "\n",
    "* if base == \"G\":: This condition filters the sequence to only process the bases that are \"G\" (Guanine).\n",
    "\n",
    "* dna_sequence.index(base): This method retrieves the position of the base in the sequence, showing where \"G\" is located.\n",
    "\n",
    "* In wastewater surveillance, this approach is useful for identifying and tracking specific nucleotide occurrences, such as detecting mutations, analyzing gene expression, or flagging certain pathogen markers. Tekin could adapt this method to filter out specific bases in a large dataset of genetic sequences from wastewater samples.\n",
    "\n"
   ]
  },
  {
   "cell_type": "code",
   "execution_count": null,
   "metadata": {},
   "outputs": [],
   "source": [
    "# List of AMR genes\n",
    "amr_genes = [\"blaCTX-M\", \"mecA\", \"tetM\", \"aadA1\", \"ermB\", \"blaTEM\", \"vanA\", \"blaOXA\"]\n",
    "\n",
    "# Filtering only β-lactam resistance genes (genes that start with 'bla')\n",
    "for gene in amr_genes:\n",
    "    if gene.startswith(\"bla\"):\n",
    "        print(f\"β-lactam resistance gene found: {gene}\")\n"
   ]
  },
  {
   "cell_type": "code",
   "execution_count": null,
   "metadata": {},
   "outputs": [],
   "source": [
    "# Playground is all yours!"
   ]
  },
  {
   "cell_type": "code",
   "execution_count": null,
   "metadata": {},
   "outputs": [],
   "source": [
    "# Playground is all yours!"
   ]
  },
  {
   "cell_type": "markdown",
   "metadata": {},
   "source": [
    "\n",
    "##  **Summary**\n",
    "- **`for` loops iterate** over strings, lists, and other sequences.\n",
    "- **`range()` allows looping a specific number of times.**\n",
    "- **We can loop through a DNA sequence in triplets (codons).**\n",
    "- **`enumerate()` helps track positions in a sequence.**\n",
    "- **`if` conditions inside loops allow filtering specific elements.**\n",
    "\n",
    "Next, we will explore **list manipulations and operations in Python**."
   ]
  },
  {
   "cell_type": "markdown",
   "metadata": {},
   "source": [
    "# **Loops in Python: `while`, `continue`, and `break` in Wastewater Surveillance**\n",
    "\n",
    "Loops are a fundamental part of Python programming, allowing us to execute a block of code **multiple times** until a condition is met. In this section, we will explore the **`while` loop** and how to control it using **`break` and `continue`**.\n",
    "\n",
    "---\n",
    "\n",
    "## **What is a `while` Loop?**\n",
    "\n",
    "A `while` loop **repeats** a block of code **as long as a condition remains `True`**. It is especially useful when the number of iterations is unknown in advance, such as when Tekin needs to process a series of data points until a certain threshold is met.\n",
    "\n",
    "### **Syntax:**\n",
    "\n",
    "```python\n",
    "while condition:\n",
    "    # Code to execute\n"
   ]
  },
  {
   "cell_type": "code",
   "execution_count": null,
   "metadata": {},
   "outputs": [],
   "source": [
    "# Sample viral loads (in copies/mL) for each wastewater sample\n",
    "viral_loads = [18000, 22000, 30000, 25000, 27000]\n",
    "\n",
    "# Threshold for high viral load\n",
    "threshold = 25000\n",
    "\n",
    "# Check viral load until one exceeds the threshold\n",
    "index = 0\n",
    "while viral_loads[index] <= threshold:\n",
    "    print(f\"Sample {index+1} has a normal viral load: {viral_loads[index]} copies/mL\")\n",
    "    index += 1\n",
    "\n",
    "print(f\"Sample {index+1} has a high viral load: {viral_loads[index]} copies/mL\")\n",
    "\n",
    "\n"
   ]
  },
  {
   "cell_type": "markdown",
   "metadata": {},
   "source": [
    "In this example, the **while** loop continues to monitor the viral loads until one sample exceeds the predefined threshold. Once the condition is met, it breaks the loop and prints a message."
   ]
  },
  {
   "cell_type": "markdown",
   "metadata": {},
   "source": [
    "### Why while, continue, and break Matter for Wastewater Surveillance\n",
    "\n",
    "* These control flow tools allow Tekin to:\n",
    "\n",
    "* Monitor data dynamically (e.g., checking viral load until a certain threshold is met)\n",
    "\n",
    "* Skip invalid data with continue, ensuring that only relevant data is processed\n",
    "\n",
    "* Stop the loop early with break when a critical condition is met, optimizing the analysis process\n",
    "\n",
    "* By mastering these tools, Tekin can write efficient, adaptable code that reacts dynamically to the data, which is essential for handling the complexities and variability of wastewater surveillance data.\n",
    "\n"
   ]
  },
  {
   "cell_type": "code",
   "execution_count": null,
   "metadata": {},
   "outputs": [],
   "source": [
    "# Sample viral loads\n",
    "viral_loads = [18000, 22000, 30000, 25000, 27000]\n",
    "\n",
    "# Threshold for high viral load\n",
    "threshold = 25000\n",
    "\n",
    "# Stop processing when a sample exceeds the threshold\n",
    "for load in viral_loads:\n",
    "    if load > threshold:\n",
    "        print(f\"High viral load detected: {load} copies/mL\")\n",
    "        break\n",
    "    print(f\"Viral load: {load} copies/mL\")\n"
   ]
  },
  {
   "cell_type": "code",
   "execution_count": null,
   "metadata": {},
   "outputs": [],
   "source": [
    "# Example of using while. \n",
    "# Stop scanning a DNA sequence as soon as a mutation (X) is found.\n",
    "\n",
    "\n",
    "dna_sequence = \"ATGCGTXAGGCTAAGTGA\"\n",
    "\n",
    "index = 0\n",
    "while index < len(dna_sequence):\n",
    "    if dna_sequence[index] == \"X\":\n",
    "        print(f\"Mutation found at position {index + 1}! Stopping scan.\")\n",
    "        break  # Stops the loop when a mutation is found\n",
    "    index += 1\n"
   ]
  },
  {
   "cell_type": "code",
   "execution_count": null,
   "metadata": {},
   "outputs": [],
   "source": [
    "# CODE PLAYGROUND"
   ]
  },
  {
   "cell_type": "code",
   "execution_count": 3,
   "metadata": {},
   "outputs": [
    {
     "name": "stdout",
     "output_type": "stream",
     "text": [
      "Processing high-quality variant with score: 35\n",
      "Processing high-quality variant with score: 50\n",
      "Processing high-quality variant with score: 40\n",
      "Processing high-quality variant with score: 30\n"
     ]
    }
   ],
   "source": [
    "# Another example. Skip low-quality variants (Quality < 20) and only process high-quality ones.\n",
    " \n",
    "quality_scores = [35, 18, 50, 12, 40, 5, 30]\n",
    "\n",
    "for score in quality_scores:\n",
    "    if score < 20:\n",
    "        continue  # Skip low-quality scores\n",
    "    \n",
    "    print(f\"Processing high-quality variant with score: {score}\")\n"
   ]
  },
  {
   "cell_type": "code",
   "execution_count": null,
   "metadata": {},
   "outputs": [],
   "source": [
    "# CODE PLAYGROUND"
   ]
  },
  {
   "cell_type": "code",
   "execution_count": 4,
   "metadata": {},
   "outputs": [
    {
     "name": "stdout",
     "output_type": "stream",
     "text": [
      "Stop codon 'TAG' found at position 10. Stopping scan.\n"
     ]
    }
   ],
   "source": [
    "# Finding the First Stop Codon (TAA, TAG, TGA)\n",
    "\n",
    "dna_sequence = \"ATGCCTGATTAGCGTAAAGTGA\"\n",
    "index = 0\n",
    "\n",
    "while index < len(dna_sequence) - 2:\n",
    "    codon = dna_sequence[index : index + 3]  # Extract triplet codon\n",
    "    \n",
    "    if codon not in [\"TAA\", \"TAG\", \"TGA\"]:\n",
    "        index += 3  # Move to the next codon\n",
    "        continue  # Skip processing if not a stop codon\n",
    "\n",
    "    print(f\"Stop codon '{codon}' found at position {index + 1}. Stopping scan.\")\n",
    "    break  # Exit loop when a stop codon is found"
   ]
  },
  {
   "cell_type": "code",
   "execution_count": null,
   "metadata": {},
   "outputs": [],
   "source": [
    "# CODE PLAYGROUND"
   ]
  },
  {
   "cell_type": "markdown",
   "metadata": {},
   "source": [
    "# Problem 1: Extracting Codons from a DNA Sequence\n",
    "\n",
    "### **Scenario**\n",
    "You are working with DNA sequences and need to extract codons (triplets of nucleotides) from a given sequence.\n",
    "\n",
    "### **Task**\n",
    "Write a Python program that:\n",
    "\n",
    "1. Takes a **DNA sequence** as input from the user.\n",
    "2. Extracts **codons (triplets of nucleotides)** from the sequence.\n",
    "3. Prints each **codon with its position**.\n",
    "\n",
    "---\n",
    "\n",
    "### **Example Output**\n",
    "For example, if the input DNA sequence is:\n",
    "\n",
    "ATGCGTAAGTCC\n",
    "\n",
    "### **Hint**\n",
    "You can use a `for` loop to iterate over the DNA sequence in steps of 3 to extract each codon.\n",
    "\n",
    "---\n",
    "\n",
    "\n"
   ]
  },
  {
   "cell_type": "code",
   "execution_count": null,
   "metadata": {},
   "outputs": [],
   "source": [
    "# CODE PLAYGROUND"
   ]
  },
  {
   "cell_type": "code",
   "execution_count": null,
   "metadata": {},
   "outputs": [],
   "source": [
    "# CODE PLAYGROUND"
   ]
  },
  {
   "cell_type": "markdown",
   "metadata": {},
   "source": [
    "\n",
    "---\n",
    "\n",
    "# Problem 2: Counting Specific Bases in a DNA Sequence\n",
    "### Scenario\n",
    "You need to analyze a DNA sequence and count how many times a **specific nucleotide** (A, T, C, or G) appears.\n",
    "\n",
    "### Task\n",
    "Write a Python program that:\n",
    "- Takes a **DNA sequence** and a **nucleotide** from the user.\n",
    "- Counts how many times the given nucleotide appears in the sequence.\n",
    "- Prints the **count**."
   ]
  },
  {
   "cell_type": "code",
   "execution_count": null,
   "metadata": {},
   "outputs": [],
   "source": [
    "# CODE PLAYGROUND"
   ]
  },
  {
   "cell_type": "code",
   "execution_count": null,
   "metadata": {},
   "outputs": [],
   "source": [
    "# CODE PLAYGROUND"
   ]
  },
  {
   "cell_type": "code",
   "execution_count": null,
   "metadata": {},
   "outputs": [],
   "source": [
    "# CODE PLAYGROUND"
   ]
  },
  {
   "cell_type": "code",
   "execution_count": null,
   "metadata": {},
   "outputs": [],
   "source": [
    "# CODE PLAYGROUND"
   ]
  },
  {
   "cell_type": "code",
   "execution_count": 7,
   "metadata": {},
   "outputs": [
    {
     "name": "stdout",
     "output_type": "stream",
     "text": [
      "Enter a DNA sequence: ACACT\n",
      "Codon 1: ACA\n",
      "Codon 2: CT\n"
     ]
    }
   ],
   "source": [
    "\n",
    "# Step 1: Get input from the user\n",
    "dna_sequence = input(\"Enter a DNA sequence: \").upper()\n",
    "\n",
    "# Step 2: Extract codons (triplets of nucleotides)\n",
    "for i in range(0, len(dna_sequence), 3):\n",
    "    codon = dna_sequence[i:i+3]  # Extract 3 nucleotides at a time\n",
    "    print(f\"Codon {i//3 + 1}: {codon}\")"
   ]
  },
  {
   "cell_type": "code",
   "execution_count": null,
   "metadata": {},
   "outputs": [],
   "source": [
    "# CODE PLAYGROUND"
   ]
  },
  {
   "cell_type": "code",
   "execution_count": null,
   "metadata": {},
   "outputs": [],
   "source": [
    "# CODE PLAYGROUND"
   ]
  },
  {
   "cell_type": "code",
   "execution_count": null,
   "metadata": {},
   "outputs": [],
   "source": [
    "# Solution Number 2:\n",
    "\n",
    "# Get user input\n",
    "dna_sequence = input(\"Enter a DNA sequence: \").upper()\n",
    "nucleotide = input(\"Enter the nucleotide to count: \").upper()\n",
    "\n",
    "# Validate input\n",
    "if nucleotide not in [\"A\", \"T\", \"C\", \"G\"]:\n",
    "    print(\"Invalid nucleotide! Please enter A, T, C, or G.\")\n",
    "else:\n",
    "    # Count occurrences\n",
    "    count = dna_sequence.count(nucleotide)\n",
    "    print(f\"The nucleotide '{nucleotide}' appears {count} times in the sequence.\")\n"
   ]
  },
  {
   "cell_type": "code",
   "execution_count": null,
   "metadata": {},
   "outputs": [],
   "source": [
    "# CODE PLAYGROUND"
   ]
  },
  {
   "cell_type": "markdown",
   "metadata": {},
   "source": [
    "# Questions?"
   ]
  }
 ],
 "metadata": {
  "kernelspec": {
   "display_name": "Python 3 (ipykernel)",
   "language": "python",
   "name": "python3"
  },
  "language_info": {
   "codemirror_mode": {
    "name": "ipython",
    "version": 3
   },
   "file_extension": ".py",
   "mimetype": "text/x-python",
   "name": "python",
   "nbconvert_exporter": "python",
   "pygments_lexer": "ipython3",
   "version": "3.10.12"
  }
 },
 "nbformat": 4,
 "nbformat_minor": 2
}
