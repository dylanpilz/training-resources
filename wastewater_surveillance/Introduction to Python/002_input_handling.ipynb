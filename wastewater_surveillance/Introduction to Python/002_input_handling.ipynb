{
 "cells": [
  {
   "cell_type": "markdown",
   "metadata": {},
   "source": [
    "# Getting User Input in Python – Tekin Interacts with the Data\n",
    "\n",
    "As Tekin’s Python skills improved, he wanted to make his scripts interactive — allowing users (like lab colleagues) to enter information such as sample IDs, measurement values, or viral sequence fragments directly.\n",
    "\n",
    "Python allows us to take user input using the `input()` function.  \n",
    "This function always returns a **string**, so it often needs to be converted into other data types like `int` or `float`.\n",
    "\n",
    "---\n",
    "\n",
    "## Why Use Input Handling in Wastewater Surveillance?\n",
    "\n",
    "Input handling is essential for making Python scripts flexible and useful in real lab environments.  \n",
    "In Tekin’s case, it allowed:\n",
    "\n",
    "- Entering **sample IDs** for tracking  \n",
    "- Typing **measured values** like viral concentrations  \n",
    "- Accepting **user-defined thresholds** for flagging high-risk samples  \n",
    "- Checking the **validity** of input (e.g. numeric ranges or text formats)\n",
    "\n",
    "Since `input()` always returns a string, Tekin often had to **convert input types** and check whether the input was suitable for further processing.  \n",
    "This made his scripts more **robust**, **reusable**, and **ready for real-world deployment**.\n",
    "\n",
    "---\n",
    "\n",
    "### Example: Taking a Sample ID\n",
    "```python\n",
    "sample_id = input(\"Enter sample ID: \")\n",
    "print(\"Sample received:\", sample_id)\n"
   ]
  },
  {
   "cell_type": "code",
   "execution_count": 5,
   "metadata": {},
   "outputs": [
    {
     "name": "stdout",
     "output_type": "stream",
     "text": [
      "What is your name?...Gültekin\n"
     ]
    }
   ],
   "source": [
    "# Let's try it together! Starting from the basic\n",
    "\n",
    "name = input(\"What is your name?...\")\n",
    "\n"
   ]
  },
  {
   "cell_type": "code",
   "execution_count": null,
   "metadata": {},
   "outputs": [],
   "source": [
    "# TRY IT OUT BY YOURSELF AREA"
   ]
  },
  {
   "cell_type": "code",
   "execution_count": null,
   "metadata": {},
   "outputs": [],
   "source": [
    "# So we included the printing now\n",
    "\n",
    "name = input(\"What is your name?...\")\n",
    "\n",
    "print(name)"
   ]
  },
  {
   "cell_type": "code",
   "execution_count": null,
   "metadata": {},
   "outputs": [],
   "source": [
    "# TRY IT OUT BY YOURSELF AREA"
   ]
  },
  {
   "cell_type": "code",
   "execution_count": 6,
   "metadata": {
    "scrolled": true
   },
   "outputs": [
    {
     "name": "stdout",
     "output_type": "stream",
     "text": [
      "What is your name?...Gültekin\n",
      "Your name is: Gültekin\n"
     ]
    }
   ],
   "source": [
    "# Let's make it prettier\n",
    "\n",
    "name = input(\"What is your name?...\")\n",
    "\n",
    "print(f\"Your name is: {name}\")\n"
   ]
  },
  {
   "cell_type": "code",
   "execution_count": null,
   "metadata": {},
   "outputs": [],
   "source": [
    "# TRY IT OUT BY YOURSELF AREA"
   ]
  },
  {
   "cell_type": "code",
   "execution_count": null,
   "metadata": {},
   "outputs": [],
   "source": [
    "# What if I don't want the input itself?"
   ]
  },
  {
   "cell_type": "code",
   "execution_count": 3,
   "metadata": {},
   "outputs": [
    {
     "name": "stdout",
     "output_type": "stream",
     "text": [
      "Enter a DNA sequence: ATACAGCAGCAGÜLTEKİN\n",
      "DNA Sequence: ATACAGCAGCAGÜLTEKİN\n",
      "Valid DNA Sequence: False\n"
     ]
    }
   ],
   "source": [
    "# Taking a DNA sequence as user input\n",
    "dna_sequence = input(\"Enter a DNA sequence: \").upper()\n",
    "\n",
    "# Checking if the sequence contains only valid nucleotides\n",
    "valid_nucleotides = {\"A\", \"T\", \"C\", \"G\"}\n",
    "is_valid = all(base in valid_nucleotides for base in dna_sequence)\n",
    "\n",
    "print(f\"DNA Sequence: {dna_sequence}\")\n",
    "print(f\"Valid DNA Sequence: {is_valid}\")\n"
   ]
  },
  {
   "cell_type": "markdown",
   "metadata": {},
   "source": [
    "# Defining Functions in Python – Tekin Reuses His Code\n",
    "\n",
    "As Tekin’s scripts grew longer, he realized he was repeating the same code over and over.  \n",
    "To make his work more efficient, he started writing **functions** — reusable blocks of code that could simplify tasks like formatting results, calculating metrics, or transforming sequences.\n",
    "\n",
    "In Python, a function is defined using the `def` keyword.  \n",
    "Functions can take **parameters** (inputs) and optionally return a **result**.\n",
    "\n",
    "Tekin created a simple function to check the length of a gene target or primer sequence.\n",
    "\n",
    "\n",
    "---\n",
    "\n",
    "### Basic Function – Greeting the Lab Team\n",
    "```python\n",
    "def greet(name):\n",
    "    return f\"Hello, {name}! Ready to process some samples?\"\n",
    "\n",
    "print(greet(\"Tekin\"))\n",
    "\n",
    "\n"
   ]
  },
  {
   "cell_type": "code",
   "execution_count": null,
   "metadata": {},
   "outputs": [],
   "source": [
    "#Another Example \n",
    "\n",
    "def dna_length(dna_sequence):\n",
    "    return len(dna_sequence)\n",
    "\n",
    "print(dna_length(\"ATGCGT\"))\n"
   ]
  },
  {
   "cell_type": "code",
   "execution_count": 11,
   "metadata": {},
   "outputs": [
    {
     "name": "stdout",
     "output_type": "stream",
     "text": [
      "DNA Length: 14\n"
     ]
    }
   ],
   "source": [
    "# Let's do an example together.\n",
    "\n",
    "# The aim here is to define an function. \n",
    "# So I'm defining the function as follows\n",
    "\n",
    "def get_dna_length(dna_sequence):\n",
    "    return len(dna_sequence)\n",
    "\n",
    "# Now I need to use this function as follows\n",
    "# First I will create a sequence\n",
    "\n",
    "sequence = \"ATGCGCGATAGACA\"\n",
    "\n",
    "# Let me print the output\n",
    "\n",
    "print(f\"DNA Length: {get_dna_length(sequence)}\")\n",
    "\n",
    "# This code will print the lenght of the sequence that I entered.\n",
    "\n"
   ]
  },
  {
   "cell_type": "code",
   "execution_count": null,
   "metadata": {},
   "outputs": [],
   "source": [
    "# TRY IT OUT BY YOURSELF AREA"
   ]
  },
  {
   "cell_type": "markdown",
   "metadata": {},
   "source": [
    "# Now we are in a stage to see whether our sequence is valid or not.\n"
   ]
  },
  {
   "cell_type": "code",
   "execution_count": 12,
   "metadata": {},
   "outputs": [
    {
     "name": "stdout",
     "output_type": "stream",
     "text": [
      "Is valid DNA? True\n",
      "Is valid DNA? False\n"
     ]
    }
   ],
   "source": [
    "\n",
    "def is_valid_dna(sequence):\n",
    "    valid_bases = {\"A\", \"T\", \"C\", \"G\"}\n",
    "    return all(base in valid_bases for base in sequence)\n",
    "\n",
    "# Example usage\n",
    "seq = \"ATGCCGTTA\"\n",
    "print(f\"Is valid DNA? {is_valid_dna(seq)}\")  # True\n",
    "\n",
    "seq2 = \"ATGXCT\"  # Invalid base 'X'\n",
    "print(f\"Is valid DNA? {is_valid_dna(seq2)}\")  # False\n"
   ]
  },
  {
   "cell_type": "code",
   "execution_count": null,
   "metadata": {},
   "outputs": [],
   "source": [
    "# TRY IT OUT BY YOURSELF AREA"
   ]
  },
  {
   "cell_type": "markdown",
   "metadata": {},
   "source": [
    "# We can convert our code with input handling!"
   ]
  },
  {
   "cell_type": "code",
   "execution_count": 13,
   "metadata": {},
   "outputs": [
    {
     "name": "stdout",
     "output_type": "stream",
     "text": [
      "Enter a DNA sequence: ATACAGTACAT,\n",
      "Sequence Length: 12\n",
      "Is valid DNA? False\n"
     ]
    }
   ],
   "source": [
    "# At first, let's design our function. \n",
    "\n",
    "def analyze_dna():\n",
    "    sequence = input(\"Enter a DNA sequence: \").upper()\n",
    "    length = len(sequence)\n",
    "    print(f\"Sequence Length: {length}\")\n",
    "    print(f\"Is valid DNA? {is_valid_dna(sequence)}\")\n",
    "\n",
    "# And run it\n",
    "analyze_dna()"
   ]
  },
  {
   "cell_type": "code",
   "execution_count": null,
   "metadata": {},
   "outputs": [],
   "source": [
    "# TRY IT OUT BY YOURSELF AREA"
   ]
  },
  {
   "cell_type": "markdown",
   "metadata": {},
   "source": [
    "# As you can see the code gives me the sequence length and the validation boolean.\n",
    "\n",
    "# Let's move on to multiple functions"
   ]
  },
  {
   "cell_type": "code",
   "execution_count": 14,
   "metadata": {},
   "outputs": [
    {
     "name": "stdout",
     "output_type": "stream",
     "text": [
      "DNA Length: 8\n",
      "Nucleotide Counts: {'A': 2, 'T': 2, 'C': 2, 'G': 2}\n",
      "Reverse Complement: TACGGCAT\n"
     ]
    }
   ],
   "source": [
    "# Example\n",
    "\n",
    "# Function 1: Calculate DNA sequence length\n",
    "def get_dna_length(dna_sequence):\n",
    "    \"\"\"Returns the length of a DNA sequence.\"\"\"\n",
    "    return len(dna_sequence)\n",
    "\n",
    "# Function 2: Count occurrences of each nucleotide\n",
    "def count_nucleotides(dna_sequence):\n",
    "    \"\"\"Returns a dictionary with counts of A, T, C, and G in the sequence.\"\"\"\n",
    "    return {base: dna_sequence.count(base) for base in \"ATCG\"}\n",
    "\n",
    "# Function 3: Generate reverse complement of a DNA sequence\n",
    "def get_reverse_complement(dna_sequence):\n",
    "    \"\"\"Returns the reverse complement of a DNA sequence.\"\"\"\n",
    "    complement = {\"A\": \"T\", \"T\": \"A\", \"C\": \"G\", \"G\": \"C\"}\n",
    "    return \"\".join(complement[base] for base in dna_sequence[::-1])\n",
    "\n",
    "# Example usage\n",
    "sequence = \"ATGCCGTA\"\n",
    "\n",
    "print(f\"DNA Length: {get_dna_length(sequence)}\")\n",
    "print(f\"Nucleotide Counts: {count_nucleotides(sequence)}\")\n",
    "print(f\"Reverse Complement: {get_reverse_complement(sequence)}\")\n"
   ]
  },
  {
   "cell_type": "code",
   "execution_count": null,
   "metadata": {},
   "outputs": [],
   "source": [
    "# TRY IT OUT BY YOURSELF AREA"
   ]
  },
  {
   "cell_type": "markdown",
   "metadata": {},
   "source": [
    "What is an ORF?\n",
    "An Open Reading Frame (ORF) is a sequence of DNA that has the potential to be translated into a protein.\n",
    "An ORF:\n",
    "\n",
    "Starts with a start codon (ATG).\n",
    "Ends with a stop codon (TAA, TAG, or TGA).\n",
    "Has a length that is a multiple of 3 (each codon is a triplet)."
   ]
  },
  {
   "cell_type": "code",
   "execution_count": null,
   "metadata": {},
   "outputs": [],
   "source": [
    "# Function 1: Take input and convert to uppercase\n",
    "def get_dna_input():\n",
    "    \"\"\"Takes DNA sequence input and converts it to uppercase.\"\"\"\n",
    "    dna_sequence = input(\"Enter a DNA sequence: \").strip().upper()\n",
    "    return dna_sequence\n",
    "\n",
    "# Function 2: Slice the sequence into triplets (codons)\n",
    "def slice_into_codons(dna_sequence):\n",
    "    \"\"\"Splits the DNA sequence into triplets (codons) without checking for ORFs.\"\"\"\n",
    "    return [dna_sequence[i:i+3] for i in range(0, len(dna_sequence), 3) if len(dna_sequence[i:i+3]) == 3]\n",
    "\n",
    "# Function 3: Format output\n",
    "def format_output(codons):\n",
    "    \"\"\"Formats and prints codons as a string.\"\"\"\n",
    "    return \" - \".join(codons)\n",
    "\n",
    "# Running the functions\n",
    "dna = get_dna_input()  # Get user input\n",
    "codons = slice_into_codons(dna)  # Convert to codons\n",
    "formatted_output = format_output(codons)  # Format output\n",
    "\n",
    "# Display results\n",
    "print(\"\\nCodons:\", formatted_output)\n",
    "\n",
    "# example input \"atgttgagccgtacgtaa\"\n",
    "# Expected output is like below\n"
   ]
  },
  {
   "cell_type": "code",
   "execution_count": null,
   "metadata": {},
   "outputs": [],
   "source": [
    "# TRY IT OUT BY YOURSELF AREA"
   ]
  },
  {
   "cell_type": "markdown",
   "metadata": {},
   "source": [
    "## What is a Regular Expression? – Tekin Detects Patterns in Sequences\n",
    "\n",
    "As Tekin moved into more advanced data parsing, he needed a way to **detect patterns** in messy text files, DNA sequences, or file formats.\n",
    "\n",
    "A **regular expression (regex)** is a special sequence of characters that defines a **search pattern**.  \n",
    "Regex is incredibly useful for searching, extracting, or validating data in bioinformatics and public health workflows.\n",
    "\n",
    "---\n",
    "\n",
    "### Tekin Used Regular Expressions To:\n",
    "\n",
    "-  **Find all DNA sequences starting with `\"ATG\"`** (start codon for genes)\n",
    "-  **Extract gene or sample IDs** from raw sequence annotation files  \n",
    "-  **Validate file formats**, such as checking if a `.vcf` (variant call format) file contains valid headers and entries  \n",
    "-  **Filter metadata entries**, like confirming if a wastewater sample label follows the correct pattern (`WWTP_ZoneX_YYYY`)\n",
    "\n",
    "Regular expressions helped Tekin write compact, powerful rules that made his data pipelines smarter and cleaner.\n",
    "\n",
    "In the next section, we’ll explore how to apply regex using Python’s built-in `re` module.\n"
   ]
  },
  {
   "cell_type": "code",
   "execution_count": 1,
   "metadata": {},
   "outputs": [],
   "source": [
    "# Let's import it.\n",
    "\n",
    "import re"
   ]
  },
  {
   "cell_type": "markdown",
   "metadata": {},
   "source": [
    "## Basic RegEx Functions – Tekin Cleans and Searches Sequences\n",
    "\n",
    "Tekin used Python’s `re` module (regular expressions) to search for biological patterns and clean messy metadata in sequencing files.\n",
    "\n",
    "Here are some of the most common regex functions he used in his scripts:\n",
    "\n",
    "| Function      | Description                              | Example                                       |\n",
    "|---------------|------------------------------------------|-----------------------------------------------|\n",
    "| `re.search()` | Finds the **first match** in a string    | `re.search(\"ATG\", sequence)` → Start codon?   |\n",
    "| `re.findall()`| Finds **all matches** of a pattern       | `re.findall(\"A[TG]G\", sequence)` → Codon scan |\n",
    "| `re.match()`  | Checks if string **starts** with pattern | `re.match(\"ATG\", sequence)` → Starts with ATG |\n",
    "| `re.sub()`    | **Replaces** pattern with something else | `re.sub(\"T\", \"U\", sequence)` → DNA to RNA     |\n",
    "\n",
    "---\n",
    "\n",
    "These tools helped Tekin:\n",
    "\n",
    "- Detect motifs in **viral sequences**\n",
    "- Standardize **sample IDs** (e.g. fix typos like `wwtp` → `WWTP`)\n",
    "- Simulate **transcription** (DNA → RNA)\n",
    "- Validate whether uploaded files conformed to required formats\n",
    "\n",
    "Regex became a powerful tool in Tekin’s bioinformatics toolkit, especially when working with genomic and metadata-rich files\n"
   ]
  },
  {
   "cell_type": "code",
   "execution_count": 2,
   "metadata": {},
   "outputs": [
    {
     "name": "stdout",
     "output_type": "stream",
     "text": [
      "Start codons found: ['ATG', 'ATG']\n"
     ]
    }
   ],
   "source": [
    "# Let'see our first example\n",
    "\n",
    "import re\n",
    "\n",
    "# DNA sequence\n",
    "sequence = \"AGCTATGCGTAAATGCAGTGA\"\n",
    "\n",
    "# Find all start codons (ATG)\n",
    "matches = re.findall(\"ATG\", sequence)\n",
    "\n",
    "print(f\"Start codons found: {matches}\")\n"
   ]
  },
  {
   "cell_type": "code",
   "execution_count": null,
   "metadata": {},
   "outputs": [],
   "source": [
    "# Do want to try it out?"
   ]
  },
  {
   "cell_type": "code",
   "execution_count": 3,
   "metadata": {},
   "outputs": [
    {
     "name": "stdout",
     "output_type": "stream",
     "text": [
      "RNA sequence: AUGCAUGUUGAC\n"
     ]
    }
   ],
   "source": [
    "# Let'see our second example\n",
    "sequence = \"ATGCATGTTGAC\"\n",
    "\n",
    "# Replace T with U for RNA conversion\n",
    "rna_sequence = re.sub(\"T\", \"U\", sequence)\n",
    "\n",
    "print(f\"RNA sequence: {rna_sequence}\")\n"
   ]
  },
  {
   "cell_type": "code",
   "execution_count": null,
   "metadata": {},
   "outputs": [],
   "source": [
    "# Do want to try it out?"
   ]
  },
  {
   "cell_type": "markdown",
   "metadata": {},
   "source": [
    "# Introduction to Lists, Tuples, and Dictionaries in Python – Tekin Structures His Data\n",
    "\n",
    "As Tekin started dealing with larger datasets — including multiple samples, gene targets, and metadata — he needed ways to organize collections of values.  \n",
    "Python offers powerful data structures to handle such scenarios: **Lists**, **Tuples**, and **Dictionaries**.\n",
    "\n",
    "Each has its own strengths, and Tekin learned when and how to use them efficiently in his wastewater surveillance work.\n",
    "\n",
    "---\n",
    "\n",
    "##  Lists – Ordered, Mutable Collections\n",
    "\n",
    "A **list** is an **ordered** collection that can store **multiple elements**, including different data types.  \n",
    "Lists are **mutable**, meaning Tekin could modify their contents (add, remove, or change values).\n",
    "\n",
    "###  Key Features of Lists:\n",
    "- **Ordered** → The position of each item matters.  \n",
    "- **Mutable** → You can change, extend, or shrink them.  \n",
    "- **Indexable** → Access elements with position (`my_list[0]`).\n",
    "\n",
    "###  Use Cases in Wastewater Context:\n",
    "- Storing **multiple viral sequences** retrieved from metagenomic data  \n",
    "- Listing **AMR genes** detected in a sample  \n",
    "- Organizing **daily viral load measurements** for trend analysis\n",
    "\n",
    "Example:\n",
    "\n",
    "```python\n",
    "viral_targets = [\"SARS-CoV-2\", \"Norovirus\", \"Adenovirus\"]\n",
    "print(viral_targets[0])  # Output: SARS-CoV-2\n"
   ]
  },
  {
   "cell_type": "markdown",
   "metadata": {},
   "source": [
    "#  Working with Lists in Python – Tekin Handles Surveillance Data\n",
    "\n",
    "Lists are one of the most powerful and frequently used data structures in Python.  \n",
    "They allowed Tekin to store **multiple values** in an **ordered** and **changeable** way — ideal for managing sample metadata, sequencing results, or AMR gene profiles.\n",
    "\n",
    "---\n",
    "\n",
    "## **Creating a List**\n",
    "\n",
    "In Python, lists are created using **square brackets `[]`**, with each element separated by commas.\n",
    "\n",
    "###  Examples from Tekin's Lab:\n",
    "\n",
    "```python\n",
    "# List of AMR genes detected in a wastewater sample\n",
    "resistance_genes = [\"blaCTX-M\", \"mecA\", \"tetM\", \"aadA1\", \"ermB\"]\n",
    "\n",
    "# List of nucleotide bases in sequencing reads\n",
    "nucleotides = [\"A\", \"T\", \"C\", \"G\"]\n",
    "\n",
    "# List combining different data types from a variant call\n",
    "variant_data = [\"chr1\", 123456, \"A\", \"G\", 99.5]\n"
   ]
  },
  {
   "cell_type": "code",
   "execution_count": 4,
   "metadata": {},
   "outputs": [
    {
     "name": "stdout",
     "output_type": "stream",
     "text": [
      "blaCTX-M\n",
      "ermB\n"
     ]
    }
   ],
   "source": [
    "# Let's try it out\n",
    "\n",
    "# List of resistance genes\n",
    "resistance_genes = [\"blaCTX-M\", \"mecA\", \"tetM\", \"aadA1\", \"ermB\"]\n",
    "\n",
    "# List of nucleotide bases\n",
    "nucleotides = [\"A\", \"T\", \"C\", \"G\"]\n",
    "\n",
    "# List of different data types\n",
    "variant_data = [\"chr1\", 123456, \"A\", \"G\", 99.5]\n",
    "\n",
    "# Accessing the first element\n",
    "print(resistance_genes[0])  # Output: blaCTX-M\n",
    "\n",
    "# Accessing the last element\n",
    "print(resistance_genes[-1])  # Output: ermB\n"
   ]
  },
  {
   "cell_type": "code",
   "execution_count": 5,
   "metadata": {},
   "outputs": [
    {
     "name": "stdout",
     "output_type": "stream",
     "text": [
      "['blaCTX-M', 'mecA', 'tetM']\n"
     ]
    }
   ],
   "source": [
    "# Get the first three resistance genes\n",
    "print(resistance_genes[:3])  # Output: ['blaCTX-M', 'mecA', 'tetM']\n"
   ]
  },
  {
   "cell_type": "code",
   "execution_count": null,
   "metadata": {},
   "outputs": [],
   "source": []
  },
  {
   "cell_type": "code",
   "execution_count": 6,
   "metadata": {},
   "outputs": [
    {
     "name": "stdout",
     "output_type": "stream",
     "text": [
      "['blaCTX-M', 'mecC', 'tetM', 'aadA1', 'ermB']\n"
     ]
    }
   ],
   "source": [
    "# Changing an element in the list\n",
    "resistance_genes[1] = \"mecC\"\n",
    "print(resistance_genes)  # Output: ['blaCTX-M', 'mecC', 'tetM', 'aadA1', 'ermB']\n"
   ]
  },
  {
   "cell_type": "markdown",
   "metadata": {},
   "source": [
    "##  Modifying Lists – Tekin Updates AMR Gene Profiles\n",
    "\n",
    "Tekin often needed to update lists of detected resistance genes during his analysis of wastewater samples.  \n",
    "Python's list methods like `.append()`, `.insert()`, `.remove()`, and `.pop()` allowed him to add or remove genes as needed.\n",
    "\n",
    "###  Example: Managing a Resistance Gene List\n",
    "\n",
    "```python\n",
    "# Add a new resistance gene at the end\n",
    "resistance_genes.append(\"vanA\")\n",
    "\n",
    "# Insert a gene at a specific position\n",
    "resistance_genes.insert(2, \"sul1\")\n",
    "\n",
    "print(resistance_genes)  \n",
    "# Output: ['blaCTX-M', 'mecC', 'sul1', 'tetM', 'aadA1', 'ermB', 'vanA']\n",
    "\n",
    "# Remove an element by value\n",
    "resistance_genes.remove(\"sul1\")  \n",
    "print(resistance_genes)  \n",
    "# Output: ['blaCTX-M', 'mecC', 'tetM', 'aadA1', 'ermB', 'vanA']\n",
    "\n",
    "# Remove the last gene from the list\n",
    "resistance_genes.pop()  \n",
    "print(resistance_genes)  \n",
    "# Output: ['blaCTX-M', 'mecC', 'tetM', 'aadA1', 'ermB']\n"
   ]
  },
  {
   "cell_type": "code",
   "execution_count": 7,
   "metadata": {},
   "outputs": [
    {
     "name": "stdout",
     "output_type": "stream",
     "text": [
      "['blaCTX-M', 'mecC', 'sul1', 'tetM', 'aadA1', 'ermB', 'vanA']\n",
      "['blaCTX-M', 'mecC', 'tetM', 'aadA1', 'ermB', 'vanA']\n",
      "['blaCTX-M', 'mecC', 'tetM', 'aadA1', 'ermB']\n"
     ]
    }
   ],
   "source": [
    "# Add a new resistance gene at the end\n",
    "resistance_genes.append(\"vanA\")\n",
    "\n",
    "# Insert a gene at a specific position\n",
    "resistance_genes.insert(2, \"sul1\")\n",
    "\n",
    "print(resistance_genes)  \n",
    "# Output: ['blaCTX-M', 'mecC', 'sul1', 'tetM', 'aadA1', 'ermB', 'vanA']\n",
    "\n",
    "# Remove an element\n",
    "resistance_genes.remove(\"sul1\")  \n",
    "print(resistance_genes)  # Output: ['blaCTX-M', 'mecC', 'tetM', 'aadA1', 'ermB', 'vanA']\n",
    "\n",
    "# Remove the last element\n",
    "resistance_genes.pop()  \n",
    "print(resistance_genes)  # Output: ['blaCTX-M', 'mecC', 'tetM', 'aadA1', 'ermB']\n"
   ]
  },
  {
   "cell_type": "code",
   "execution_count": 8,
   "metadata": {},
   "outputs": [
    {
     "name": "stdout",
     "output_type": "stream",
     "text": [
      "Resistance gene: blaCTX-M\n",
      "Resistance gene: mecC\n",
      "Resistance gene: tetM\n",
      "Resistance gene: aadA1\n",
      "Resistance gene: ermB\n"
     ]
    }
   ],
   "source": [
    "# Looping through a list...\n",
    "\n",
    "for gene in resistance_genes:\n",
    "    print(f\"Resistance gene: {gene}\")"
   ]
  },
  {
   "cell_type": "markdown",
   "metadata": {},
   "source": [
    "## Tuples – Ordered, Immutable Collections\n",
    "\n",
    "While working with genomic data, Tekin encountered cases where data should **not be changed** — for example, reference coordinates or known mutations.  \n",
    "In such cases, he used **tuples**, which are like lists but **immutable**.\n",
    "\n",
    "Tuples are ideal for representing **fixed biological data** that should remain constant throughout analysis.\n",
    "\n",
    "---\n",
    "\n",
    "### Key Features of Tuples:\n",
    "- **Ordered** → Elements are stored in a defined sequence.  \n",
    "- **Immutable** → Once created, values cannot be changed.  \n",
    "- **Efficient** → Slightly faster and safer than lists for static data.\n",
    "\n",
    "---\n",
    "\n",
    "### Use Cases in Public Health Genomics:\n",
    "- Representing **genomic coordinates** (e.g., chromosome, start, end)  \n",
    "- Storing **variant definitions**, such as SNPs or indels  \n",
    "- Keeping track of **sample metadata snapshots** that shouldn’t be edited later\n",
    "\n",
    "Example:\n",
    "\n",
    "```python\n",
    "# A tuple representing a single nucleotide polymorphism (SNP)\n",
    "variant = (\"chr1\", 123456, \"A\", \"G\")\n",
    "print(variant[0])  # Output: chr1\n"
   ]
  },
  {
   "cell_type": "markdown",
   "metadata": {},
   "source": [
    "# Working with Tuples in Python – Tekin Stores Immutable Genomic Data\n",
    "\n",
    "Tuples are similar to lists, but with a key difference: **they cannot be changed after creation**.  \n",
    "Tekin used **tuples** when dealing with **fixed reference data** — things that should remain untouched during analysis.\n",
    "\n",
    "They were particularly useful for:\n",
    "\n",
    "- **Genomic coordinates** (e.g., chromosome, position)\n",
    "- **SNP records** that define a specific variant\n",
    "- **Sample metadata snapshots** that shouldn't be modified accidentally\n",
    "\n",
    "---\n",
    "\n",
    "## **Creating a Tuple**\n",
    "\n",
    "Tuples are created using **parentheses `()`** instead of square brackets.\n",
    "\n",
    "```python\n",
    "# SNP representation: chromosome, position, reference base, alternate base\n",
    "snp = (\"chr1\", 123456, \"A\", \"G\")\n",
    "\n",
    "# Accessing tuple elements\n",
    "print(snp[0])  # Output: chr1\n",
    "print(snp[2])  # Output: A\n"
   ]
  },
  {
   "cell_type": "code",
   "execution_count": 9,
   "metadata": {},
   "outputs": [
    {
     "name": "stdout",
     "output_type": "stream",
     "text": [
      "A\n",
      "G\n"
     ]
    }
   ],
   "source": [
    "## Just like lists, tuples are indexed starting from 0.\n",
    "\n",
    "\n",
    "# Tuple of nucleotide bases\n",
    "nucleotides = (\"A\", \"T\", \"C\", \"G\")\n",
    "\n",
    "# Tuple of genomic coordinates (Chromosome, Start Position, End Position)\n",
    "genomic_region = (\"chr1\", 123456, 123789)\n",
    "\n",
    "# Tuple of SNP variant information (Chromosome, Position, Reference, Alternate)\n",
    "snp = (\"chr2\", 987654, \"A\", \"G\")\n",
    "\n",
    "\n",
    "print(nucleotides[0])  # Output: A\n",
    "print(snp[-1])  # Output: G (last element)\n"
   ]
  },
  {
   "cell_type": "code",
   "execution_count": null,
   "metadata": {},
   "outputs": [],
   "source": [
    "# Slicing in the tuples\n",
    "\n",
    "print(nucleotides[:2])  # Output: ('A', 'T')"
   ]
  },
  {
   "cell_type": "markdown",
   "metadata": {},
   "source": [
    "Why Use Tuples Instead of Lists?\n",
    "Unlike lists, tuples are immutable, meaning:\n",
    "\n",
    "They cannot be changed after creation.\n",
    "They are faster than lists.\n",
    "They can be used as keys in dictionaries (lists cannot)."
   ]
  },
  {
   "cell_type": "code",
   "execution_count": null,
   "metadata": {},
   "outputs": [],
   "source": []
  },
  {
   "cell_type": "code",
   "execution_count": 10,
   "metadata": {},
   "outputs": [
    {
     "name": "stdout",
     "output_type": "stream",
     "text": [
      "Nucleotide: A\n",
      "Nucleotide: T\n",
      "Nucleotide: C\n",
      "Nucleotide: G\n"
     ]
    }
   ],
   "source": [
    "# Looping through the tuple.\n",
    "\n",
    "for base in nucleotides:\n",
    "    print(f\"Nucleotide: {base}\")"
   ]
  },
  {
   "cell_type": "code",
   "execution_count": 11,
   "metadata": {},
   "outputs": [
    {
     "name": "stdout",
     "output_type": "stream",
     "text": [
      "Thymine is present!\n"
     ]
    }
   ],
   "source": [
    "## Checking if an Element Exists in a Tuple\n",
    "\n",
    "if \"T\" in nucleotides:\n",
    "    print(\"Thymine is present!\")\n"
   ]
  },
  {
   "cell_type": "code",
   "execution_count": 12,
   "metadata": {},
   "outputs": [
    {
     "name": "stdout",
     "output_type": "stream",
     "text": [
      "1\n",
      "2\n"
     ]
    }
   ],
   "source": [
    "print(nucleotides.count(\"A\"))  # Output: 1\n",
    "print(nucleotides.index(\"C\"))  # Output: 2"
   ]
  },
  {
   "cell_type": "code",
   "execution_count": null,
   "metadata": {},
   "outputs": [],
   "source": [
    "# Code playground"
   ]
  },
  {
   "cell_type": "markdown",
   "metadata": {},
   "source": [
    "# Working with Dictionaries in Python – Tekin Maps Genes to Functions\n",
    "\n",
    "Dictionaries (`dict`) became one of Tekin’s favorite tools in Python, especially when he needed to map one piece of information to another — such as linking gene names to their resistance classes, or associating sample IDs with metadata.\n",
    "\n",
    "Unlike lists or tuples, dictionaries store data in **key-value pairs**, allowing for **fast, meaningful access** without using numeric indexes.\n",
    "\n",
    "---\n",
    "\n",
    "## Key Features of Dictionaries:\n",
    "- **Unordered** → Data is accessed by keys, not by position  \n",
    "- **Key-Value Mapping** → Each key is linked to a specific value  \n",
    "- **Mutable** → Values can be updated; keys must remain unique\n",
    "\n",
    "---\n",
    "\n",
    "## Example Use Cases in Wastewater Surveillance:\n",
    "- Mapping **resistance genes** to their **antibiotic classes**  \n",
    "- Associating **sample IDs** with collection **locations or dates**  \n",
    "- Defining **codon-to-amino acid translations** for protein prediction\n",
    "\n",
    "---\n",
    "\n",
    "## **Creating a Dictionary**\n",
    "\n",
    "Dictionaries are created using **curly braces `{}`**, with key-value pairs separated by colons `:`.\n",
    "\n",
    "```python\n",
    "# Mapping resistance genes to antibiotic classes\n",
    "resistance_map = {\n",
    "    \"blaCTX-M\": \"Beta-lactam\",\n",
    "    \"mecA\": \"Methicillin\",\n",
    "    \"tetM\": \"Tetracycline\",\n",
    "    \"vanA\": \"Vancomycin\"\n",
    "}\n",
    "\n",
    "# Accessing values by keys\n",
    "print(resistance_map[\"tetM\"])  # Output: Tetracycline\n"
   ]
  },
  {
   "cell_type": "code",
   "execution_count": null,
   "metadata": {},
   "outputs": [],
   "source": [
    "# Code playground"
   ]
  },
  {
   "cell_type": "code",
   "execution_count": 17,
   "metadata": {},
   "outputs": [],
   "source": [
    "# Dictionary of genetic codes\n",
    "genetic_code = {\n",
    "    \"AUG\": \"Methionine\",\n",
    "    \"UUU\": \"Phenylalanine\",\n",
    "    \"UAA\": \"Stop\",\n",
    "    \"UGA\": \"Stop\"\n",
    "}\n",
    "\n",
    "# Dictionary mapping resistance genes to antibiotic classes\n",
    "resistance_genes = {\n",
    "    \"blaCTX-M\": \"Beta-lactam\",\n",
    "    \"mecA\": \"Methicillin\",\n",
    "    \"tetM\": \"Tetracycline\",\n",
    "    \"vanA\": \"Vancomycin\"\n",
    "}\n"
   ]
  },
  {
   "cell_type": "code",
   "execution_count": null,
   "metadata": {},
   "outputs": [],
   "source": [
    "# Code playground"
   ]
  },
  {
   "cell_type": "code",
   "execution_count": 18,
   "metadata": {},
   "outputs": [
    {
     "name": "stdout",
     "output_type": "stream",
     "text": [
      "Methionine\n",
      "Methicillin\n"
     ]
    }
   ],
   "source": [
    "# We can retrieve a value using its key.\n",
    "\n",
    "print(genetic_code[\"AUG\"])  # Output: Methionine\n",
    "print(resistance_genes[\"mecA\"])  # Output: Methicillin\n"
   ]
  },
  {
   "cell_type": "code",
   "execution_count": null,
   "metadata": {},
   "outputs": [],
   "source": [
    "# Code playground"
   ]
  },
  {
   "cell_type": "code",
   "execution_count": 19,
   "metadata": {},
   "outputs": [
    {
     "name": "stdout",
     "output_type": "stream",
     "text": [
      "{'AUG': 'Methionine', 'UUU': 'Modified Phenylalanine', 'UAA': 'Stop', 'UGA': 'Stop', 'UAG': 'Stop'}\n"
     ]
    }
   ],
   "source": [
    "# ✔ Dictionaries are mutable, so values can be updated.\n",
    "\n",
    "\n",
    "# Add a new genetic code\n",
    "genetic_code[\"UAG\"] = \"Stop\"\n",
    "\n",
    "# Update an existing value\n",
    "genetic_code[\"UUU\"] = \"Modified Phenylalanine\"\n",
    "\n",
    "print(genetic_code)\n"
   ]
  },
  {
   "cell_type": "code",
   "execution_count": null,
   "metadata": {},
   "outputs": [],
   "source": [
    "# Code playground"
   ]
  },
  {
   "cell_type": "code",
   "execution_count": 20,
   "metadata": {},
   "outputs": [
    {
     "name": "stdout",
     "output_type": "stream",
     "text": [
      "blaCTX-M\n",
      "mecA\n",
      "tetM\n",
      "vanA\n",
      "Beta-lactam\n",
      "Methicillin\n",
      "Tetracycline\n",
      "Vancomycin\n",
      "blaCTX-M → Beta-lactam\n",
      "mecA → Methicillin\n",
      "tetM → Tetracycline\n",
      "vanA → Vancomycin\n"
     ]
    }
   ],
   "source": [
    "# We can iterate over keys, values, or both.\n",
    "\n",
    "\n",
    "# Looping through keys\n",
    "for gene in resistance_genes:\n",
    "    print(gene)  # Outputs all gene names\n",
    "\n",
    "# Looping through values\n",
    "for antibiotic in resistance_genes.values():\n",
    "    print(antibiotic)  # Outputs all antibiotic classes\n",
    "\n",
    "# Looping through key-value pairs\n",
    "for gene, antibiotic in resistance_genes.items():\n",
    "    print(f\"{gene} → {antibiotic}\")\n"
   ]
  },
  {
   "cell_type": "code",
   "execution_count": null,
   "metadata": {},
   "outputs": [],
   "source": [
    "# Code playground"
   ]
  },
  {
   "cell_type": "code",
   "execution_count": 21,
   "metadata": {},
   "outputs": [
    {
     "name": "stdout",
     "output_type": "stream",
     "text": [
      "blaCTX-M gene is present!\n"
     ]
    }
   ],
   "source": [
    "## We can use the in keyword to check if a key is in the dictionary.\n",
    " \n",
    "if \"blaCTX-M\" in resistance_genes:\n",
    "    print(\"blaCTX-M gene is present!\")\n"
   ]
  },
  {
   "cell_type": "markdown",
   "metadata": {},
   "source": [
    "## **Summary of Differences**\n",
    "| Feature | List | Tuple | Dictionary |\n",
    "|---------|------|-------|------------|\n",
    "| **Ordered** | ✅ Yes | ✅ Yes | ❌ No (unordered) |\n",
    "| **Mutable** | ✅ Yes | ❌ No | ✅ Yes |\n",
    "| **Indexable** | ✅ Yes | ✅ Yes | ❌ No (access via keys) |\n",
    "| **Duplicates Allowed** | ✅ Yes | ✅ Yes | ❌ No (keys must be unique) |\n",
    "| **Use Case** | Storing sequences, lists of genes | Fixed datasets, SNPs | Fast lookups, gene mapping |\n",
    "\n",
    "---"
   ]
  },
  {
   "cell_type": "markdown",
   "metadata": {},
   "source": [
    "# Problem 1: Checking Valid DNA Input\n",
    "### Scenario\n",
    "You are working with DNA sequences and need to ensure that users only enter **valid nucleotide sequences**.\n",
    "\n",
    "### Task\n",
    "Write a Python program that:\n",
    "1. **Takes a DNA sequence** as input from the user.\n",
    "2. **Validates** whether the sequence contains **only** valid DNA bases (`A`, `T`, `C`, `G`).\n",
    "3. If valid, **prints the sequence length**.\n",
    "4. If invalid, **displays an error message**.\n"
   ]
  },
  {
   "cell_type": "code",
   "execution_count": null,
   "metadata": {},
   "outputs": [],
   "source": [
    "# Your Solution"
   ]
  },
  {
   "cell_type": "code",
   "execution_count": null,
   "metadata": {},
   "outputs": [],
   "source": [
    "# Your Solution"
   ]
  },
  {
   "cell_type": "code",
   "execution_count": null,
   "metadata": {},
   "outputs": [],
   "source": [
    "# Your Solution"
   ]
  },
  {
   "cell_type": "markdown",
   "metadata": {},
   "source": [
    "---\n",
    "\n",
    "# Problem 3: Interpreting Wastewater Viral Load\n",
    "\n",
    "### Scenario  \n",
    "Tekin is building a basic script to help field teams quickly evaluate wastewater surveillance results.  \n",
    "The team inputs the **measured viral load (copies/mL)** from a sample, and the script tells them whether the level is **high** or **acceptable** based on a threshold.\n",
    "\n",
    "The threshold is **25,000 copies/mL**.\n",
    "\n",
    "---\n",
    "\n",
    "### Task  \n",
    "Write a Python program that:\n",
    "\n",
    "1. Asks the user to **input the viral load** (e.g. `input()` function)  \n",
    "2. Converts the input into a **float**  \n",
    "3. Uses an **`if-else` statement** to check:\n",
    "   - If the viral load is **greater than 25,000**, print a warning message  \n",
    "   - Otherwise, print a message that the value is within range\n",
    "\n",
    "---\n"
   ]
  },
  {
   "cell_type": "code",
   "execution_count": null,
   "metadata": {},
   "outputs": [],
   "source": [
    "# Your Solution"
   ]
  },
  {
   "cell_type": "code",
   "execution_count": null,
   "metadata": {},
   "outputs": [],
   "source": [
    "# Your Solution"
   ]
  },
  {
   "cell_type": "code",
   "execution_count": null,
   "metadata": {},
   "outputs": [],
   "source": [
    "# Your Solution"
   ]
  },
  {
   "cell_type": "code",
   "execution_count": 2,
   "metadata": {},
   "outputs": [
    {
     "name": "stdout",
     "output_type": "stream",
     "text": [
      "Enter a DNA sequence: AGAGAAGATAGAG\n",
      "Valid DNA sequence.\n",
      "Sequence length: 13\n"
     ]
    }
   ],
   "source": [
    "## **Solution for Problem 1: Checking Valid DNA Input**\n",
    "\n",
    "\n",
    "# Function to validate a DNA sequence\n",
    "def is_valid_dna(sequence):\n",
    "    valid_bases = {\"A\", \"T\", \"C\", \"G\"}\n",
    "    return all(base in valid_bases for base in sequence)\n",
    "\n",
    "# Get user input\n",
    "dna_sequence = input(\"Enter a DNA sequence: \").upper()\n",
    "\n",
    "# Check if the sequence is valid\n",
    "if is_valid_dna(dna_sequence):\n",
    "    print(\"Valid DNA sequence.\")\n",
    "    print(f\"Sequence length: {len(dna_sequence)}\")\n",
    "else:\n",
    "    print(\"Invalid DNA sequence! Only A, T, C, and G are allowed.\")"
   ]
  },
  {
   "cell_type": "code",
   "execution_count": null,
   "metadata": {},
   "outputs": [],
   "source": [
    "# Estimating Viral Load Level from Wastewater Data\n",
    "\n",
    "# Step 1: Ask user for current viral load\n",
    "current_load = input(\"Enter current viral load (copies/mL): \")\n",
    "\n",
    "# Step 2: Convert input to float\n",
    "current_load = float(current_load)\n",
    "\n",
    "# Step 3: Check if the load is high or not using if-else\n",
    "if current_load > 25000:\n",
    "    print(\"High viral load detected! Further investigation may be needed.\")\n",
    "else:\n",
    "    print(\"Viral load is within acceptable range.\")\n"
   ]
  }
 ],
 "metadata": {
  "kernelspec": {
   "display_name": "Python 3 (ipykernel)",
   "language": "python",
   "name": "python3"
  },
  "language_info": {
   "codemirror_mode": {
    "name": "ipython",
    "version": 3
   },
   "file_extension": ".py",
   "mimetype": "text/x-python",
   "name": "python",
   "nbconvert_exporter": "python",
   "pygments_lexer": "ipython3",
   "version": "3.10.12"
  }
 },
 "nbformat": 4,
 "nbformat_minor": 2
}
