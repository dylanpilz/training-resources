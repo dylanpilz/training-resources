{
 "cells": [
  {
   "cell_type": "markdown",
   "metadata": {},
   "source": [
    "### Using Jupyter Notebook as a Command Line & Installing Packages\n",
    "Before diving into data visualizations, it's important to understand how to use Jupyter Notebook as a command line to install and manage Python packages.\n",
    "\n"
   ]
  },
  {
   "cell_type": "markdown",
   "metadata": {},
   "source": [
    "Running Shell Commands in Jupyter Notebook\n",
    "In Jupyter Notebook, you can run command-line commands using:\n",
    "\n",
    "! (exclamation mark) → Runs a shell command inside a code cell.\n",
    "\n",
    "%%bash (cell magic) → Runs multiple shell commands in a cell."
   ]
  },
  {
   "cell_type": "code",
   "execution_count": 27,
   "metadata": {},
   "outputs": [
    {
     "name": "stdout",
     "output_type": "stream",
     "text": [
      "Defaulting to user installation because normal site-packages is not writeable\n",
      "Requirement already satisfied: biopython in /usr/lib/python3/dist-packages (1.79)\n"
     ]
    }
   ],
   "source": [
    "## Let's try to install some packages.\n",
    "\n",
    "!pip install biopython"
   ]
  },
  {
   "cell_type": "code",
   "execution_count": 28,
   "metadata": {},
   "outputs": [
    {
     "name": "stdout",
     "output_type": "stream",
     "text": [
      "Defaulting to user installation because normal site-packages is not writeable\n",
      "Requirement already satisfied: matplotlib in /usr/lib/python3/dist-packages (3.5.1)\n"
     ]
    }
   ],
   "source": [
    "# If it's installed you're fine, let's try something else.\n",
    "\n",
    "!pip install matplotlib"
   ]
  },
  {
   "cell_type": "code",
   "execution_count": 38,
   "metadata": {},
   "outputs": [
    {
     "name": "stdout",
     "output_type": "stream",
     "text": [
      "Defaulting to user installation because normal site-packages is not writeable\n",
      "Requirement already satisfied: numpy in /home/analysis/.local/lib/python3.10/site-packages (2.2.3)\n",
      "Requirement already satisfied: pandas in /home/analysis/.local/lib/python3.10/site-packages (2.2.3)\n",
      "Requirement already satisfied: seaborn in /home/analysis/.local/lib/python3.10/site-packages (0.13.2)\n",
      "Requirement already satisfied: tzdata>=2022.7 in /home/analysis/.local/lib/python3.10/site-packages (from pandas) (2025.1)\n",
      "Requirement already satisfied: python-dateutil>=2.8.2 in /home/analysis/.local/lib/python3.10/site-packages (from pandas) (2.9.0.post0)\n",
      "Requirement already satisfied: pytz>=2020.1 in /usr/lib/python3/dist-packages (from pandas) (2022.1)\n",
      "Requirement already satisfied: matplotlib!=3.6.1,>=3.4 in /usr/lib/python3/dist-packages (from seaborn) (3.5.1)\n",
      "Requirement already satisfied: six>=1.5 in /usr/lib/python3/dist-packages (from python-dateutil>=2.8.2->pandas) (1.16.0)\n"
     ]
    }
   ],
   "source": [
    "# Let's install multiple packages!\n",
    "\n",
    "!pip install numpy pandas seaborn"
   ]
  },
  {
   "cell_type": "code",
   "execution_count": 30,
   "metadata": {},
   "outputs": [
    {
     "name": "stdout",
     "output_type": "stream",
     "text": [
      "Package                 Version\r\n",
      "----------------------- ----------------\r\n",
      "appdirs                 1.4.4\r\n",
      "apturl                  0.5.2\r\n",
      "argon2-cffi             21.1.0\r\n",
      "attrs                   21.2.0\r\n",
      "Babel                   2.8.0\r\n",
      "backcall                0.2.0\r\n",
      "bcrypt                  3.2.0\r\n",
      "beautifulsoup4          4.10.0\r\n",
      "beniget                 0.4.1\r\n",
      "biopython               1.79\r\n",
      "bleach                  4.1.0\r\n",
      "blinker                 1.4\r\n",
      "Bottleneck              1.3.2\r\n",
      "Brlapi                  0.8.3\r\n",
      "Brotli                  1.0.9\r\n",
      "BUSCO                   5.2.2\r\n",
      "certifi                 2020.6.20\r\n",
      "chardet                 4.0.0\r\n",
      "click                   8.0.3\r\n",
      "colorama                0.4.4\r\n",
      "coloredlogs             7.3\r\n",
      "colormath               3.0.0\r\n",
      "command-not-found       0.3\r\n",
      "commonmark              0.9.1\r\n",
      "cryptography            3.4.8\r\n",
      "cupshelpers             1.0\r\n",
      "cycler                  0.11.0\r\n",
      "dbus-python             1.2.18\r\n",
      "decorator               4.4.2\r\n",
      "defer                   1.0.6\r\n",
      "defusedxml              0.7.1\r\n",
      "distro                  1.7.0\r\n",
      "distro-info             1.1+ubuntu0.2\r\n",
      "duplicity               0.8.21\r\n",
      "entrypoints             0.4\r\n",
      "et-xmlfile              1.0.1\r\n",
      "fasteners               0.14.1\r\n",
      "fonttools               4.29.1\r\n",
      "fs                      2.4.12\r\n",
      "future                  0.18.2\r\n",
      "gast                    0.5.2\r\n",
      "html5lib                1.1\r\n",
      "httplib2                0.20.2\r\n",
      "humanfriendly           10.0\r\n",
      "idna                    3.3\r\n",
      "importlib-metadata      4.6.4\r\n",
      "iniconfig               1.1.1\r\n",
      "ipykernel               6.7.0\r\n",
      "ipython                 7.31.1\r\n",
      "ipython_genutils        0.2.0\r\n",
      "ipywidgets              6.0.0\r\n",
      "jdcal                   1.0\r\n",
      "jedi                    0.18.0\r\n",
      "jeepney                 0.7.1\r\n",
      "Jinja2                  3.0.3\r\n",
      "joblib                  0.17.0\r\n",
      "jsonschema              3.2.0\r\n",
      "jupyter-client          7.1.2\r\n",
      "jupyter-console         6.4.0\r\n",
      "jupyter-core            4.9.1\r\n",
      "jupyterlab-pygments     0.1.2\r\n",
      "keyring                 23.5.0\r\n",
      "kiwisolver              1.3.2\r\n",
      "language-selector       0.1\r\n",
      "launchpadlib            1.10.16\r\n",
      "lazr.restfulclient      0.14.4\r\n",
      "lazr.uri                1.0.6\r\n",
      "llvmlite                0.38.0\r\n",
      "lockfile                0.12.2\r\n",
      "louis                   3.20.0\r\n",
      "lxml                    4.8.0\r\n",
      "lz4                     3.1.3+dfsg\r\n",
      "lzstring                1.0.4\r\n",
      "macaroonbakery          1.3.1\r\n",
      "Mako                    1.1.3\r\n",
      "Markdown                3.3.6\r\n",
      "MarkupSafe              2.0.1\r\n",
      "matplotlib              3.5.1\r\n",
      "matplotlib-inline       0.1.3\r\n",
      "monotonic               1.6\r\n",
      "more-itertools          8.10.0\r\n",
      "mpmath                  0.0.0\r\n",
      "multiqc                 1.12\r\n",
      "narwhals                1.29.0\r\n",
      "nbclient                0.5.6\r\n",
      "nbconvert               6.4.0\r\n",
      "nbformat                5.1.3\r\n",
      "nest-asyncio            1.5.4\r\n",
      "netifaces               0.11.0\r\n",
      "networkx                2.4\r\n",
      "notebook                6.4.8\r\n",
      "numba                   0.55.1\r\n",
      "numexpr                 2.8.1\r\n",
      "numpy                   2.2.3\r\n",
      "oauthlib                3.2.0\r\n",
      "odfpy                   1.4.2\r\n",
      "olefile                 0.46\r\n",
      "openpyxl                3.0.9\r\n",
      "packaging               21.3\r\n",
      "pandas                  2.2.3\r\n",
      "pandocfilters           1.5.0\r\n",
      "paramiko                2.9.3\r\n",
      "parso                   0.8.1\r\n",
      "pexpect                 4.8.0\r\n",
      "pickleshare             0.7.5\r\n",
      "Pillow                  9.0.1\r\n",
      "pip                     22.0.2\r\n",
      "plotly                  6.0.0\r\n",
      "pluggy                  0.13.0\r\n",
      "ply                     3.11\r\n",
      "prometheus-client       0.9.0\r\n",
      "prompt-toolkit          3.0.28\r\n",
      "protobuf                3.12.4\r\n",
      "psutil                  5.9.0\r\n",
      "ptyprocess              0.7.0\r\n",
      "py                      1.10.0\r\n",
      "pycairo                 1.20.1\r\n",
      "pycups                  2.0.1\r\n",
      "Pygments                2.11.2\r\n",
      "PyGObject               3.42.1\r\n",
      "PyJWT                   2.3.0\r\n",
      "pymacaroons             0.13.0\r\n",
      "PyNaCl                  1.5.0\r\n",
      "pyparsing               2.4.7\r\n",
      "pyRFC3339               1.1\r\n",
      "pyrsistent              0.18.1\r\n",
      "pytest                  6.2.5\r\n",
      "python-apt              2.4.0+ubuntu4\r\n",
      "python-dateutil         2.9.0.post0\r\n",
      "python-debian           0.1.43+ubuntu1.1\r\n",
      "pythran                 0.10.0\r\n",
      "pytz                    2022.1\r\n",
      "pyxdg                   0.27\r\n",
      "PyYAML                  5.4.1\r\n",
      "pyzmq                   22.3.0\r\n",
      "reportlab               3.6.8\r\n",
      "requests                2.25.1\r\n",
      "rich                    11.2.0\r\n",
      "scipy                   1.8.0\r\n",
      "screen-resolution-extra 0.0.0\r\n",
      "seaborn                 0.13.2\r\n",
      "SecretStorage           3.3.1\r\n",
      "Send2Trash              1.8.1b0\r\n",
      "setuptools              59.6.0\r\n",
      "simplejson              3.17.6\r\n",
      "six                     1.16.0\r\n",
      "soupsieve               2.3.1\r\n",
      "spectra                 0.0.11\r\n",
      "sympy                   1.9\r\n",
      "systemd-python          234\r\n",
      "tables                  3.7.0\r\n",
      "terminado               0.13.1\r\n",
      "testpath                0.5.0\r\n",
      "toml                    0.10.2\r\n",
      "tornado                 6.1\r\n",
      "traitlets               5.1.1\r\n",
      "tzdata                  2025.1\r\n",
      "ubuntu-drivers-common   0.0.0\r\n",
      "ubuntu-pro-client       8001\r\n",
      "ufoLib2                 0.13.1\r\n",
      "ufw                     0.36.1\r\n",
      "unattended-upgrades     0.1\r\n",
      "unicodedata2            14.0.0\r\n",
      "urllib3                 1.26.5\r\n",
      "usb-creator             0.3.7\r\n",
      "wadllib                 1.3.6\r\n",
      "wcwidth                 0.2.5\r\n",
      "webencodings            0.5.1\r\n",
      "wheel                   0.37.1\r\n",
      "widgetsnbextension      2.0.0\r\n",
      "xdg                     5\r\n",
      "xkit                    0.0.0\r\n",
      "xlwt                    1.3.0\r\n",
      "zipp                    1.0.0\r\n"
     ]
    }
   ],
   "source": [
    "# Let's check what are the packages installed in this computer.\n",
    "\n",
    "!pip list"
   ]
  },
  {
   "cell_type": "code",
   "execution_count": 31,
   "metadata": {},
   "outputs": [
    {
     "name": "stdout",
     "output_type": "stream",
     "text": [
      "Name: matplotlib\r\n",
      "Version: 3.5.1\r\n",
      "Summary: Python plotting package\r\n",
      "Home-page: https://matplotlib.org\r\n",
      "Author: John D. Hunter, Michael Droettboom\r\n",
      "Author-email: matplotlib-users@python.org\r\n",
      "License: PSF\r\n",
      "Location: /usr/lib/python3/dist-packages\r\n",
      "Requires: \r\n",
      "Required-by: seaborn\r\n"
     ]
    }
   ],
   "source": [
    "# To see a spesific package...\n",
    "\n",
    "!pip show matplotlib"
   ]
  },
  {
   "cell_type": "code",
   "execution_count": 32,
   "metadata": {},
   "outputs": [
    {
     "name": "stdout",
     "output_type": "stream",
     "text": [
      "Defaulting to user installation because normal site-packages is not writeable\n",
      "Requirement already satisfied: pandas in /home/analysis/.local/lib/python3.10/site-packages (2.2.3)\n",
      "Requirement already satisfied: numpy>=1.22.4 in /home/analysis/.local/lib/python3.10/site-packages (from pandas) (2.2.3)\n",
      "Requirement already satisfied: pytz>=2020.1 in /usr/lib/python3/dist-packages (from pandas) (2022.1)\n",
      "Requirement already satisfied: tzdata>=2022.7 in /home/analysis/.local/lib/python3.10/site-packages (from pandas) (2025.1)\n",
      "Requirement already satisfied: python-dateutil>=2.8.2 in /home/analysis/.local/lib/python3.10/site-packages (from pandas) (2.9.0.post0)\n",
      "Requirement already satisfied: six>=1.5 in /usr/lib/python3/dist-packages (from python-dateutil>=2.8.2->pandas) (1.16.0)\n"
     ]
    }
   ],
   "source": [
    "# upgrading a package\n",
    "\n",
    "!pip install --upgrade pandas\n"
   ]
  },
  {
   "cell_type": "markdown",
   "metadata": {},
   "source": [
    "### Using %pip Instead of !pip\n",
    "Jupyter allows %pip magic commands, which are safer inside notebooks\n",
    "\n"
   ]
  },
  {
   "cell_type": "code",
   "execution_count": 33,
   "metadata": {},
   "outputs": [
    {
     "name": "stdout",
     "output_type": "stream",
     "text": [
      "Defaulting to user installation because normal site-packages is not writeable\n",
      "Requirement already satisfied: seaborn in /home/analysis/.local/lib/python3.10/site-packages (0.13.2)\n",
      "Requirement already satisfied: matplotlib!=3.6.1,>=3.4 in /usr/lib/python3/dist-packages (from seaborn) (3.5.1)\n",
      "Requirement already satisfied: numpy!=1.24.0,>=1.20 in /home/analysis/.local/lib/python3.10/site-packages (from seaborn) (2.2.3)\n",
      "Requirement already satisfied: pandas>=1.2 in /home/analysis/.local/lib/python3.10/site-packages (from seaborn) (2.2.3)\n",
      "Requirement already satisfied: pytz>=2020.1 in /usr/lib/python3/dist-packages (from pandas>=1.2->seaborn) (2022.1)\n",
      "Requirement already satisfied: tzdata>=2022.7 in /home/analysis/.local/lib/python3.10/site-packages (from pandas>=1.2->seaborn) (2025.1)\n",
      "Requirement already satisfied: python-dateutil>=2.8.2 in /home/analysis/.local/lib/python3.10/site-packages (from pandas>=1.2->seaborn) (2.9.0.post0)\n",
      "Requirement already satisfied: six>=1.5 in /usr/lib/python3/dist-packages (from python-dateutil>=2.8.2->pandas>=1.2->seaborn) (1.16.0)\n",
      "Note: you may need to restart the kernel to use updated packages.\n"
     ]
    }
   ],
   "source": [
    "%pip install seaborn"
   ]
  },
  {
   "cell_type": "code",
   "execution_count": 34,
   "metadata": {},
   "outputs": [
    {
     "name": "stdout",
     "output_type": "stream",
     "text": [
      "001_introduction.ipynb\t\t  006_data_analytics_introduction.ipynb\r\n",
      "002_input_handling.ipynb\t  data\r\n",
      "003_conditional_statements.ipynb  data_visualisations.ipynb\r\n",
      "004_loops.ipynb\t\t\t  visual_examples\r\n",
      "005_file_input_output.ipynb\r\n"
     ]
    }
   ],
   "source": [
    "# What about command line inputs?\n",
    "\n",
    "!ls"
   ]
  },
  {
   "cell_type": "code",
   "execution_count": 10,
   "metadata": {},
   "outputs": [],
   "source": [
    "# hmm, can I create a file here?"
   ]
  },
  {
   "cell_type": "code",
   "execution_count": null,
   "metadata": {},
   "outputs": [],
   "source": []
  },
  {
   "cell_type": "code",
   "execution_count": 35,
   "metadata": {},
   "outputs": [],
   "source": [
    "# Let's try it\n",
    "!touch hello.py"
   ]
  },
  {
   "cell_type": "code",
   "execution_count": 12,
   "metadata": {},
   "outputs": [
    {
     "name": "stdout",
     "output_type": "stream",
     "text": [
      "001_introduction.ipynb\t\t  006_data_analytics_introduction.ipynb\r\n",
      "002_input_handling.ipynb\t  data\r\n",
      "003_conditional_statements.ipynb  data_visualisations.ipynb\r\n",
      "004_loops.ipynb\t\t\t  extracted_variants.csv\r\n",
      "005_file_input_output.ipynb\t  hello.py\r\n"
     ]
    }
   ],
   "source": [
    "!ls"
   ]
  },
  {
   "cell_type": "code",
   "execution_count": 36,
   "metadata": {},
   "outputs": [
    {
     "name": "stdout",
     "output_type": "stream",
     "text": [
      "/usr/bin/python3\r\n"
     ]
    }
   ],
   "source": [
    "# Can I check the python location? Of course you can\n",
    "\n",
    "!which python3"
   ]
  },
  {
   "cell_type": "code",
   "execution_count": null,
   "metadata": {},
   "outputs": [],
   "source": [
    "# From now on we will dive into the visualisation prepare your eyes!"
   ]
  },
  {
   "cell_type": "markdown",
   "metadata": {},
   "source": [
    "## Steps for Data Visualization in Python\n",
    "\n",
    "Data visualization involves several key steps to ensure the data is properly prepared, analyzed, and effectively visualized. Below is a structured approach you can follow.\n",
    "\n",
    "### Summary of the Steps\n",
    "\n",
    "1. Understand the Data → Check .head(), .info()\n",
    "\n",
    "2. Clean & Preprocess the Data → Handle missing values, fix types\n",
    "\n",
    "3. Choose the Right Visualization → Pick a plot type based on goals\n",
    "\n",
    "4. Create the Plot → Use Matplotlib or Seaborn\n",
    "\n",
    "5. Customize the Visualization → Improve colors, labels, styles\n",
    "\n",
    "6. Add Annotations → Highlight key points\n",
    "\n",
    "7. Use Interactive Plots (Optional) → Plotly, mplcursors\n",
    "\n",
    "8. Save & Export the Figure → .png, .pdf, .svg"
   ]
  },
  {
   "cell_type": "markdown",
   "metadata": {},
   "source": [
    "## Different plots serve different purposes.\n",
    "\n",
    "Distribution of a single variable\tHistogram, KDE Plot\n",
    "\n",
    "Comparing categories\tBar Chart, Box Plot\n",
    "\n",
    "Showing trends over time\tLine Chart\n",
    "\n",
    "Finding relationships\tScatter Plot, Heatmap\n",
    "\n",
    "## Example: Selecting a Visualization\n",
    "\n",
    "Want to see variant quality score distribution? → Use a histogram.\n",
    "\n",
    "Want to compare AMR resistance across genes? → Use a bar chart.\n",
    "\n",
    "Want to explore allele frequency vs. quality? → Use a scatter plot."
   ]
  },
  {
   "cell_type": "code",
   "execution_count": 39,
   "metadata": {},
   "outputs": [],
   "source": [
    "# Don't forget to import modules that you're going to use!\n",
    "\n",
    "import pandas as pd\n",
    "\n",
    "# then the file that you're going to use.\n",
    "\n",
    "vcf_file_path = \"data/test.vcf\"\n",
    "\n",
    "# creating an empyty list\n",
    "vcf_data = []\n",
    "\n",
    "# Open the VCF file and read line by line\n",
    "with open(vcf_file_path, \"r\") as file:\n",
    "    for line in file:\n",
    "        if not line.startswith(\"#\"):  # Ignore metadata and header lines\n",
    "            columns = line.strip().split(\"\\t\")\n",
    "            chrom = columns[0]  # Chromosome\n",
    "            pos = columns[1]  # Position\n",
    "            ref = columns[3]  # Reference allele\n",
    "            alt = columns[4]  # Alternate allele\n",
    "            qual = columns[5]  # Quality score\n",
    "\n",
    "            # Store extracted data\n",
    "            vcf_data.append([chrom, pos, ref, alt, qual])\n",
    "            \n",
    "# Convert extracted data into a DataFrame\n",
    "vcf_df = pd.DataFrame(vcf_data, columns=[\"Chromosome\", \"Position\", \"Reference\", \"Alternate\", \"Quality\"])\n",
    "\n",
    "\n",
    "# Ensure numeric data types for processing\n",
    "vcf_df[\"Position\"] = pd.to_numeric(vcf_df[\"Position\"], errors=\"coerce\")\n",
    "vcf_df[\"Quality\"] = pd.to_numeric(vcf_df[\"Quality\"], errors=\"coerce\")\n",
    "\n"
   ]
  },
  {
   "cell_type": "code",
   "execution_count": 40,
   "metadata": {},
   "outputs": [
    {
     "name": "stderr",
     "output_type": "stream",
     "text": [
      "\n",
      "A module that was compiled using NumPy 1.x cannot be run in\n",
      "NumPy 2.2.3 as it may crash. To support both 1.x and 2.x\n",
      "versions of NumPy, modules must be compiled with NumPy 2.0.\n",
      "Some module may need to rebuild instead e.g. with 'pybind11>=2.12'.\n",
      "\n",
      "If you are a user of the module, the easiest solution will be to\n",
      "downgrade to 'numpy<2' or try to upgrade the affected module.\n",
      "We expect that some modules will need time to support NumPy 2.\n",
      "\n",
      "Traceback (most recent call last):  File \"/usr/lib/python3.10/runpy.py\", line 196, in _run_module_as_main\n",
      "    return _run_code(code, main_globals, None,\n",
      "  File \"/usr/lib/python3.10/runpy.py\", line 86, in _run_code\n",
      "    exec(code, run_globals)\n",
      "  File \"/usr/lib/python3/dist-packages/ipykernel_launcher.py\", line 16, in <module>\n",
      "    app.launch_new_instance()\n",
      "  File \"/usr/lib/python3/dist-packages/traitlets/config/application.py\", line 846, in launch_instance\n",
      "    app.start()\n",
      "  File \"/usr/lib/python3/dist-packages/ipykernel/kernelapp.py\", line 677, in start\n",
      "    self.io_loop.start()\n",
      "  File \"/usr/lib/python3/dist-packages/tornado/platform/asyncio.py\", line 199, in start\n",
      "    self.asyncio_loop.run_forever()\n",
      "  File \"/usr/lib/python3.10/asyncio/base_events.py\", line 603, in run_forever\n",
      "    self._run_once()\n",
      "  File \"/usr/lib/python3.10/asyncio/base_events.py\", line 1909, in _run_once\n",
      "    handle._run()\n",
      "  File \"/usr/lib/python3.10/asyncio/events.py\", line 80, in _run\n",
      "    self._context.run(self._callback, *self._args)\n",
      "  File \"/usr/lib/python3/dist-packages/ipykernel/kernelbase.py\", line 461, in dispatch_queue\n",
      "    await self.process_one()\n",
      "  File \"/usr/lib/python3/dist-packages/ipykernel/kernelbase.py\", line 450, in process_one\n",
      "    await dispatch(*args)\n",
      "  File \"/usr/lib/python3/dist-packages/ipykernel/kernelbase.py\", line 357, in dispatch_shell\n",
      "    await result\n",
      "  File \"/usr/lib/python3/dist-packages/ipykernel/kernelbase.py\", line 652, in execute_request\n",
      "    reply_content = await reply_content\n",
      "  File \"/usr/lib/python3/dist-packages/ipykernel/ipkernel.py\", line 353, in do_execute\n",
      "    res = shell.run_cell(code, store_history=store_history, silent=silent)\n",
      "  File \"/usr/lib/python3/dist-packages/ipykernel/zmqshell.py\", line 532, in run_cell\n",
      "    return super().run_cell(*args, **kwargs)\n",
      "  File \"/usr/lib/python3/dist-packages/IPython/core/interactiveshell.py\", line 2914, in run_cell\n",
      "    result = self._run_cell(\n",
      "  File \"/usr/lib/python3/dist-packages/IPython/core/interactiveshell.py\", line 2960, in _run_cell\n",
      "    return runner(coro)\n",
      "  File \"/usr/lib/python3/dist-packages/IPython/core/async_helpers.py\", line 78, in _pseudo_sync_runner\n",
      "    coro.send(None)\n",
      "  File \"/usr/lib/python3/dist-packages/IPython/core/interactiveshell.py\", line 3185, in run_cell_async\n",
      "    has_raised = await self.run_ast_nodes(code_ast.body, cell_name,\n",
      "  File \"/usr/lib/python3/dist-packages/IPython/core/interactiveshell.py\", line 3377, in run_ast_nodes\n",
      "    if (await self.run_code(code, result,  async_=asy)):\n",
      "  File \"/usr/lib/python3/dist-packages/IPython/core/interactiveshell.py\", line 3457, in run_code\n",
      "    exec(code_obj, self.user_global_ns, self.user_ns)\n",
      "  File \"/tmp/ipykernel_47952/2750021202.py\", line 3, in <module>\n",
      "    import matplotlib.pyplot as plt\n",
      "  File \"/usr/lib/python3/dist-packages/matplotlib/__init__.py\", line 109, in <module>\n",
      "    from . import _api, _version, cbook, docstring, rcsetup\n",
      "  File \"/usr/lib/python3/dist-packages/matplotlib/rcsetup.py\", line 27, in <module>\n",
      "    from matplotlib.colors import Colormap, is_color_like\n",
      "  File \"/usr/lib/python3/dist-packages/matplotlib/colors.py\", line 56, in <module>\n",
      "    from matplotlib import _api, cbook, scale\n",
      "  File \"/usr/lib/python3/dist-packages/matplotlib/scale.py\", line 23, in <module>\n",
      "    from matplotlib.ticker import (\n",
      "  File \"/usr/lib/python3/dist-packages/matplotlib/ticker.py\", line 136, in <module>\n",
      "    from matplotlib import transforms as mtransforms\n",
      "  File \"/usr/lib/python3/dist-packages/matplotlib/transforms.py\", line 46, in <module>\n",
      "    from matplotlib._path import (\n"
     ]
    },
    {
     "ename": "AttributeError",
     "evalue": "_ARRAY_API not found",
     "output_type": "error",
     "traceback": [
      "\u001b[0;31m---------------------------------------------------------------------------\u001b[0m",
      "\u001b[0;31mAttributeError\u001b[0m                            Traceback (most recent call last)",
      "\u001b[0;31mAttributeError\u001b[0m: _ARRAY_API not found"
     ]
    },
    {
     "ename": "ImportError",
     "evalue": "numpy.core.multiarray failed to import",
     "output_type": "error",
     "traceback": [
      "\u001b[0;31m---------------------------------------------------------------------------\u001b[0m",
      "\u001b[0;31mImportError\u001b[0m                               Traceback (most recent call last)",
      "\u001b[0;32m/tmp/ipykernel_47952/2750021202.py\u001b[0m in \u001b[0;36m<module>\u001b[0;34m\u001b[0m\n\u001b[1;32m      1\u001b[0m \u001b[0;31m# Real visualisation starts here...\u001b[0m\u001b[0;34m\u001b[0m\u001b[0;34m\u001b[0m\u001b[0m\n\u001b[1;32m      2\u001b[0m \u001b[0;34m\u001b[0m\u001b[0m\n\u001b[0;32m----> 3\u001b[0;31m \u001b[0;32mimport\u001b[0m \u001b[0mmatplotlib\u001b[0m\u001b[0;34m.\u001b[0m\u001b[0mpyplot\u001b[0m \u001b[0;32mas\u001b[0m \u001b[0mplt\u001b[0m\u001b[0;34m\u001b[0m\u001b[0;34m\u001b[0m\u001b[0m\n\u001b[0m\u001b[1;32m      4\u001b[0m \u001b[0;34m\u001b[0m\u001b[0m\n\u001b[1;32m      5\u001b[0m \u001b[0;34m\u001b[0m\u001b[0m\n",
      "\u001b[0;32m/usr/lib/python3/dist-packages/matplotlib/__init__.py\u001b[0m in \u001b[0;36m<module>\u001b[0;34m\u001b[0m\n\u001b[1;32m    107\u001b[0m \u001b[0;31m# cbook must import matplotlib only within function\u001b[0m\u001b[0;34m\u001b[0m\u001b[0;34m\u001b[0m\u001b[0m\n\u001b[1;32m    108\u001b[0m \u001b[0;31m# definitions, so it is safe to import from it here.\u001b[0m\u001b[0;34m\u001b[0m\u001b[0;34m\u001b[0m\u001b[0m\n\u001b[0;32m--> 109\u001b[0;31m \u001b[0;32mfrom\u001b[0m \u001b[0;34m.\u001b[0m \u001b[0;32mimport\u001b[0m \u001b[0m_api\u001b[0m\u001b[0;34m,\u001b[0m \u001b[0m_version\u001b[0m\u001b[0;34m,\u001b[0m \u001b[0mcbook\u001b[0m\u001b[0;34m,\u001b[0m \u001b[0mdocstring\u001b[0m\u001b[0;34m,\u001b[0m \u001b[0mrcsetup\u001b[0m\u001b[0;34m\u001b[0m\u001b[0;34m\u001b[0m\u001b[0m\n\u001b[0m\u001b[1;32m    110\u001b[0m \u001b[0;32mfrom\u001b[0m \u001b[0mmatplotlib\u001b[0m\u001b[0;34m.\u001b[0m\u001b[0mcbook\u001b[0m \u001b[0;32mimport\u001b[0m \u001b[0mMatplotlibDeprecationWarning\u001b[0m\u001b[0;34m,\u001b[0m \u001b[0msanitize_sequence\u001b[0m\u001b[0;34m\u001b[0m\u001b[0;34m\u001b[0m\u001b[0m\n\u001b[1;32m    111\u001b[0m \u001b[0;32mfrom\u001b[0m \u001b[0mmatplotlib\u001b[0m\u001b[0;34m.\u001b[0m\u001b[0mcbook\u001b[0m \u001b[0;32mimport\u001b[0m \u001b[0mmplDeprecation\u001b[0m  \u001b[0;31m# deprecated\u001b[0m\u001b[0;34m\u001b[0m\u001b[0;34m\u001b[0m\u001b[0m\n",
      "\u001b[0;32m/usr/lib/python3/dist-packages/matplotlib/rcsetup.py\u001b[0m in \u001b[0;36m<module>\u001b[0;34m\u001b[0m\n\u001b[1;32m     25\u001b[0m \u001b[0;32mfrom\u001b[0m \u001b[0mmatplotlib\u001b[0m \u001b[0;32mimport\u001b[0m \u001b[0m_api\u001b[0m\u001b[0;34m,\u001b[0m \u001b[0mcbook\u001b[0m\u001b[0;34m\u001b[0m\u001b[0;34m\u001b[0m\u001b[0m\n\u001b[1;32m     26\u001b[0m \u001b[0;32mfrom\u001b[0m \u001b[0mmatplotlib\u001b[0m\u001b[0;34m.\u001b[0m\u001b[0mcbook\u001b[0m \u001b[0;32mimport\u001b[0m \u001b[0mls_mapper\u001b[0m\u001b[0;34m\u001b[0m\u001b[0;34m\u001b[0m\u001b[0m\n\u001b[0;32m---> 27\u001b[0;31m \u001b[0;32mfrom\u001b[0m \u001b[0mmatplotlib\u001b[0m\u001b[0;34m.\u001b[0m\u001b[0mcolors\u001b[0m \u001b[0;32mimport\u001b[0m \u001b[0mColormap\u001b[0m\u001b[0;34m,\u001b[0m \u001b[0mis_color_like\u001b[0m\u001b[0;34m\u001b[0m\u001b[0;34m\u001b[0m\u001b[0m\n\u001b[0m\u001b[1;32m     28\u001b[0m \u001b[0;32mfrom\u001b[0m \u001b[0mmatplotlib\u001b[0m\u001b[0;34m.\u001b[0m\u001b[0mfontconfig_pattern\u001b[0m \u001b[0;32mimport\u001b[0m \u001b[0mparse_fontconfig_pattern\u001b[0m\u001b[0;34m\u001b[0m\u001b[0;34m\u001b[0m\u001b[0m\n\u001b[1;32m     29\u001b[0m \u001b[0;32mfrom\u001b[0m \u001b[0mmatplotlib\u001b[0m\u001b[0;34m.\u001b[0m\u001b[0m_enums\u001b[0m \u001b[0;32mimport\u001b[0m \u001b[0mJoinStyle\u001b[0m\u001b[0;34m,\u001b[0m \u001b[0mCapStyle\u001b[0m\u001b[0;34m\u001b[0m\u001b[0;34m\u001b[0m\u001b[0m\n",
      "\u001b[0;32m/usr/lib/python3/dist-packages/matplotlib/colors.py\u001b[0m in \u001b[0;36m<module>\u001b[0;34m\u001b[0m\n\u001b[1;32m     54\u001b[0m \u001b[0;32mimport\u001b[0m \u001b[0mmatplotlib\u001b[0m \u001b[0;32mas\u001b[0m \u001b[0mmpl\u001b[0m\u001b[0;34m\u001b[0m\u001b[0;34m\u001b[0m\u001b[0m\n\u001b[1;32m     55\u001b[0m \u001b[0;32mimport\u001b[0m \u001b[0mnumpy\u001b[0m \u001b[0;32mas\u001b[0m \u001b[0mnp\u001b[0m\u001b[0;34m\u001b[0m\u001b[0;34m\u001b[0m\u001b[0m\n\u001b[0;32m---> 56\u001b[0;31m \u001b[0;32mfrom\u001b[0m \u001b[0mmatplotlib\u001b[0m \u001b[0;32mimport\u001b[0m \u001b[0m_api\u001b[0m\u001b[0;34m,\u001b[0m \u001b[0mcbook\u001b[0m\u001b[0;34m,\u001b[0m \u001b[0mscale\u001b[0m\u001b[0;34m\u001b[0m\u001b[0;34m\u001b[0m\u001b[0m\n\u001b[0m\u001b[1;32m     57\u001b[0m \u001b[0;32mfrom\u001b[0m \u001b[0;34m.\u001b[0m\u001b[0m_color_data\u001b[0m \u001b[0;32mimport\u001b[0m \u001b[0mBASE_COLORS\u001b[0m\u001b[0;34m,\u001b[0m \u001b[0mTABLEAU_COLORS\u001b[0m\u001b[0;34m,\u001b[0m \u001b[0mCSS4_COLORS\u001b[0m\u001b[0;34m,\u001b[0m \u001b[0mXKCD_COLORS\u001b[0m\u001b[0;34m\u001b[0m\u001b[0;34m\u001b[0m\u001b[0m\n\u001b[1;32m     58\u001b[0m \u001b[0;34m\u001b[0m\u001b[0m\n",
      "\u001b[0;32m/usr/lib/python3/dist-packages/matplotlib/scale.py\u001b[0m in \u001b[0;36m<module>\u001b[0;34m\u001b[0m\n\u001b[1;32m     21\u001b[0m \u001b[0;32mimport\u001b[0m \u001b[0mmatplotlib\u001b[0m \u001b[0;32mas\u001b[0m \u001b[0mmpl\u001b[0m\u001b[0;34m\u001b[0m\u001b[0;34m\u001b[0m\u001b[0m\n\u001b[1;32m     22\u001b[0m \u001b[0;32mfrom\u001b[0m \u001b[0mmatplotlib\u001b[0m \u001b[0;32mimport\u001b[0m \u001b[0m_api\u001b[0m\u001b[0;34m,\u001b[0m \u001b[0mdocstring\u001b[0m\u001b[0;34m\u001b[0m\u001b[0;34m\u001b[0m\u001b[0m\n\u001b[0;32m---> 23\u001b[0;31m from matplotlib.ticker import (\n\u001b[0m\u001b[1;32m     24\u001b[0m     \u001b[0mNullFormatter\u001b[0m\u001b[0;34m,\u001b[0m \u001b[0mScalarFormatter\u001b[0m\u001b[0;34m,\u001b[0m \u001b[0mLogFormatterSciNotation\u001b[0m\u001b[0;34m,\u001b[0m \u001b[0mLogitFormatter\u001b[0m\u001b[0;34m,\u001b[0m\u001b[0;34m\u001b[0m\u001b[0;34m\u001b[0m\u001b[0m\n\u001b[1;32m     25\u001b[0m     \u001b[0mNullLocator\u001b[0m\u001b[0;34m,\u001b[0m \u001b[0mLogLocator\u001b[0m\u001b[0;34m,\u001b[0m \u001b[0mAutoLocator\u001b[0m\u001b[0;34m,\u001b[0m \u001b[0mAutoMinorLocator\u001b[0m\u001b[0;34m,\u001b[0m\u001b[0;34m\u001b[0m\u001b[0;34m\u001b[0m\u001b[0m\n",
      "\u001b[0;32m/usr/lib/python3/dist-packages/matplotlib/ticker.py\u001b[0m in \u001b[0;36m<module>\u001b[0;34m\u001b[0m\n\u001b[1;32m    134\u001b[0m \u001b[0;32mimport\u001b[0m \u001b[0mmatplotlib\u001b[0m \u001b[0;32mas\u001b[0m \u001b[0mmpl\u001b[0m\u001b[0;34m\u001b[0m\u001b[0;34m\u001b[0m\u001b[0m\n\u001b[1;32m    135\u001b[0m \u001b[0;32mfrom\u001b[0m \u001b[0mmatplotlib\u001b[0m \u001b[0;32mimport\u001b[0m \u001b[0m_api\u001b[0m\u001b[0;34m,\u001b[0m \u001b[0mcbook\u001b[0m\u001b[0;34m\u001b[0m\u001b[0;34m\u001b[0m\u001b[0m\n\u001b[0;32m--> 136\u001b[0;31m \u001b[0;32mfrom\u001b[0m \u001b[0mmatplotlib\u001b[0m \u001b[0;32mimport\u001b[0m \u001b[0mtransforms\u001b[0m \u001b[0;32mas\u001b[0m \u001b[0mmtransforms\u001b[0m\u001b[0;34m\u001b[0m\u001b[0;34m\u001b[0m\u001b[0m\n\u001b[0m\u001b[1;32m    137\u001b[0m \u001b[0;34m\u001b[0m\u001b[0m\n\u001b[1;32m    138\u001b[0m \u001b[0m_log\u001b[0m \u001b[0;34m=\u001b[0m \u001b[0mlogging\u001b[0m\u001b[0;34m.\u001b[0m\u001b[0mgetLogger\u001b[0m\u001b[0;34m(\u001b[0m\u001b[0m__name__\u001b[0m\u001b[0;34m)\u001b[0m\u001b[0;34m\u001b[0m\u001b[0;34m\u001b[0m\u001b[0m\n",
      "\u001b[0;32m/usr/lib/python3/dist-packages/matplotlib/transforms.py\u001b[0m in \u001b[0;36m<module>\u001b[0;34m\u001b[0m\n\u001b[1;32m     44\u001b[0m \u001b[0;34m\u001b[0m\u001b[0m\n\u001b[1;32m     45\u001b[0m \u001b[0;32mfrom\u001b[0m \u001b[0mmatplotlib\u001b[0m \u001b[0;32mimport\u001b[0m \u001b[0m_api\u001b[0m\u001b[0;34m\u001b[0m\u001b[0;34m\u001b[0m\u001b[0m\n\u001b[0;32m---> 46\u001b[0;31m from matplotlib._path import (\n\u001b[0m\u001b[1;32m     47\u001b[0m     affine_transform, count_bboxes_overlapping_bbox, update_path_extents)\n\u001b[1;32m     48\u001b[0m \u001b[0;32mfrom\u001b[0m \u001b[0;34m.\u001b[0m\u001b[0mpath\u001b[0m \u001b[0;32mimport\u001b[0m \u001b[0mPath\u001b[0m\u001b[0;34m\u001b[0m\u001b[0;34m\u001b[0m\u001b[0m\n",
      "\u001b[0;31mImportError\u001b[0m: numpy.core.multiarray failed to import"
     ]
    }
   ],
   "source": [
    "# Real visualisation starts here...\n",
    "\n",
    "import matplotlib.pyplot as plt\n",
    "\n",
    "\n",
    "\n",
    "# Create a histogram for Quality Score distribution\n",
    "plt.figure(figsize=(8, 5))  # Set figure size\n",
    "plt.hist(vcf_df[\"Quality\"], bins=30, color=\"skyblue\", edgecolor=\"black\")  # Plot histogram\n",
    "plt.xlabel(\"Quality Score\")  # X-axis label\n",
    "plt.ylabel(\"Frequency\")  # Y-axis label\n",
    "plt.title(\"Distribution of Quality Scores in VCF Data\")  # Plot title\n",
    "plt.show()  # Display the plot"
   ]
  },
  {
   "cell_type": "markdown",
   "metadata": {},
   "source": [
    "Understanding matplotlib Parameters\n",
    "Encourage participants to modify key parameters one by one and observe the effect.\n",
    "\n",
    "figsize=(width, height)\tControls figure size\tfigsize=(10, 6)\n",
    "\n",
    "bins=\tDefines number of histogram bars\t    bins=50 (more bars)\n",
    "\n",
    "color=\tChanges bar color\t\"red\", \"green\",     \"skyblue\"\n",
    "\n",
    "edgecolor=\tChanges border color of bars\t    \"black\", \"white\"\n",
    "\n",
    "alpha=\t             Adjusts transparency       alpha=0.7 (semi-transparent)"
   ]
  },
  {
   "cell_type": "markdown",
   "metadata": {},
   "source": [
    "### Experimenting with Color Customization"
   ]
  },
  {
   "cell_type": "markdown",
   "metadata": {},
   "source": [
    "Matplotlib supports color names, RGB values, and hex codes.\n",
    "\n"
   ]
  },
  {
   "cell_type": "code",
   "execution_count": 25,
   "metadata": {},
   "outputs": [
    {
     "data": {
      "text/plain": [
       "(array([3., 2., 2., 3., 2., 2., 3., 3., 2., 3., 2., 3., 2., 3., 3., 3., 2.,\n",
       "        2., 3., 2., 2., 2., 3., 2., 2., 2., 3., 2., 2., 3.]),\n",
       " array([ 0.        ,  2.26666667,  4.53333333,  6.8       ,  9.06666667,\n",
       "        11.33333333, 13.6       , 15.86666667, 18.13333333, 20.4       ,\n",
       "        22.66666667, 24.93333333, 27.2       , 29.46666667, 31.73333333,\n",
       "        34.        , 36.26666667, 38.53333333, 40.8       , 43.06666667,\n",
       "        45.33333333, 47.6       , 49.86666667, 52.13333333, 54.4       ,\n",
       "        56.66666667, 58.93333333, 61.2       , 63.46666667, 65.73333333,\n",
       "        68.        ]),\n",
       " <BarContainer object of 30 artists>)"
      ]
     },
     "execution_count": 25,
     "metadata": {},
     "output_type": "execute_result"
    },
    {
     "data": {
      "image/png": "[encoded data removed]",
      "text/plain": [
       "<Figure size 432x288 with 1 Axes>"
      ]
     },
     "metadata": {
      "needs_background": "light"
     },
     "output_type": "display_data"
    }
   ],
   "source": [
    "# Here is the example\n",
    "\n",
    "plt.hist(vcf_df[\"Quality\"], bins=30, color=\"red\", edgecolor=\"black\")\n",
    "\n",
    "# with hex code\n",
    "\n",
    "plt.hist(vcf_df[\"Quality\"], bins=30, color=\"#3498db\", edgecolor=\"#2c3e50\")  # Blue shades\n",
    "\n",
    "# Using RGB\n",
    "plt.hist(vcf_df[\"Quality\"], bins=30, color=(0.2, 0.6, 0.8), edgecolor=(0.1, 0.3, 0.5))\n"
   ]
  },
  {
   "cell_type": "code",
   "execution_count": null,
   "metadata": {},
   "outputs": [],
   "source": [
    "# We can experiment with bins which relates with number of bars.\n",
    "plt.hist(vcf_df[\"Quality\"], bins=10)  # Fewer bars\n",
    "plt.hist(vcf_df[\"Quality\"], bins=50)  # More bars\n",
    "\n",
    "# We can adjust transparency with alpha\n",
    "\n",
    "plt.hist(vcf_df[\"Quality\"], bins=30, color=\"blue\", alpha=0.5)  # 50% transparency\n",
    "\n"
   ]
  },
  {
   "cell_type": "code",
   "execution_count": 26,
   "metadata": {},
   "outputs": [
    {
     "data": {
      "image/png": "[encoded data removed]",
      "text/plain": [
       "<Figure size 720x360 with 1 Axes>"
      ]
     },
     "metadata": {
      "needs_background": "light"
     },
     "output_type": "display_data"
    }
   ],
   "source": [
    "# Final Version...\n",
    "\n",
    "plt.figure(figsize=(10, 5))  # Adjust figure size\n",
    "plt.hist(vcf_df[\"Quality\"], bins=40, color=\"purple\", edgecolor=\"yellow\", alpha=0.8)\n",
    "plt.xlabel(\"Quality Score\", fontsize=14, color=\"darkred\")  # Modify text size & color\n",
    "plt.ylabel(\"Frequency\", fontsize=14, color=\"darkblue\")\n",
    "plt.title(\"Customized Distribution of Quality Scores\", fontsize=16, fontweight=\"bold\")\n",
    "plt.grid(True)  # Add grid for better visibility\n",
    "plt.show()\n"
   ]
  },
  {
   "cell_type": "code",
   "execution_count": null,
   "metadata": {},
   "outputs": [],
   "source": [
    "# CODE PLAYGROUND"
   ]
  },
  {
   "cell_type": "code",
   "execution_count": 40,
   "metadata": {},
   "outputs": [
    {
     "data": {
      "image/png": "[encoded data removed]",
      "text/plain": [
       "<Figure size 576x360 with 1 Axes>"
      ]
     },
     "metadata": {
      "needs_background": "light"
     },
     "output_type": "display_data"
    }
   ],
   "source": [
    "plt.figure(figsize=(8, 5))\n",
    "plt.hist(vcf_df[\"Quality\"], bins=30, color=\"skyblue\", edgecolor=\"black\")\n",
    "\n",
    "# Highlight quality scores above 50\n",
    "plt.axvline(x=50, color=\"red\", linestyle=\"dashed\", linewidth=2)  \n",
    "plt.text(52, 1, \"Threshold = 50\", fontsize=12, color=\"red\")\n",
    "\n",
    "plt.xlabel(\"Quality Score\")\n",
    "plt.ylabel(\"Frequency\")\n",
    "plt.title(\"Distribution of Quality Scores\")\n",
    "plt.show()\n"
   ]
  },
  {
   "cell_type": "markdown",
   "metadata": {},
   "source": [
    "Summary\n",
    "\n",
    "✔ Use plt.text() for simple labels.\n",
    "\n",
    "✔ Use plt.annotate() for arrows and text positioning.\n",
    "\n",
    "✔ Use plt.axvline() or plt.axhline() to mark thresholds.\n",
    "\n",
    "✔ Loop through data for dynamic annotations.\n"
   ]
  },
  {
   "cell_type": "markdown",
   "metadata": {},
   "source": [
    "# Add different visualisation types with different data types."
   ]
  },
  {
   "cell_type": "code",
   "execution_count": null,
   "metadata": {},
   "outputs": [],
   "source": [
    "# CODE PLAYGROUND"
   ]
  },
  {
   "cell_type": "markdown",
   "metadata": {},
   "source": [
    "# Problem 1: Visualizing AMR Gene Distribution\n",
    "### Scenario\n",
    "You are analyzing an **Antimicrobial Resistance (AMR) dataset** and want to understand the **distribution of different resistance genes** in the dataset.\n",
    "\n",
    "### Task\n",
    "Write a Python script that:\n",
    "1. **Reads an AMR dataset (CSV file)** containing gene names and resistance classes.\n",
    "2. **Counts the occurrences of each resistance class** in the dataset.\n",
    "3. **Creates a bar chart** to visualize the number of genes in each resistance class using **Matplotlib or Seaborn**.\n",
    "4. **Adds appropriate labels and titles** for better readability.\n",
    "\n",
    "### Example Input (AMR Dataset Sample)\n",
    "| Sample_ID | Gene      | Resistance_Class |\n",
    "|-----------|----------|------------------|\n",
    "| Sample_1  | blaCTX-M | Beta-lactam      |\n",
    "| Sample_2  | mecA     | Methicillin      |\n",
    "| Sample_3  | tetM     | Tetracycline     |\n",
    "| Sample_4  | aadA1    | Aminoglycoside   |\n",
    "| Sample_5  | ermB     | Macrolide        |\n",
    "\n",
    "###  Expected Output\n",
    "A **bar chart** showing the count of genes in each **resistance class**.\n"
   ]
  },
  {
   "cell_type": "code",
   "execution_count": null,
   "metadata": {},
   "outputs": [],
   "source": [
    "# CODE PLAYGROUND"
   ]
  },
  {
   "cell_type": "code",
   "execution_count": null,
   "metadata": {},
   "outputs": [],
   "source": [
    "# CODE PLAYGROUND"
   ]
  },
  {
   "cell_type": "markdown",
   "metadata": {},
   "source": [
    "# Problem 2: Analyzing Variant Quality Scores\n",
    "### Scenario\n",
    "You are analyzing **genetic variant data** from a **VCF file** and want to examine the **quality scores** of the variants.\n",
    "\n",
    "### Task\n",
    "Write a Python script that:\n",
    "1. **Reads a VCF file** and extracts **variant quality scores**.\n",
    "2. **Plots a histogram** of the quality scores using **Matplotlib or Seaborn**.\n",
    "3. **Highlights the threshold** (e.g., quality > 50) with a vertical dashed line.\n",
    "4. **Adds labels, titles, and improves the visualization** for clarity.\n",
    "\n",
    "### Example Input (VCF File Sample)\n",
    "| Chromosome | Position | Reference | Alternate | Quality |\n",
    "|------------|----------|-----------|-----------|---------|\n",
    "| NC_045512.2 | 1055     | G         | A         | 1592    |\n",
    "| NC_045512.2 | 1267     | C         | T         | 9741    |\n",
    "| NC_045512.2 | 2184     | A         | C         | 154     |\n",
    "| NC_045512.2 | 2973     | C         | T         | 1395    |\n",
    "| NC_045512.2 | 3037     | C         | T         | 13537   |\n",
    "\n",
    "### Expected Output\n",
    "A **histogram** showing the **distribution of variant quality scores**, with a **dashed vertical line marking quality 50**.\n"
   ]
  },
  {
   "cell_type": "code",
   "execution_count": null,
   "metadata": {},
   "outputs": [],
   "source": [
    "# CODE PLAYGROUND"
   ]
  },
  {
   "cell_type": "code",
   "execution_count": null,
   "metadata": {},
   "outputs": [],
   "source": [
    "# CODE PLAYGROUND"
   ]
  },
  {
   "cell_type": "code",
   "execution_count": null,
   "metadata": {},
   "outputs": [],
   "source": [
    "# CODE PLAYGROUND"
   ]
  },
  {
   "cell_type": "code",
   "execution_count": null,
   "metadata": {},
   "outputs": [],
   "source": [
    "# **Solution for Problem 1: Visualizing AMR Gene Distribution**\n",
    "\n",
    "import pandas as pd\n",
    "import matplotlib.pyplot as plt\n",
    "import seaborn as sns\n",
    "\n",
    "# Load the AMR dataset\n",
    "amr_df = pd.read_csv(\"data/Synthetic_AMR_Dataset.csv\")\n",
    "\n",
    "# Count occurrences of each resistance class\n",
    "resistance_counts = amr_df[\"Resistance_Class\"].value_counts()\n",
    "\n",
    "# Plot bar chart\n",
    "plt.figure(figsize=(10, 6))\n",
    "sns.barplot(x=resistance_counts.index, y=resistance_counts.values, palette=\"viridis\")\n",
    "\n",
    "# Customize the chart\n",
    "plt.xlabel(\"Resistance Class\", fontsize=14)\n",
    "plt.ylabel(\"Number of Genes\", fontsize=14)\n",
    "plt.title(\"Distribution of AMR Genes by Resistance Class\", fontsize=16, fontweight=\"bold\")\n",
    "plt.xticks(rotation=45)\n",
    "plt.grid(axis=\"y\", linestyle=\"--\", alpha=0.7)\n",
    "\n",
    "# Show the plot\n",
    "plt.show()\n"
   ]
  },
  {
   "cell_type": "code",
   "execution_count": null,
   "metadata": {},
   "outputs": [],
   "source": [
    "# CODE PLAYGROUND"
   ]
  },
  {
   "cell_type": "code",
   "execution_count": null,
   "metadata": {},
   "outputs": [],
   "source": [
    "# **Solution for Problem 2: Analyzing Variant Quality Scores**\n",
    "\n",
    "import pandas as pd\n",
    "import matplotlib.pyplot as plt\n",
    "\n",
    "# Load the VCF file (assuming tab-separated format)\n",
    "vcf_df = pd.read_csv(\"data/test.vcf\", sep=\"\\t\", comment=\"#\", header=None)\n",
    "\n",
    "# Extract relevant columns (Assuming VCF format: Chrom, Pos, ID, Ref, Alt, Qual, ...)\n",
    "vcf_df.columns = [\"Chromosome\", \"Position\", \"ID\", \"Reference\", \"Alternate\", \"Quality\"] + list(range(len(vcf_df.columns) - 6))\n",
    "\n",
    "# Convert Quality column to numeric\n",
    "vcf_df[\"Quality\"] = pd.to_numeric(vcf_df[\"Quality\"], errors=\"coerce\")\n",
    "\n",
    "# Create histogram of quality scores\n",
    "plt.figure(figsize=(10, 6))\n",
    "plt.hist(vcf_df[\"Quality\"], bins=30, color=\"skyblue\", edgecolor=\"black\", alpha=0.8)\n",
    "\n",
    "# Highlight quality threshold\n",
    "plt.axvline(x=50, color=\"red\", linestyle=\"dashed\", linewidth=2)\n",
    "plt.text(52, 10, \"Threshold = 50\", fontsize=12, color=\"red\")\n",
    "\n",
    "# Customize labels and title\n",
    "plt.xlabel(\"Quality Score\", fontsize=14)\n",
    "plt.ylabel(\"Frequency\", fontsize=14)\n",
    "plt.title(\"Distribution of Variant Quality Scores\", fontsize=16, fontweight=\"bold\")\n",
    "plt.grid(axis=\"y\", linestyle=\"--\", alpha=0.7)\n",
    "\n",
    "# Show the plot\n",
    "plt.show()\n"
   ]
  },
  {
   "cell_type": "code",
   "execution_count": null,
   "metadata": {},
   "outputs": [],
   "source": [
    "# CODE PLAYGROUND"
   ]
  }
 ],
 "metadata": {
  "kernelspec": {
   "display_name": "Python 3 (ipykernel)",
   "language": "python",
   "name": "python3"
  },
  "language_info": {
   "codemirror_mode": {
    "name": "ipython",
    "version": 3
   },
   "file_extension": ".py",
   "mimetype": "text/x-python",
   "name": "python",
   "nbconvert_exporter": "python",
   "pygments_lexer": "ipython3",
   "version": "3.10.12"
  }
 },
 "nbformat": 4,
 "nbformat_minor": 2
}
